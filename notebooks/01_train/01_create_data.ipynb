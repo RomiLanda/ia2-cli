{
 "cells": [
  {
   "cell_type": "code",
   "execution_count": null,
   "id": "aa92b2b0-c77c-473f-8085-0a170923357e",
   "metadata": {},
   "outputs": [],
   "source": [
    "import spacy\n",
    "import json\n",
    "from spacy.tokens import DocBin"
   ]
  },
  {
   "cell_type": "markdown",
   "id": "8a0379fc-7144-47e7-9ea6-a3aae99223b2",
   "metadata": {},
   "source": [
    "#### Import dataset"
   ]
  },
  {
   "cell_type": "code",
   "execution_count": null,
   "id": "054be28b-e107-48fc-a88b-a1e6458df9fc",
   "metadata": {},
   "outputs": [],
   "source": [
    "path_data_training= '/resources/datasets/unified/training_.json'\n",
    "path_data_validation = '/resources/datasets/unified/validation_.json'\n",
    "path_data_testing = '/resources/datasets/unified/test.json'"
   ]
  },
  {
   "cell_type": "code",
   "execution_count": null,
   "id": "eca4afce-6329-4f31-b692-6cb863b2c7b7",
   "metadata": {},
   "outputs": [],
   "source": [
    "with open(path_data_training) as f:\n",
    "    training_data = json.load(f)\n",
    "\n",
    "with open(path_data_validation) as f:\n",
    "    validation_data = json.load(f)\n",
    "\n",
    "with open(path_data_testing) as f:\n",
    "    testing_data = json.load(f)"
   ]
  },
  {
   "cell_type": "code",
   "execution_count": null,
   "id": "53a7d970-ea47-40d5-b60d-7cadd6131f17",
   "metadata": {},
   "outputs": [],
   "source": [
    "print(f'Train: {len(training_data)}\\nValidation: {len(validation_data)}\\nTest: {len(testing_data)}')"
   ]
  },
  {
   "cell_type": "markdown",
   "id": "93062fc1-7389-4167-927c-083c6f5c9db8",
   "metadata": {},
   "source": [
    "#### Create DocBin"
   ]
  },
  {
   "cell_type": "code",
   "execution_count": null,
   "id": "872d8a79-da06-4c89-81ac-235cf40bfaec",
   "metadata": {},
   "outputs": [],
   "source": [
    "def make_docbin(data, outputFile):\n",
    "    \"\"\"\n",
    "    data: .json\n",
    "    outputFile: str\n",
    "    \"\"\"\n",
    "    nlp = spacy.blank(\"es\") \n",
    "    db = DocBin()\n",
    "    for text, annot in data:\n",
    "        doc = nlp.make_doc(text) \n",
    "        ents = []\n",
    "        for element in annot[\"entities\"]:\n",
    "            for start, end, label in [element]:\n",
    "                span = doc.char_span(start,end,label=label,alignment_mode=\"contract\")\n",
    "                if span is None:\n",
    "                    print(\"Skipping entity\")\n",
    "                else:\n",
    "                    ents.append(span)\n",
    "        doc.ents = ents\n",
    "        db.add(doc)\n",
    "    db.to_disk(f\"{outputFile}.spacy\")\n",
    "    return f\"Processed {len(db)}\""
   ]
  },
  {
   "cell_type": "code",
   "execution_count": null,
   "id": "d7f23a9d-6dec-496d-ab69-269975f769c5",
   "metadata": {},
   "outputs": [],
   "source": [
    "output_train = '/resources/datasets/docbin/train'\n",
    "output_val = '/resources/datasets/docbin/val'\n",
    "output_test = '/resources/datasets/docbin/test'"
   ]
  },
  {
   "cell_type": "code",
   "execution_count": null,
   "id": "2b7ee008-024e-4534-854b-a10de13a8a30",
   "metadata": {},
   "outputs": [],
   "source": [
    "# Create docBin Train\n",
    "make_docbin(training_data, output_train)"
   ]
  },
  {
   "cell_type": "code",
   "execution_count": null,
   "id": "1c1bc925-675e-4d6a-80bc-331337bdde26",
   "metadata": {},
   "outputs": [],
   "source": [
    "# Create docBin Val\n",
    "make_docbin(validation_data, output_val)"
   ]
  },
  {
   "cell_type": "code",
   "execution_count": null,
   "id": "8eb536ca-4fdf-447f-adef-7c4cfea1b454",
   "metadata": {},
   "outputs": [],
   "source": [
    "# Create docBin test\n",
    "make_docbin(testing_data, output_test)"
   ]
  },
  {
   "cell_type": "code",
   "execution_count": null,
   "id": "7a70ad39-cfe7-473c-9f0a-81ff2d72e466",
   "metadata": {},
   "outputs": [],
   "source": []
  }
 ],
 "metadata": {
  "kernelspec": {
   "display_name": "Python 3 (ipykernel)",
   "language": "python",
   "name": "python3"
  },
  "language_info": {
   "codemirror_mode": {
    "name": "ipython",
    "version": 3
   },
   "file_extension": ".py",
   "mimetype": "text/x-python",
   "name": "python",
   "nbconvert_exporter": "python",
   "pygments_lexer": "ipython3",
   "version": "3.10.7"
  }
 },
 "nbformat": 4,
 "nbformat_minor": 5
}
