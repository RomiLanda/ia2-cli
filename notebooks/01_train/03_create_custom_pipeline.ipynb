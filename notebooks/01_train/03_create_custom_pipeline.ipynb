{
 "cells": [
  {
   "cell_type": "code",
   "execution_count": null,
   "id": "b0430336-bd64-48fe-9eff-fe667eb3410c",
   "metadata": {
    "tags": []
   },
   "outputs": [],
   "source": [
    "import spacy\n",
    "import json"
   ]
  },
  {
   "cell_type": "markdown",
   "id": "57689ef7-745e-475c-9586-2ed363f2e5f3",
   "metadata": {},
   "source": [
    "### Load models"
   ]
  },
  {
   "cell_type": "code",
   "execution_count": null,
   "id": "f82ef736-9d6e-468b-9635-5522d84dee30",
   "metadata": {
    "tags": []
   },
   "outputs": [],
   "source": [
    "nlp_ner = spacy.load('/src/ia2/ia2/models/ner/model-best')"
   ]
  },
  {
   "cell_type": "code",
   "execution_count": null,
   "id": "df3b6dd2-6905-453c-a583-dc13fa551ca8",
   "metadata": {
    "tags": []
   },
   "outputs": [],
   "source": [
    "nlp_ner.pipe_names"
   ]
  },
  {
   "cell_type": "code",
   "execution_count": null,
   "id": "38c0756b-11cb-4e7c-9a86-08a36d9eb894",
   "metadata": {
    "tags": []
   },
   "outputs": [],
   "source": [
    "nlp_pipe= spacy.load('/src/ia2/ia2/models/all_pipe_t2v_ner/model-best')"
   ]
  },
  {
   "cell_type": "code",
   "execution_count": null,
   "id": "8fbdfb0b-72a2-42f0-a995-0120da13b04e",
   "metadata": {
    "tags": []
   },
   "outputs": [],
   "source": [
    "nlp_pipe.pipe_names"
   ]
  },
  {
   "cell_type": "markdown",
   "id": "56bc01b4-5a78-4709-aafc-6910c3535b7d",
   "metadata": {},
   "source": [
    "### Add morphologizer and parser in NER pipeline"
   ]
  },
  {
   "cell_type": "code",
   "execution_count": null,
   "id": "16b0678a-fa13-4417-8bda-27c62b783e40",
   "metadata": {
    "tags": []
   },
   "outputs": [],
   "source": [
    "nlp_ner.add_pipe('morphologizer', after='tok2vec', source=nlp_pipe)"
   ]
  },
  {
   "cell_type": "code",
   "execution_count": null,
   "id": "16214c9b-77f9-447f-bf4c-b051e1d994ae",
   "metadata": {
    "tags": []
   },
   "outputs": [],
   "source": [
    "nlp_ner.pipe_names"
   ]
  },
  {
   "cell_type": "code",
   "execution_count": null,
   "id": "bc364d92-249e-4cf9-9407-c77f4b5ef9c2",
   "metadata": {
    "tags": []
   },
   "outputs": [],
   "source": [
    "nlp_ner.add_pipe('parser', after='morphologizer', source=nlp_pipe)"
   ]
  },
  {
   "cell_type": "markdown",
   "id": "c8c3a28f-f53a-431f-b8ea-ae74655f8f6a",
   "metadata": {},
   "source": [
    "### Add EntityRuler in NER pipeline"
   ]
  },
  {
   "cell_type": "code",
   "execution_count": null,
   "id": "1e362cda-c0f2-43aa-8c90-10457ea076c8",
   "metadata": {
    "tags": []
   },
   "outputs": [],
   "source": [
    "from spacy.pipeline import EntityRuler\n",
    "from ia2.pipeline.entity_ruler import fetch_ruler_patterns_by_tag\n",
    "\n",
    "pipelines_tag = \"todas\"\n",
    "\n",
    "ruler = nlp_ner.add_pipe(\"entity_ruler\", before='ner')\n",
    "ruler.add_patterns(fetch_ruler_patterns_by_tag(pipelines_tag))"
   ]
  },
  {
   "cell_type": "code",
   "execution_count": null,
   "id": "0c6d60f8-8c1c-4bd2-82d5-6d32fdc62f8c",
   "metadata": {
    "tags": []
   },
   "outputs": [],
   "source": [
    "nlp_ner.pipe_names"
   ]
  },
  {
   "cell_type": "code",
   "execution_count": null,
   "id": "5b802760-a264-4af5-9a53-b2af18b64993",
   "metadata": {
    "tags": []
   },
   "outputs": [],
   "source": [
    "nlp_ner.get_pipe('ner').labels"
   ]
  },
  {
   "cell_type": "code",
   "execution_count": null,
   "id": "e019faed-2245-4513-a67a-c0db63c984cb",
   "metadata": {
    "tags": []
   },
   "outputs": [],
   "source": [
    "nlp_ner.get_pipe('entity_ruler').labels"
   ]
  },
  {
   "cell_type": "markdown",
   "id": "170a3386-546d-4caf-889c-22c5e9f7719a",
   "metadata": {},
   "source": [
    "### Add entity_matcher in NER pipeline"
   ]
  },
  {
   "cell_type": "code",
   "execution_count": null,
   "id": "1213c7fc-ae58-4cb0-9bc4-22e5e2f08b43",
   "metadata": {
    "tags": []
   },
   "outputs": [],
   "source": [
    "from ia2.pipeline.entity_matcher import (EntityMatcher, matcher_patterns, fetch_cb_by_tag)\n",
    "\n",
    "entity_matcher = nlp_ner.add_pipe(\"matcher\")"
   ]
  },
  {
   "cell_type": "code",
   "execution_count": null,
   "id": "ff2dc980-eef2-4bfc-8b3f-a83d2dae91ce",
   "metadata": {
    "tags": []
   },
   "outputs": [],
   "source": [
    "# from ia2.pipeline.entity_matcher import (EntityMatcher, matcher_patterns, fetch_cb_by_tag)\n",
    "\n",
    "# entity_matcher = EntityMatcher(\n",
    "#             nlp_ner,\n",
    "#             matcher_patterns,\n",
    "#             after_callbacks=[cb(nlp_ner) for cb in fetch_cb_by_tag(pipelines_tag)],\n",
    "#         )"
   ]
  },
  {
   "cell_type": "code",
   "execution_count": null,
   "id": "13acbfc8-6d5b-4066-84db-6440cea57b8d",
   "metadata": {
    "tags": []
   },
   "outputs": [],
   "source": [
    "nlp_ner.pipe_names"
   ]
  },
  {
   "cell_type": "markdown",
   "id": "64d8344b-786a-46af-81e3-14e470b20a90",
   "metadata": {},
   "source": [
    "### Add entity_custom in NER pipeline"
   ]
  },
  {
   "cell_type": "code",
   "execution_count": null,
   "id": "0a2a5d52-3651-4d5f-964d-aaa9cc0266d0",
   "metadata": {
    "tags": []
   },
   "outputs": [],
   "source": [
    "from ia2.pipeline.entity_custom import EntityCustom\n",
    "\n",
    "# entity_custom = EntityCustom(nlp_ner, pipelines_tag)"
   ]
  },
  {
   "cell_type": "code",
   "execution_count": null,
   "id": "38d66390-0922-42d3-b1ba-f48a8099cda1",
   "metadata": {},
   "outputs": [],
   "source": [
    "nlp_ner.add_pipe(\"matcher_custom\")"
   ]
  },
  {
   "cell_type": "code",
   "execution_count": null,
   "id": "ffa5e1e7-160a-4517-b561-10244d3dc54d",
   "metadata": {
    "tags": []
   },
   "outputs": [],
   "source": [
    "nlp_ner.pipe_names"
   ]
  },
  {
   "cell_type": "markdown",
   "id": "81383dc2-0cd1-49b0-bf63-5a0efc8a7a9f",
   "metadata": {},
   "source": [
    "### Save custom model"
   ]
  },
  {
   "cell_type": "code",
   "execution_count": null,
   "id": "e9728d9e-a8b5-441e-b5cf-f5461cdb2965",
   "metadata": {},
   "outputs": [],
   "source": [
    "nlp_ner.to_disk('/src/ia2/ia2/models/custom_model_v2')"
   ]
  },
  {
   "cell_type": "markdown",
   "id": "c7c5b78a-bad0-4bcd-9f16-68b1f36c61d6",
   "metadata": {},
   "source": [
    "### Evaluate custom model"
   ]
  },
  {
   "cell_type": "code",
   "execution_count": null,
   "id": "e23c9aae-6e00-49c0-8813-0afb66ad4122",
   "metadata": {
    "tags": []
   },
   "outputs": [],
   "source": [
    "! python -m spacy evaluate /src/ia2/ia2/models/custom_model_v2  /resources/datasets/docbin/test.spacy --output /resources/ouputs/metrics/custom_model/metics_v2.json --gold-preproc --code /src/ia2/ia2/pipeline/__init__.py --displacy-path /resources/ouputs/displacy/custom_model_v2 --displacy-limit 15"
   ]
  },
  {
   "cell_type": "code",
   "execution_count": null,
   "id": "e3630992-bdfc-43fc-b1e5-8a8678b555e3",
   "metadata": {
    "tags": []
   },
   "outputs": [],
   "source": [
    "! python -m spacy evaluate /src/ia2/ia2/models/custom_model  /resources/datasets/docbin/test.spacy --output /resources/ouputs/metrics/custom_model/metics_custom.json --gold-preproc --displacy-path /resources/ouputs/displacy/custom_model --displacy-limit 15"
   ]
  },
  {
   "cell_type": "code",
   "execution_count": null,
   "id": "7afb40bf-688a-47a0-af4b-f3a5815b5aaf",
   "metadata": {
    "tags": []
   },
   "outputs": [],
   "source": [
    "path_data_testing = '/resources/datasets/unified/test.json'\n",
    "with open(path_data_testing) as f:\n",
    "    testing_data = json.load(f)"
   ]
  },
  {
   "cell_type": "code",
   "execution_count": null,
   "id": "21eb4c51-29f9-46ff-89dc-b3791eb597f4",
   "metadata": {
    "tags": []
   },
   "outputs": [],
   "source": [
    "text = testing_data[3][0]\n",
    "doc = nlp_ner(text)"
   ]
  },
  {
   "cell_type": "code",
   "execution_count": null,
   "id": "b77133e5-b4bd-436a-bd3d-186cde3666b5",
   "metadata": {
    "tags": []
   },
   "outputs": [],
   "source": [
    "doc.ents"
   ]
  },
  {
   "cell_type": "code",
   "execution_count": null,
   "id": "8d0dec29-baab-44e3-8d59-d96a193073ca",
   "metadata": {
    "tags": []
   },
   "outputs": [],
   "source": [
    "len(doc.ents)"
   ]
  },
  {
   "cell_type": "code",
   "execution_count": null,
   "id": "4d8197c4-b6b6-4e8e-a0c3-5e6aedeea61d",
   "metadata": {
    "tags": []
   },
   "outputs": [],
   "source": [
    "spacy.displacy.render(doc, style='ent', jupyter=True)"
   ]
  },
  {
   "cell_type": "markdown",
   "id": "89a2f999-d5ec-4c7d-b536-54f371434173",
   "metadata": {},
   "source": [
    "### Deploy custom model"
   ]
  },
  {
   "cell_type": "code",
   "execution_count": null,
   "id": "c2de7fad-0f88-4c61-8fd4-362fe1a45cba",
   "metadata": {},
   "outputs": [],
   "source": [
    "! python -m spacy package /src/ia2/ia2/models/custom_model_v2 /src/ia2 --code /src/ia2/ia2/pipeline/__init__.py"
   ]
  }
 ],
 "metadata": {
  "kernelspec": {
   "display_name": "Python 3 (ipykernel)",
   "language": "python",
   "name": "python3"
  },
  "language_info": {
   "codemirror_mode": {
    "name": "ipython",
    "version": 3
   },
   "file_extension": ".py",
   "mimetype": "text/x-python",
   "name": "python",
   "nbconvert_exporter": "python",
   "pygments_lexer": "ipython3",
   "version": "3.10.8"
  }
 },
 "nbformat": 4,
 "nbformat_minor": 5
}
