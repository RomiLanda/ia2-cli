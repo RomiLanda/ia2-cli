{
 "cells": [
  {
   "cell_type": "code",
   "execution_count": 2,
   "id": "5c4e3af5-c5b8-46a9-976d-74fff1eab4e6",
   "metadata": {
    "execution": {
     "iopub.execute_input": "2023-02-08T20:44:45.010942Z",
     "iopub.status.busy": "2023-02-08T20:44:45.010313Z",
     "iopub.status.idle": "2023-02-08T20:44:46.892637Z",
     "shell.execute_reply": "2023-02-08T20:44:46.892158Z",
     "shell.execute_reply.started": "2023-02-08T20:44:45.010917Z"
    },
    "tags": []
   },
   "outputs": [],
   "source": [
    "import spacy\n",
    "import json"
   ]
  },
  {
   "cell_type": "markdown",
   "id": "01f3bdd5-c564-43d3-8868-f03fb11fb500",
   "metadata": {
    "tags": []
   },
   "source": [
    "## Train CPU: NER + morphologizer"
   ]
  },
  {
   "cell_type": "markdown",
   "id": "8efb23cc-11fa-4f1f-9fb2-2985f421b5db",
   "metadata": {
    "execution": {
     "iopub.execute_input": "2022-10-18T18:44:31.773606Z",
     "iopub.status.busy": "2022-10-18T18:44:31.773115Z",
     "iopub.status.idle": "2022-10-18T18:44:31.775886Z",
     "shell.execute_reply": "2022-10-18T18:44:31.775469Z",
     "shell.execute_reply.started": "2022-10-18T18:44:31.773553Z"
    }
   },
   "source": [
    "#### Download base model"
   ]
  },
  {
   "cell_type": "code",
   "execution_count": null,
   "id": "e057f9b7-d6a1-42f9-bd45-2b8bcecdef3a",
   "metadata": {
    "tags": []
   },
   "outputs": [],
   "source": [
    "# !python -m spacy download es_core_news_lg"
   ]
  },
  {
   "cell_type": "markdown",
   "id": "ab5a0ed9-1cf4-428d-a1c3-67d65e5bd756",
   "metadata": {
    "execution": {
     "iopub.execute_input": "2022-10-18T18:45:44.367304Z",
     "iopub.status.busy": "2022-10-18T18:45:44.366723Z",
     "iopub.status.idle": "2022-10-18T18:45:44.369507Z",
     "shell.execute_reply": "2022-10-18T18:45:44.369120Z",
     "shell.execute_reply.started": "2022-10-18T18:45:44.367283Z"
    }
   },
   "source": [
    "#### Train model"
   ]
  },
  {
   "cell_type": "code",
   "execution_count": null,
   "id": "828ebb9e-f5f4-4f37-af1a-e1db6311562c",
   "metadata": {
    "tags": []
   },
   "outputs": [],
   "source": [
    "! python -m spacy train config_NER-MORF.cfg --output /src/ia2/ia2/models/ner_mor/  --paths.train /resources/datasets/docbin/train.spacy --paths.dev /resources/datasets/docbin/val.spacy"
   ]
  },
  {
   "cell_type": "markdown",
   "id": "9b858148-c349-42ba-9879-b662c9eb2dc3",
   "metadata": {},
   "source": [
    "## Load Best Model"
   ]
  },
  {
   "cell_type": "code",
   "execution_count": 3,
   "id": "0580d61a-087c-4682-8a4f-3fc78dab8b5d",
   "metadata": {
    "execution": {
     "iopub.execute_input": "2023-02-08T20:44:47.961550Z",
     "iopub.status.busy": "2023-02-08T20:44:47.961061Z",
     "iopub.status.idle": "2023-02-08T20:44:48.834619Z",
     "shell.execute_reply": "2023-02-08T20:44:48.833874Z",
     "shell.execute_reply.started": "2023-02-08T20:44:47.961532Z"
    },
    "tags": []
   },
   "outputs": [],
   "source": [
    "nlp_ner = spacy.load('/src/ia2/ia2/models/ner_mor/model-best')"
   ]
  },
  {
   "cell_type": "code",
   "execution_count": 4,
   "id": "e0204271-62bb-4ebd-9483-0ddf245b79ae",
   "metadata": {
    "execution": {
     "iopub.execute_input": "2023-02-08T20:44:53.026813Z",
     "iopub.status.busy": "2023-02-08T20:44:53.026244Z",
     "iopub.status.idle": "2023-02-08T20:44:53.032711Z",
     "shell.execute_reply": "2023-02-08T20:44:53.032162Z",
     "shell.execute_reply.started": "2023-02-08T20:44:53.026788Z"
    },
    "tags": []
   },
   "outputs": [
    {
     "data": {
      "text/plain": [
       "('ARTÍCULO', 'DIRECCIÓN', 'LOC', 'PER')"
      ]
     },
     "execution_count": 4,
     "metadata": {},
     "output_type": "execute_result"
    }
   ],
   "source": [
    "nlp_ner.get_pipe('ner').labels"
   ]
  },
  {
   "cell_type": "code",
   "execution_count": 5,
   "id": "de4659a3-2893-424d-a051-f9e47703a10e",
   "metadata": {
    "execution": {
     "iopub.execute_input": "2023-02-08T20:44:53.932037Z",
     "iopub.status.busy": "2023-02-08T20:44:53.931575Z",
     "iopub.status.idle": "2023-02-08T20:44:53.938350Z",
     "shell.execute_reply": "2023-02-08T20:44:53.937514Z",
     "shell.execute_reply.started": "2023-02-08T20:44:53.931991Z"
    },
    "tags": []
   },
   "outputs": [
    {
     "data": {
      "text/plain": [
       "[('tok2vec', <spacy.pipeline.tok2vec.Tok2Vec at 0x7fe658e0ee60>),\n",
       " ('morphologizer',\n",
       "  <spacy.pipeline.morphologizer.Morphologizer at 0x7fe658e0f1c0>),\n",
       " ('ner', <spacy.pipeline.ner.EntityRecognizer at 0x7fe65b1c3ae0>)]"
      ]
     },
     "execution_count": 5,
     "metadata": {},
     "output_type": "execute_result"
    }
   ],
   "source": [
    "nlp_ner.pipeline"
   ]
  },
  {
   "cell_type": "markdown",
   "id": "c5fad8b9-16c8-402c-b6f2-71b47891dbc2",
   "metadata": {},
   "source": [
    "## Evaluate"
   ]
  },
  {
   "cell_type": "code",
   "execution_count": 6,
   "id": "985a3a40-8eee-423b-a818-d5bea978209c",
   "metadata": {
    "execution": {
     "iopub.execute_input": "2023-02-08T20:46:06.359787Z",
     "iopub.status.busy": "2023-02-08T20:46:06.359313Z",
     "iopub.status.idle": "2023-02-08T20:46:23.477332Z",
     "shell.execute_reply": "2023-02-08T20:46:23.475552Z",
     "shell.execute_reply.started": "2023-02-08T20:46:06.359761Z"
    },
    "tags": []
   },
   "outputs": [
    {
     "name": "stdout",
     "output_type": "stream",
     "text": [
      "\u001b[38;5;4mℹ Using CPU\u001b[0m\n",
      "\u001b[38;5;4mℹ To switch to GPU 0, use the option: --gpu-id 0\u001b[0m\n",
      "\u001b[1m\n",
      "================================== Results ==================================\u001b[0m\n",
      "\n",
      "TOK     100.00\n",
      "POS     -     \n",
      "MORPH   -     \n",
      "NER P   66.03 \n",
      "NER R   81.05 \n",
      "NER F   72.77 \n",
      "SPEED   6146  \n",
      "\n",
      "\u001b[1m\n",
      "=============================== NER (per type) ===============================\u001b[0m\n",
      "\n",
      "                P       R       F\n",
      "ARTÍCULO    70.46   86.09   77.50\n",
      "LOC         67.66   81.29   73.86\n",
      "DIRECCIÓN   72.93   88.99   80.17\n",
      "PER         50.63   64.02   56.54\n",
      "\n",
      "\u001b[38;5;2m✔ Saved results to /resources/ouputs/metrics/ner_mor.json\u001b[0m\n"
     ]
    }
   ],
   "source": [
    "! python -m spacy evaluate /src/ia2/ia2/models/ner_mor/model-best  /resources/datasets/docbin/test.spacy --output /resources/ouputs/metrics/ner_mor.json --gold-preproc"
   ]
  },
  {
   "cell_type": "code",
   "execution_count": null,
   "id": "192da7fd-8f51-4f19-8b00-e3a40b73753f",
   "metadata": {},
   "outputs": [],
   "source": []
  }
 ],
 "metadata": {
  "kernelspec": {
   "display_name": "Python 3 (ipykernel)",
   "language": "python",
   "name": "python3"
  },
  "language_info": {
   "codemirror_mode": {
    "name": "ipython",
    "version": 3
   },
   "file_extension": ".py",
   "mimetype": "text/x-python",
   "name": "python",
   "nbconvert_exporter": "python",
   "pygments_lexer": "ipython3",
   "version": "3.10.9"
  }
 },
 "nbformat": 4,
 "nbformat_minor": 5
}
