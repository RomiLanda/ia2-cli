{
 "cells": [
  {
   "cell_type": "code",
   "execution_count": 1,
   "id": "5c4e3af5-c5b8-46a9-976d-74fff1eab4e6",
   "metadata": {
    "execution": {
     "iopub.execute_input": "2023-01-05T15:03:35.251900Z",
     "iopub.status.busy": "2023-01-05T15:03:35.251570Z",
     "iopub.status.idle": "2023-01-05T15:03:38.589308Z",
     "shell.execute_reply": "2023-01-05T15:03:38.588749Z",
     "shell.execute_reply.started": "2023-01-05T15:03:35.251876Z"
    },
    "tags": []
   },
   "outputs": [],
   "source": [
    "import spacy\n",
    "import json"
   ]
  },
  {
   "cell_type": "markdown",
   "id": "01f3bdd5-c564-43d3-8868-f03fb11fb500",
   "metadata": {
    "tags": []
   },
   "source": [
    "## Train CPU: NER"
   ]
  },
  {
   "cell_type": "markdown",
   "id": "8efb23cc-11fa-4f1f-9fb2-2985f421b5db",
   "metadata": {
    "execution": {
     "iopub.execute_input": "2022-10-18T18:44:31.773606Z",
     "iopub.status.busy": "2022-10-18T18:44:31.773115Z",
     "iopub.status.idle": "2022-10-18T18:44:31.775886Z",
     "shell.execute_reply": "2022-10-18T18:44:31.775469Z",
     "shell.execute_reply.started": "2022-10-18T18:44:31.773553Z"
    }
   },
   "source": [
    "#### Download base model"
   ]
  },
  {
   "cell_type": "code",
   "execution_count": 3,
   "id": "e057f9b7-d6a1-42f9-bd45-2b8bcecdef3a",
   "metadata": {
    "execution": {
     "iopub.execute_input": "2023-01-05T15:06:58.587895Z",
     "iopub.status.busy": "2023-01-05T15:06:58.587375Z",
     "iopub.status.idle": "2023-01-05T15:06:58.595197Z",
     "shell.execute_reply": "2023-01-05T15:06:58.592987Z",
     "shell.execute_reply.started": "2023-01-05T15:06:58.587851Z"
    },
    "tags": []
   },
   "outputs": [],
   "source": [
    "# !python -m spacy download es_core_news_lg"
   ]
  },
  {
   "cell_type": "markdown",
   "id": "89d98cf4-ecea-4e18-8f10-399c81019f8b",
   "metadata": {
    "execution": {
     "iopub.execute_input": "2022-10-18T18:44:57.801042Z",
     "iopub.status.busy": "2022-10-18T18:44:57.800506Z",
     "iopub.status.idle": "2022-10-18T18:44:57.803096Z",
     "shell.execute_reply": "2022-10-18T18:44:57.802723Z",
     "shell.execute_reply.started": "2022-10-18T18:44:57.801024Z"
    }
   },
   "source": [
    "#### Create config to train only NER"
   ]
  },
  {
   "cell_type": "code",
   "execution_count": null,
   "id": "d913a979-c6f4-47a9-9d50-273d68f0e7cd",
   "metadata": {},
   "outputs": [],
   "source": [
    "# ! python -m spacy init config config_NER.cfg --lang es --pipeline ner --optimize accuracy"
   ]
  },
  {
   "cell_type": "markdown",
   "id": "ab5a0ed9-1cf4-428d-a1c3-67d65e5bd756",
   "metadata": {
    "execution": {
     "iopub.execute_input": "2022-10-18T18:45:44.367304Z",
     "iopub.status.busy": "2022-10-18T18:45:44.366723Z",
     "iopub.status.idle": "2022-10-18T18:45:44.369507Z",
     "shell.execute_reply": "2022-10-18T18:45:44.369120Z",
     "shell.execute_reply.started": "2022-10-18T18:45:44.367283Z"
    }
   },
   "source": [
    "#### Train model"
   ]
  },
  {
   "cell_type": "code",
   "execution_count": 2,
   "id": "828ebb9e-f5f4-4f37-af1a-e1db6311562c",
   "metadata": {
    "execution": {
     "iopub.execute_input": "2023-01-04T18:03:48.587219Z",
     "iopub.status.busy": "2023-01-04T18:03:48.586715Z",
     "iopub.status.idle": "2023-01-04T19:57:47.432225Z",
     "shell.execute_reply": "2023-01-04T19:57:47.431702Z",
     "shell.execute_reply.started": "2023-01-04T18:03:48.587196Z"
    },
    "tags": []
   },
   "outputs": [
    {
     "name": "stdout",
     "output_type": "stream",
     "text": [
      "\u001b[38;5;4mℹ Saving to output directory: /src/ia2/ia2/models/ner\u001b[0m\n",
      "\u001b[38;5;4mℹ Using CPU\u001b[0m\n",
      "\u001b[38;5;4mℹ To switch to GPU 0, use the option: --gpu-id 0\u001b[0m\n",
      "\u001b[1m\n",
      "=========================== Initializing pipeline ===========================\u001b[0m\n",
      "[2023-01-04 18:03:51,046] [INFO] Set up nlp object from config\n",
      "[2023-01-04 18:03:51,058] [INFO] Pipeline: ['tok2vec', 'ner']\n",
      "[2023-01-04 18:03:51,061] [INFO] Created vocabulary\n",
      "[2023-01-04 18:03:51,982] [INFO] Added vectors: es_core_news_lg\n",
      "[2023-01-04 18:03:53,081] [INFO] Finished initializing nlp object\n",
      "[2023-01-04 18:04:25,205] [INFO] Initialized pipeline components: ['tok2vec', 'ner']\n",
      "\u001b[38;5;2m✔ Initialized pipeline\u001b[0m\n",
      "\u001b[1m\n",
      "============================= Training pipeline =============================\u001b[0m\n",
      "\u001b[38;5;4mℹ Pipeline: ['tok2vec', 'ner']\u001b[0m\n",
      "\u001b[38;5;4mℹ Initial learn rate: 0.001\u001b[0m\n",
      "E    #       LOSS TOK2VEC  LOSS NER  ENTS_F  ENTS_P  ENTS_R  SCORE \n",
      "---  ------  ------------  --------  ------  ------  ------  ------\n",
      "  0       0          0.00    716.22    0.00    0.00    0.00    0.00\n",
      "  0     200        935.93  20105.38   53.34   47.64   60.60    0.53\n",
      "  1     400        146.14   6236.62   60.65   68.08   54.68    0.61\n",
      "  1     600        156.56   5917.98   51.27   74.46   39.09    0.51\n",
      "  2     800        123.79   5742.00   67.10   66.38   67.83    0.67\n",
      "  2    1000        142.18   5149.43   70.63   72.29   69.05    0.71\n",
      "  3    1200        199.03   4728.63   65.84   71.52   60.99    0.66\n",
      "  3    1400        146.20   4578.50   69.55   66.51   72.88    0.70\n",
      "  4    1600        188.49   4639.86   68.71   72.81   65.04    0.69\n",
      "  5    1800        185.58   3926.59   65.30   65.22   65.39    0.65\n",
      "  5    2000        288.58   3916.17   70.09   66.81   73.70    0.70\n",
      "  6    2200        213.77   4098.31   68.60   69.30   67.91    0.69\n",
      "  6    2400        258.84   3718.69   71.28   72.24   70.35    0.71\n",
      "  7    2600        249.98   3248.74   69.16   73.24   65.52    0.69\n",
      "  7    2800        281.00   3443.46   71.59   67.05   76.80    0.72\n",
      "  8    3000        289.52   3414.48   68.95   65.61   72.66    0.69\n",
      "  8    3200        321.59   3350.06   71.90   76.12   68.13    0.72\n",
      "  9    3400        520.59   2782.07   65.93   71.97   60.82    0.66\n",
      " 10    3600        384.06   3287.36   67.50   70.77   64.52    0.68\n",
      " 10    3800        437.17   3219.24   70.37   69.62   71.14    0.70\n",
      " 11    4000        338.76   2625.89   65.50   72.52   59.73    0.66\n",
      " 11    4200        567.41   3354.11   71.49   75.14   68.18    0.71\n",
      " 12    4400        537.99   2879.82   72.14   74.86   69.61    0.72\n",
      " 12    4600        493.02   2646.46   72.16   69.98   74.49    0.72\n",
      " 13    4800        858.85   2863.17   71.31   70.93   71.70    0.71\n",
      " 14    5000        698.50   2854.19   66.47   75.34   59.47    0.66\n",
      " 14    5200        645.95   2708.73   66.37   68.47   64.39    0.66\n",
      " 15    5400        739.60   2728.79   71.69   69.55   73.97    0.72\n",
      " 15    5600        652.19   2632.05   70.46   69.55   71.40    0.70\n",
      " 16    5800        740.63   2272.65   71.67   67.42   76.49    0.72\n",
      " 16    6000        922.58   2605.61   71.00   74.22   68.05    0.71\n",
      " 17    6200        770.55   2889.24   70.02   72.66   67.57    0.70\n",
      "\u001b[38;5;2m✔ Saved pipeline to output directory\u001b[0m\n",
      "/src/ia2/ia2/models/ner/model-last\n"
     ]
    }
   ],
   "source": [
    "! python -m spacy train config_NER.cfg --output /src/ia2/ia2/models/ner  --paths.train /resources/datasets/docbin/train.spacy --paths.dev /resources/datasets/docbin/val.spacy"
   ]
  },
  {
   "cell_type": "markdown",
   "id": "ec503d08-66a2-4ebf-b891-29ab8fa2e33a",
   "metadata": {},
   "source": [
    "## Train GPU: NER"
   ]
  },
  {
   "cell_type": "markdown",
   "id": "3b7b1db4-2b1b-48f3-a5dd-63116a71e894",
   "metadata": {},
   "source": [
    "#### Create config"
   ]
  },
  {
   "cell_type": "code",
   "execution_count": null,
   "id": "0bfe0036-e70d-44d4-ab98-b76656340c5d",
   "metadata": {
    "tags": []
   },
   "outputs": [],
   "source": [
    "# ! python -m spacy init config config_GPU.cfg --lang es --pipeline ner --gpu"
   ]
  },
  {
   "cell_type": "markdown",
   "id": "6df03b28-f11b-4448-b30e-2cc113db51a1",
   "metadata": {},
   "source": [
    "#### Train model"
   ]
  },
  {
   "cell_type": "code",
   "execution_count": null,
   "id": "f5546625-7544-4247-b720-fc01cc70db6d",
   "metadata": {
    "tags": []
   },
   "outputs": [],
   "source": [
    "# ! python -m spacy train config_GPU.cfg --output /src/ia2/ia2/models  --paths.train /resources/datasets/docbin/train.spacy  --paths.dev /resources/datasets/docbin/val.spacy --gpu-id 0"
   ]
  },
  {
   "cell_type": "markdown",
   "id": "9b858148-c349-42ba-9879-b662c9eb2dc3",
   "metadata": {},
   "source": [
    "## Load Best Model: NER"
   ]
  },
  {
   "cell_type": "code",
   "execution_count": 3,
   "id": "0580d61a-087c-4682-8a4f-3fc78dab8b5d",
   "metadata": {
    "execution": {
     "iopub.execute_input": "2023-01-04T19:59:24.611726Z",
     "iopub.status.busy": "2023-01-04T19:59:24.611521Z",
     "iopub.status.idle": "2023-01-04T19:59:25.598380Z",
     "shell.execute_reply": "2023-01-04T19:59:25.597888Z",
     "shell.execute_reply.started": "2023-01-04T19:59:24.611711Z"
    },
    "tags": []
   },
   "outputs": [],
   "source": [
    "nlp_ner = spacy.load('/src/ia2/ia2/models/ner/model-best')"
   ]
  },
  {
   "cell_type": "code",
   "execution_count": 4,
   "id": "e0204271-62bb-4ebd-9483-0ddf245b79ae",
   "metadata": {
    "execution": {
     "iopub.execute_input": "2023-01-04T19:59:30.513796Z",
     "iopub.status.busy": "2023-01-04T19:59:30.513479Z",
     "iopub.status.idle": "2023-01-04T19:59:30.519958Z",
     "shell.execute_reply": "2023-01-04T19:59:30.519582Z",
     "shell.execute_reply.started": "2023-01-04T19:59:30.513771Z"
    },
    "tags": []
   },
   "outputs": [
    {
     "data": {
      "text/plain": [
       "('ARTÍCULO', 'DIRECCIÓN', 'LOC', 'PER')"
      ]
     },
     "execution_count": 4,
     "metadata": {},
     "output_type": "execute_result"
    }
   ],
   "source": [
    "nlp_ner.get_pipe('ner').labels"
   ]
  },
  {
   "cell_type": "code",
   "execution_count": 5,
   "id": "de4659a3-2893-424d-a051-f9e47703a10e",
   "metadata": {
    "execution": {
     "iopub.execute_input": "2023-01-04T19:59:31.446646Z",
     "iopub.status.busy": "2023-01-04T19:59:31.446360Z",
     "iopub.status.idle": "2023-01-04T19:59:31.457008Z",
     "shell.execute_reply": "2023-01-04T19:59:31.456400Z",
     "shell.execute_reply.started": "2023-01-04T19:59:31.446625Z"
    },
    "tags": []
   },
   "outputs": [
    {
     "data": {
      "text/plain": [
       "[('tok2vec', <spacy.pipeline.tok2vec.Tok2Vec at 0x7f1c711a2140>),\n",
       " ('ner', <spacy.pipeline.ner.EntityRecognizer at 0x7f1c71159cb0>)]"
      ]
     },
     "execution_count": 5,
     "metadata": {},
     "output_type": "execute_result"
    }
   ],
   "source": [
    "nlp_ner.pipeline"
   ]
  },
  {
   "cell_type": "markdown",
   "id": "c5fad8b9-16c8-402c-b6f2-71b47891dbc2",
   "metadata": {},
   "source": [
    "## Evaluate NER"
   ]
  },
  {
   "cell_type": "code",
   "execution_count": 6,
   "id": "985a3a40-8eee-423b-a818-d5bea978209c",
   "metadata": {
    "execution": {
     "iopub.execute_input": "2023-01-04T19:59:34.790424Z",
     "iopub.status.busy": "2023-01-04T19:59:34.789769Z",
     "iopub.status.idle": "2023-01-04T19:59:50.645855Z",
     "shell.execute_reply": "2023-01-04T19:59:50.645278Z",
     "shell.execute_reply.started": "2023-01-04T19:59:34.790387Z"
    },
    "tags": []
   },
   "outputs": [
    {
     "name": "stdout",
     "output_type": "stream",
     "text": [
      "\u001b[38;5;4mℹ Using CPU\u001b[0m\n",
      "\u001b[38;5;4mℹ To switch to GPU 0, use the option: --gpu-id 0\u001b[0m\n",
      "\u001b[1m\n",
      "================================== Results ==================================\u001b[0m\n",
      "\n",
      "TOK     100.00\n",
      "NER P   66.19 \n",
      "NER R   77.93 \n",
      "NER F   71.58 \n",
      "SPEED   6804  \n",
      "\n",
      "\u001b[1m\n",
      "=============================== NER (per type) ===============================\u001b[0m\n",
      "\n",
      "                P       R       F\n",
      "ARTÍCULO    72.83   83.91   77.98\n",
      "LOC         72.18   69.06   70.59\n",
      "DIRECCIÓN   70.40   80.73   75.21\n",
      "PER         48.13   68.25   56.46\n",
      "\n",
      "\u001b[38;5;2m✔ Saved results to /resources/ouputs/metrics/NER/metics.json\u001b[0m\n"
     ]
    }
   ],
   "source": [
    "! python -m spacy evaluate /src/ia2/ia2/models/ner/model-best  /resources/datasets/docbin/test.spacy --output /resources/ouputs/metrics/NER/metics.json --gold-preproc"
   ]
  },
  {
   "cell_type": "markdown",
   "id": "6934e41a-86ca-4ae1-9670-810fb0f3ada8",
   "metadata": {},
   "source": [
    "# Train pipe"
   ]
  },
  {
   "cell_type": "markdown",
   "id": "f5e3fa69-8264-4b8b-9ac6-fa18a9337094",
   "metadata": {
    "execution": {
     "iopub.execute_input": "2022-10-18T19:03:15.676588Z",
     "iopub.status.busy": "2022-10-18T19:03:15.676175Z",
     "iopub.status.idle": "2022-10-18T19:03:15.678789Z",
     "shell.execute_reply": "2022-10-18T19:03:15.678351Z",
     "shell.execute_reply.started": "2022-10-18T19:03:15.676570Z"
    }
   },
   "source": [
    "### Train CPU"
   ]
  },
  {
   "cell_type": "markdown",
   "id": "54329f25-5c75-45b4-98c9-58b220aa9354",
   "metadata": {},
   "source": [
    "Train T2V and NER and freeze another component becuse need morphologizer"
   ]
  },
  {
   "cell_type": "code",
   "execution_count": 4,
   "id": "1c605381-ed20-44f6-a0bd-14351c5d9a07",
   "metadata": {
    "execution": {
     "iopub.execute_input": "2023-01-05T15:07:06.253123Z",
     "iopub.status.busy": "2023-01-05T15:07:06.252653Z",
     "iopub.status.idle": "2023-01-05T15:54:52.483843Z",
     "shell.execute_reply": "2023-01-05T15:54:52.483221Z",
     "shell.execute_reply.started": "2023-01-05T15:07:06.253093Z"
    },
    "tags": []
   },
   "outputs": [
    {
     "name": "stdout",
     "output_type": "stream",
     "text": [
      "\u001b[38;5;2m✔ Created output directory: /src/ia2/ia2/models/all_pipe_t2v_ner\u001b[0m\n",
      "\u001b[38;5;4mℹ Saving to output directory: /src/ia2/ia2/models/all_pipe_t2v_ner\u001b[0m\n",
      "\u001b[38;5;4mℹ Using CPU\u001b[0m\n",
      "\u001b[38;5;4mℹ To switch to GPU 0, use the option: --gpu-id 0\u001b[0m\n",
      "\u001b[1m\n",
      "=========================== Initializing pipeline ===========================\u001b[0m\n",
      "[2023-01-05 15:07:20,524] [INFO] Set up nlp object from config\n",
      "[2023-01-05 15:07:20,534] [INFO] Pipeline: ['tok2vec', 'morphologizer', 'parser', 'ner', 'attribute_ruler', 'lemmatizer']\n",
      "[2023-01-05 15:07:20,536] [INFO] Created vocabulary\n",
      "[2023-01-05 15:07:21,604] [INFO] Added vectors: es_core_news_lg\n",
      "[2023-01-05 15:07:22,522] [INFO] Finished initializing nlp object\n",
      "[2023-01-05 15:07:35,046] [INFO] Initialized pipeline components: ['tok2vec', 'ner']\n",
      "\u001b[38;5;2m✔ Initialized pipeline\u001b[0m\n",
      "\u001b[1m\n",
      "============================= Training pipeline =============================\u001b[0m\n",
      "\u001b[38;5;4mℹ Pipeline: ['tok2vec', 'morphologizer', 'parser', 'ner',\n",
      "'attribute_ruler', 'lemmatizer']\u001b[0m\n",
      "\u001b[38;5;4mℹ Frozen components: ['morphologizer', 'parser', 'attribute_ruler',\n",
      "'lemmatizer']\u001b[0m\n",
      "\u001b[38;5;4mℹ Initial learn rate: 0.001\u001b[0m\n",
      "E    #       LOSS TOK2VEC  LOSS NER  POS_ACC  MORPH_ACC  DEP_UAS  DEP_LAS  SENTS_F  ENTS_F  ENTS_P  ENTS_R  LEMMA_ACC  SCORE \n",
      "---  ------  ------------  --------  -------  ---------  -------  -------  -------  ------  ------  ------  ---------  ------\n",
      "  0       0          0.00    442.67     0.00       0.00     0.00     0.00     0.00    0.00    0.00    0.00       0.00    0.00\n",
      "  0     200       2056.76  14243.71     0.00       0.00     0.00     0.00     0.00   31.67   30.05   33.48       0.00    0.18\n",
      "  1     400        265.73   3505.99     0.00       0.00     0.00     0.00     0.00   20.06   26.36   16.20       0.00    0.11\n",
      "  2     600         67.88   2735.41     0.00       0.00     0.00     0.00     0.00   37.86   32.90   44.58       0.00    0.22\n",
      "  3     800         82.62   2535.86     0.00       0.00     0.00     0.00     0.00   30.30   33.46   27.69       0.00    0.17\n",
      "  4    1000         78.36   2206.05     0.00       0.00     0.00     0.00     0.00   39.97   38.90   41.10       0.00    0.23\n",
      "  5    1200         90.06   1920.54     0.00       0.00     0.00     0.00     0.00   33.31   29.54   38.18       0.00    0.19\n",
      "  6    1400        347.85   2064.07     0.00       0.00     0.00     0.00     0.00   38.89   39.72   38.09       0.00    0.22\n",
      "  7    1600         98.36   1553.12     0.00       0.00     0.00     0.00     0.00   39.04   40.18   37.96       0.00    0.22\n",
      "  8    1800        113.41   1707.64     0.00       0.00     0.00     0.00     0.00   38.72   40.09   37.44       0.00    0.22\n",
      "  9    2000        227.64   1582.84     0.00       0.00     0.00     0.00     0.00   39.32   40.93   37.83       0.00    0.22\n",
      " 10    2200        176.99   1408.49     0.00       0.00     0.00     0.00     0.00   39.48   39.66   39.31       0.00    0.23\n",
      " 11    2400        147.29   1286.29     0.00       0.00     0.00     0.00     0.00   40.73   40.29   41.18       0.00    0.23\n",
      " 12    2600        140.35   1264.77     0.00       0.00     0.00     0.00     0.00   39.46   39.88   39.05       0.00    0.22\n",
      " 13    2800        228.29   1307.14     0.00       0.00     0.00     0.00     0.00   35.98   37.11   34.92       0.00    0.21\n",
      " 14    3000        176.01   1272.38     0.00       0.00     0.00     0.00     0.00   39.75   41.30   38.31       0.00    0.23\n",
      " 15    3200        223.82   1267.42     0.00       0.00     0.00     0.00     0.00   37.37   34.73   40.44       0.00    0.21\n",
      " 16    3400        217.97   1079.92     0.00       0.00     0.00     0.00     0.00   38.51   40.39   36.79       0.00    0.22\n",
      " 17    3600        269.82   1168.99     0.00       0.00     0.00     0.00     0.00   34.98   38.38   32.13       0.00    0.20\n",
      " 18    3800        298.00   1104.48     0.00       0.00     0.00     0.00     0.00   38.00   38.30   37.70       0.00    0.22\n",
      " 19    4000        404.21   1096.68     0.00       0.00     0.00     0.00     0.00   33.33   36.11   30.95       0.00    0.19\n",
      "\u001b[38;5;2m✔ Saved pipeline to output directory\u001b[0m\n",
      "/src/ia2/ia2/models/all_pipe_t2v_ner/model-last\n"
     ]
    }
   ],
   "source": [
    "! python -m spacy train config_PIPE.cfg --output /src/ia2/ia2/models/all_pipe_t2v_ner  --paths.train /resources/datasets/docbin/train.spacy --paths.dev /resources/datasets/docbin/val.spacy"
   ]
  },
  {
   "cell_type": "markdown",
   "id": "46afeeb4-1dab-44b7-849d-62cfec6dad43",
   "metadata": {},
   "source": [
    "## Load Best Model"
   ]
  },
  {
   "cell_type": "code",
   "execution_count": 5,
   "id": "07eb3399-abb8-44f7-ac59-121cb7f06bf8",
   "metadata": {
    "execution": {
     "iopub.execute_input": "2023-01-05T16:16:00.297153Z",
     "iopub.status.busy": "2023-01-05T16:16:00.296957Z",
     "iopub.status.idle": "2023-01-05T16:16:01.180203Z",
     "shell.execute_reply": "2023-01-05T16:16:01.179732Z",
     "shell.execute_reply.started": "2023-01-05T16:16:00.297136Z"
    },
    "tags": []
   },
   "outputs": [],
   "source": [
    "nlp_pipe= spacy.load('/src/ia2/ia2/models/all_pipe_t2v_ner/model-best')"
   ]
  },
  {
   "cell_type": "code",
   "execution_count": 6,
   "id": "80fde1f8-32b9-4452-94ea-97c213b064a8",
   "metadata": {
    "execution": {
     "iopub.execute_input": "2023-01-05T16:16:02.091718Z",
     "iopub.status.busy": "2023-01-05T16:16:02.091495Z",
     "iopub.status.idle": "2023-01-05T16:16:02.096090Z",
     "shell.execute_reply": "2023-01-05T16:16:02.095685Z",
     "shell.execute_reply.started": "2023-01-05T16:16:02.091701Z"
    },
    "tags": []
   },
   "outputs": [
    {
     "data": {
      "text/plain": [
       "['tok2vec', 'morphologizer', 'parser', 'ner', 'attribute_ruler', 'lemmatizer']"
      ]
     },
     "execution_count": 6,
     "metadata": {},
     "output_type": "execute_result"
    }
   ],
   "source": [
    "nlp_pipe.pipe_names"
   ]
  },
  {
   "cell_type": "markdown",
   "id": "d892f380-9f1e-4351-9d08-5e9a17c93f1a",
   "metadata": {},
   "source": [
    "## Evaluate"
   ]
  },
  {
   "cell_type": "code",
   "execution_count": 7,
   "id": "a5fab32a-cf82-452b-b2c3-aa54d7b500f4",
   "metadata": {
    "execution": {
     "iopub.execute_input": "2023-01-05T16:16:05.053265Z",
     "iopub.status.busy": "2023-01-05T16:16:05.053056Z",
     "iopub.status.idle": "2023-01-05T16:16:26.736714Z",
     "shell.execute_reply": "2023-01-05T16:16:26.736184Z",
     "shell.execute_reply.started": "2023-01-05T16:16:05.053250Z"
    }
   },
   "outputs": [
    {
     "name": "stdout",
     "output_type": "stream",
     "text": [
      "\u001b[38;5;4mℹ Using CPU\u001b[0m\n",
      "\u001b[38;5;4mℹ To switch to GPU 0, use the option: --gpu-id 0\u001b[0m\n",
      "\u001b[1m\n",
      "================================== Results ==================================\u001b[0m\n",
      "\n",
      "TOK      100.00\n",
      "TAG      -     \n",
      "POS      -     \n",
      "MORPH    -     \n",
      "LEMMA    -     \n",
      "UAS      -     \n",
      "LAS      -     \n",
      "NER P    30.52 \n",
      "NER R    36.34 \n",
      "NER F    33.18 \n",
      "SENT P   -     \n",
      "SENT R   -     \n",
      "SENT F   -     \n",
      "SPEED    5055  \n",
      "\n",
      "\u001b[1m\n",
      "=============================== NER (per type) ===============================\u001b[0m\n",
      "\n",
      "                P       R       F\n",
      "ARTÍCULO     7.44    8.48    7.93\n",
      "LOC         55.28   64.03   59.33\n",
      "DIRECCIÓN   64.71   80.73   71.84\n",
      "PER         44.53   58.20   50.46\n",
      "\n",
      "\u001b[38;5;2m✔ Saved results to /resources/ouputs/metrics/pipe/metics.json\u001b[0m\n"
     ]
    }
   ],
   "source": [
    "! python -m spacy evaluate /src/ia2/ia2/models/all_pipe_t2v_ner/model-best  /resources/datasets/docbin/test.spacy --output /resources/ouputs/metrics/pipe/metics.json --gold-preproc"
   ]
  },
  {
   "cell_type": "code",
   "execution_count": null,
   "id": "192da7fd-8f51-4f19-8b00-e3a40b73753f",
   "metadata": {},
   "outputs": [],
   "source": []
  }
 ],
 "metadata": {
  "kernelspec": {
   "display_name": "Python 3 (ipykernel)",
   "language": "python",
   "name": "python3"
  },
  "language_info": {
   "codemirror_mode": {
    "name": "ipython",
    "version": 3
   },
   "file_extension": ".py",
   "mimetype": "text/x-python",
   "name": "python",
   "nbconvert_exporter": "python",
   "pygments_lexer": "ipython3",
   "version": "3.10.9"
  }
 },
 "nbformat": 4,
 "nbformat_minor": 5
}
