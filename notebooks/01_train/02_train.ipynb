{
 "cells": [
  {
   "cell_type": "code",
   "execution_count": null,
   "id": "5c4e3af5-c5b8-46a9-976d-74fff1eab4e6",
   "metadata": {},
   "outputs": [],
   "source": [
    "import spacy\n",
    "import json"
   ]
  },
  {
   "cell_type": "markdown",
   "id": "01f3bdd5-c564-43d3-8868-f03fb11fb500",
   "metadata": {
    "tags": []
   },
   "source": [
    "## Train CPU: NER"
   ]
  },
  {
   "cell_type": "markdown",
   "id": "8efb23cc-11fa-4f1f-9fb2-2985f421b5db",
   "metadata": {
    "execution": {
     "iopub.execute_input": "2022-10-18T18:44:31.773606Z",
     "iopub.status.busy": "2022-10-18T18:44:31.773115Z",
     "iopub.status.idle": "2022-10-18T18:44:31.775886Z",
     "shell.execute_reply": "2022-10-18T18:44:31.775469Z",
     "shell.execute_reply.started": "2022-10-18T18:44:31.773553Z"
    }
   },
   "source": [
    "#### Download base model"
   ]
  },
  {
   "cell_type": "code",
   "execution_count": null,
   "id": "e057f9b7-d6a1-42f9-bd45-2b8bcecdef3a",
   "metadata": {},
   "outputs": [],
   "source": [
    "!python -m spacy download es_core_news_lg "
   ]
  },
  {
   "cell_type": "markdown",
   "id": "89d98cf4-ecea-4e18-8f10-399c81019f8b",
   "metadata": {
    "execution": {
     "iopub.execute_input": "2022-10-18T18:44:57.801042Z",
     "iopub.status.busy": "2022-10-18T18:44:57.800506Z",
     "iopub.status.idle": "2022-10-18T18:44:57.803096Z",
     "shell.execute_reply": "2022-10-18T18:44:57.802723Z",
     "shell.execute_reply.started": "2022-10-18T18:44:57.801024Z"
    }
   },
   "source": [
    "#### Create config to train only NER"
   ]
  },
  {
   "cell_type": "code",
   "execution_count": null,
   "id": "d913a979-c6f4-47a9-9d50-273d68f0e7cd",
   "metadata": {},
   "outputs": [],
   "source": [
    "! python -m spacy init config config_NER.cfg --lang es --pipeline ner --optimize accuracy"
   ]
  },
  {
   "cell_type": "markdown",
   "id": "ab5a0ed9-1cf4-428d-a1c3-67d65e5bd756",
   "metadata": {
    "execution": {
     "iopub.execute_input": "2022-10-18T18:45:44.367304Z",
     "iopub.status.busy": "2022-10-18T18:45:44.366723Z",
     "iopub.status.idle": "2022-10-18T18:45:44.369507Z",
     "shell.execute_reply": "2022-10-18T18:45:44.369120Z",
     "shell.execute_reply.started": "2022-10-18T18:45:44.367283Z"
    }
   },
   "source": [
    "#### Train model"
   ]
  },
  {
   "cell_type": "code",
   "execution_count": null,
   "id": "828ebb9e-f5f4-4f37-af1a-e1db6311562c",
   "metadata": {},
   "outputs": [],
   "source": [
    "! python -m spacy train config_NER.cfg --output /src/ia2/ia2/models/ner  --paths.train /resources/datasets/docbin/train.spacy --paths.dev /resources/datasets/docbin/val.spacy"
   ]
  },
  {
   "cell_type": "markdown",
   "id": "ec503d08-66a2-4ebf-b891-29ab8fa2e33a",
   "metadata": {},
   "source": [
    "## Train GPU: NER"
   ]
  },
  {
   "cell_type": "markdown",
   "id": "3b7b1db4-2b1b-48f3-a5dd-63116a71e894",
   "metadata": {},
   "source": [
    "#### Create config"
   ]
  },
  {
   "cell_type": "code",
   "execution_count": null,
   "id": "0bfe0036-e70d-44d4-ab98-b76656340c5d",
   "metadata": {
    "tags": []
   },
   "outputs": [],
   "source": [
    "# ! python -m spacy init config config_GPU.cfg --lang es --pipeline ner --gpu"
   ]
  },
  {
   "cell_type": "markdown",
   "id": "6df03b28-f11b-4448-b30e-2cc113db51a1",
   "metadata": {},
   "source": [
    "#### Train model"
   ]
  },
  {
   "cell_type": "code",
   "execution_count": null,
   "id": "f5546625-7544-4247-b720-fc01cc70db6d",
   "metadata": {
    "tags": []
   },
   "outputs": [],
   "source": [
    "# ! python -m spacy train config_GPU.cfg --output /src/ia2/ia2/models  --paths.train /resources/datasets/docbin/train.spacy  --paths.dev /resources/datasets/docbin/val.spacy --gpu-id 0"
   ]
  },
  {
   "cell_type": "markdown",
   "id": "9b858148-c349-42ba-9879-b662c9eb2dc3",
   "metadata": {},
   "source": [
    "## Load Best Model: NER"
   ]
  },
  {
   "cell_type": "code",
   "execution_count": null,
   "id": "0580d61a-087c-4682-8a4f-3fc78dab8b5d",
   "metadata": {
    "tags": []
   },
   "outputs": [],
   "source": [
    "nlp_ner = spacy.load('/src/ia2/ia2/models/ner/model-best')"
   ]
  },
  {
   "cell_type": "code",
   "execution_count": null,
   "id": "e0204271-62bb-4ebd-9483-0ddf245b79ae",
   "metadata": {
    "tags": []
   },
   "outputs": [],
   "source": [
    "nlp_ner.get_pipe('ner').labels"
   ]
  },
  {
   "cell_type": "code",
   "execution_count": null,
   "id": "de4659a3-2893-424d-a051-f9e47703a10e",
   "metadata": {
    "tags": []
   },
   "outputs": [],
   "source": [
    "nlp_ner.pipeline"
   ]
  },
  {
   "cell_type": "markdown",
   "id": "c5fad8b9-16c8-402c-b6f2-71b47891dbc2",
   "metadata": {},
   "source": [
    "## Evaluate NER"
   ]
  },
  {
   "cell_type": "code",
   "execution_count": null,
   "id": "985a3a40-8eee-423b-a818-d5bea978209c",
   "metadata": {
    "tags": []
   },
   "outputs": [],
   "source": [
    "! python -m spacy evaluate /src/ia2/ia2/models/ner/model-best  /resources/datasets/docbin/test.spacy --output /resources/ouputs/metrics/NER/metics.json --gold-preproc"
   ]
  },
  {
   "cell_type": "markdown",
   "id": "6934e41a-86ca-4ae1-9670-810fb0f3ada8",
   "metadata": {},
   "source": [
    "# Train pipe"
   ]
  },
  {
   "cell_type": "markdown",
   "id": "f5e3fa69-8264-4b8b-9ac6-fa18a9337094",
   "metadata": {
    "execution": {
     "iopub.execute_input": "2022-10-18T19:03:15.676588Z",
     "iopub.status.busy": "2022-10-18T19:03:15.676175Z",
     "iopub.status.idle": "2022-10-18T19:03:15.678789Z",
     "shell.execute_reply": "2022-10-18T19:03:15.678351Z",
     "shell.execute_reply.started": "2022-10-18T19:03:15.676570Z"
    }
   },
   "source": [
    "### Train CPU"
   ]
  },
  {
   "cell_type": "markdown",
   "id": "54329f25-5c75-45b4-98c9-58b220aa9354",
   "metadata": {},
   "source": [
    "Train T2V and NER and freeze another component becuse need morphologizer"
   ]
  },
  {
   "cell_type": "code",
   "execution_count": null,
   "id": "1c605381-ed20-44f6-a0bd-14351c5d9a07",
   "metadata": {
    "tags": []
   },
   "outputs": [],
   "source": [
    "! python -m spacy train config_PIPE.cfg --output /src/ia2/ia2/models/all_pipe_t2v_ner  --paths.train /resources/datasets/docbin/train.spacy --paths.dev /resources/datasets/docbin/val.spacy"
   ]
  },
  {
   "cell_type": "markdown",
   "id": "46afeeb4-1dab-44b7-849d-62cfec6dad43",
   "metadata": {},
   "source": [
    "## Load Best Model"
   ]
  },
  {
   "cell_type": "code",
   "execution_count": null,
   "id": "07eb3399-abb8-44f7-ac59-121cb7f06bf8",
   "metadata": {
    "tags": []
   },
   "outputs": [],
   "source": [
    "nlp_pipe= spacy.load('/src/ia2/ia2/models/all_pipe_t2v_ner/model-best')"
   ]
  },
  {
   "cell_type": "code",
   "execution_count": null,
   "id": "80fde1f8-32b9-4452-94ea-97c213b064a8",
   "metadata": {
    "tags": []
   },
   "outputs": [],
   "source": [
    "nlp_pipe.pipe_names"
   ]
  },
  {
   "cell_type": "markdown",
   "id": "d892f380-9f1e-4351-9d08-5e9a17c93f1a",
   "metadata": {},
   "source": [
    "## Evaluate"
   ]
  },
  {
   "cell_type": "code",
   "execution_count": null,
   "id": "a5fab32a-cf82-452b-b2c3-aa54d7b500f4",
   "metadata": {},
   "outputs": [],
   "source": [
    "! python -m spacy evaluate /src/ia2/ia2/models/all_pipe_t2v_ner/model-best  /resources/datasets/docbin/test.spacy --output /resources/ouputs/metrics/pipe/metics.json --gold-preproc"
   ]
  },
  {
   "cell_type": "code",
   "execution_count": null,
   "id": "192da7fd-8f51-4f19-8b00-e3a40b73753f",
   "metadata": {},
   "outputs": [],
   "source": []
  }
 ],
 "metadata": {
  "kernelspec": {
   "display_name": "Python 3 (ipykernel)",
   "language": "python",
   "name": "python3"
  },
  "language_info": {
   "codemirror_mode": {
    "name": "ipython",
    "version": 3
   },
   "file_extension": ".py",
   "mimetype": "text/x-python",
   "name": "python",
   "nbconvert_exporter": "python",
   "pygments_lexer": "ipython3",
   "version": "3.10.8"
  }
 },
 "nbformat": 4,
 "nbformat_minor": 5
}
