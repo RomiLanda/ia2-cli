{
 "cells": [
  {
   "cell_type": "code",
   "execution_count": 1,
   "id": "b0430336-bd64-48fe-9eff-fe667eb3410c",
   "metadata": {
    "execution": {
     "iopub.execute_input": "2023-02-08T20:29:40.661536Z",
     "iopub.status.busy": "2023-02-08T20:29:40.661087Z",
     "iopub.status.idle": "2023-02-08T20:29:42.500371Z",
     "shell.execute_reply": "2023-02-08T20:29:42.499891Z",
     "shell.execute_reply.started": "2023-02-08T20:29:40.661518Z"
    },
    "tags": []
   },
   "outputs": [],
   "source": [
    "import spacy\n",
    "import json"
   ]
  },
  {
   "cell_type": "markdown",
   "id": "57689ef7-745e-475c-9586-2ed363f2e5f3",
   "metadata": {},
   "source": [
    "### Load model"
   ]
  },
  {
   "cell_type": "code",
   "execution_count": 2,
   "id": "38c0756b-11cb-4e7c-9a86-08a36d9eb894",
   "metadata": {
    "execution": {
     "iopub.execute_input": "2023-02-08T20:29:42.501226Z",
     "iopub.status.busy": "2023-02-08T20:29:42.501063Z",
     "iopub.status.idle": "2023-02-08T20:29:43.513002Z",
     "shell.execute_reply": "2023-02-08T20:29:43.512412Z",
     "shell.execute_reply.started": "2023-02-08T20:29:42.501212Z"
    },
    "tags": []
   },
   "outputs": [],
   "source": [
    "nlp= spacy.load('/src/ia2/ia2/models/ner_mor/model-best')"
   ]
  },
  {
   "cell_type": "code",
   "execution_count": 3,
   "id": "8fbdfb0b-72a2-42f0-a995-0120da13b04e",
   "metadata": {
    "execution": {
     "iopub.execute_input": "2023-02-08T20:29:43.513828Z",
     "iopub.status.busy": "2023-02-08T20:29:43.513698Z",
     "iopub.status.idle": "2023-02-08T20:29:43.518374Z",
     "shell.execute_reply": "2023-02-08T20:29:43.517980Z",
     "shell.execute_reply.started": "2023-02-08T20:29:43.513808Z"
    },
    "tags": []
   },
   "outputs": [
    {
     "data": {
      "text/plain": [
       "['tok2vec', 'morphologizer', 'ner']"
      ]
     },
     "execution_count": 3,
     "metadata": {},
     "output_type": "execute_result"
    }
   ],
   "source": [
    "nlp.pipe_names"
   ]
  },
  {
   "cell_type": "markdown",
   "id": "c8c3a28f-f53a-431f-b8ea-ae74655f8f6a",
   "metadata": {},
   "source": [
    "### Add EntityRuler in NER pipeline"
   ]
  },
  {
   "cell_type": "code",
   "execution_count": 4,
   "id": "1e362cda-c0f2-43aa-8c90-10457ea076c8",
   "metadata": {
    "execution": {
     "iopub.execute_input": "2023-02-08T20:29:45.157325Z",
     "iopub.status.busy": "2023-02-08T20:29:45.156869Z",
     "iopub.status.idle": "2023-02-08T20:29:45.174696Z",
     "shell.execute_reply": "2023-02-08T20:29:45.174202Z",
     "shell.execute_reply.started": "2023-02-08T20:29:45.157293Z"
    },
    "tags": []
   },
   "outputs": [],
   "source": [
    "from ia2.pipeline.entity_ruler import fetch_ruler_patterns_by_tag\n",
    "\n",
    "pipelines_tag = \"todas\"\n",
    "\n",
    "ruler = nlp.add_pipe(\"entity_ruler\", after='ner')\n",
    "patterns = fetch_ruler_patterns_by_tag(pipelines_tag)\n",
    "ruler.add_patterns(patterns)"
   ]
  },
  {
   "cell_type": "code",
   "execution_count": 5,
   "id": "0c6d60f8-8c1c-4bd2-82d5-6d32fdc62f8c",
   "metadata": {
    "execution": {
     "iopub.execute_input": "2023-02-08T20:29:46.137899Z",
     "iopub.status.busy": "2023-02-08T20:29:46.137606Z",
     "iopub.status.idle": "2023-02-08T20:29:46.141802Z",
     "shell.execute_reply": "2023-02-08T20:29:46.141291Z",
     "shell.execute_reply.started": "2023-02-08T20:29:46.137879Z"
    },
    "tags": []
   },
   "outputs": [
    {
     "data": {
      "text/plain": [
       "['tok2vec', 'morphologizer', 'ner', 'entity_ruler']"
      ]
     },
     "execution_count": 5,
     "metadata": {},
     "output_type": "execute_result"
    }
   ],
   "source": [
    "nlp.pipe_names"
   ]
  },
  {
   "cell_type": "code",
   "execution_count": 6,
   "id": "5b802760-a264-4af5-9a53-b2af18b64993",
   "metadata": {
    "execution": {
     "iopub.execute_input": "2023-02-08T20:29:46.823586Z",
     "iopub.status.busy": "2023-02-08T20:29:46.823020Z",
     "iopub.status.idle": "2023-02-08T20:29:46.829887Z",
     "shell.execute_reply": "2023-02-08T20:29:46.829248Z",
     "shell.execute_reply.started": "2023-02-08T20:29:46.823541Z"
    },
    "tags": []
   },
   "outputs": [
    {
     "data": {
      "text/plain": [
       "('ARTÍCULO', 'DIRECCIÓN', 'LOC', 'PER')"
      ]
     },
     "execution_count": 6,
     "metadata": {},
     "output_type": "execute_result"
    }
   ],
   "source": [
    "nlp.get_pipe('ner').labels"
   ]
  },
  {
   "cell_type": "code",
   "execution_count": 7,
   "id": "e019faed-2245-4513-a67a-c0db63c984cb",
   "metadata": {
    "execution": {
     "iopub.execute_input": "2023-02-08T20:29:48.442234Z",
     "iopub.status.busy": "2023-02-08T20:29:48.441960Z",
     "iopub.status.idle": "2023-02-08T20:29:48.447071Z",
     "shell.execute_reply": "2023-02-08T20:29:48.446475Z",
     "shell.execute_reply.started": "2023-02-08T20:29:48.442213Z"
    },
    "tags": []
   },
   "outputs": [
    {
     "data": {
      "text/plain": [
       "('BANCO',\n",
       " 'CBU',\n",
       " 'CORREO_ELECTRÓNICO',\n",
       " 'ESTUDIOS',\n",
       " 'FECHA',\n",
       " 'FECHA_NUMÉRICA',\n",
       " 'LEY',\n",
       " 'LINK',\n",
       " 'MARCA_AUTOMÓVIL',\n",
       " 'NACIONALIDAD',\n",
       " 'NOMBRE_ARCHIVO',\n",
       " 'NUM_CUIJ',\n",
       " 'NUM_CUIT_CUIL',\n",
       " 'NUM_DNI',\n",
       " 'NUM_IP',\n",
       " 'NUM_TELÉFONO',\n",
       " 'PASAPORTE',\n",
       " 'PATENTE_DOMINIO',\n",
       " 'USUARIX')"
      ]
     },
     "execution_count": 7,
     "metadata": {},
     "output_type": "execute_result"
    }
   ],
   "source": [
    "nlp.get_pipe('entity_ruler').labels"
   ]
  },
  {
   "cell_type": "markdown",
   "id": "81383dc2-0cd1-49b0-bf63-5a0efc8a7a9f",
   "metadata": {},
   "source": [
    "### Save custom model"
   ]
  },
  {
   "cell_type": "code",
   "execution_count": 8,
   "id": "e9728d9e-a8b5-441e-b5cf-f5461cdb2965",
   "metadata": {
    "execution": {
     "iopub.execute_input": "2023-02-08T20:29:59.709410Z",
     "iopub.status.busy": "2023-02-08T20:29:59.709083Z",
     "iopub.status.idle": "2023-02-08T20:30:00.336497Z",
     "shell.execute_reply": "2023-02-08T20:30:00.335866Z",
     "shell.execute_reply.started": "2023-02-08T20:29:59.709384Z"
    },
    "tags": []
   },
   "outputs": [],
   "source": [
    "nlp.to_disk('/src/ia2/ia2/models/ner_mor_enti/')"
   ]
  },
  {
   "cell_type": "markdown",
   "id": "c7c5b78a-bad0-4bcd-9f16-68b1f36c61d6",
   "metadata": {},
   "source": [
    "### Evaluate custom model"
   ]
  },
  {
   "cell_type": "code",
   "execution_count": 9,
   "id": "e3630992-bdfc-43fc-b1e5-8a8678b555e3",
   "metadata": {
    "execution": {
     "iopub.execute_input": "2023-02-08T20:33:08.387475Z",
     "iopub.status.busy": "2023-02-08T20:33:08.387026Z",
     "iopub.status.idle": "2023-02-08T20:33:29.261716Z",
     "shell.execute_reply": "2023-02-08T20:33:29.259253Z",
     "shell.execute_reply.started": "2023-02-08T20:33:08.387456Z"
    },
    "tags": []
   },
   "outputs": [
    {
     "name": "stdout",
     "output_type": "stream",
     "text": [
      "\u001b[38;5;4mℹ Using CPU\u001b[0m\n",
      "\u001b[38;5;4mℹ To switch to GPU 0, use the option: --gpu-id 0\u001b[0m\n",
      "\u001b[1m\n",
      "================================== Results ==================================\u001b[0m\n",
      "\n",
      "TOK     100.00\n",
      "POS     -     \n",
      "MORPH   -     \n",
      "NER P   41.03 \n",
      "NER R   81.05 \n",
      "NER F   54.48 \n",
      "SPEED   5991  \n",
      "\n",
      "\u001b[1m\n",
      "=============================== NER (per type) ===============================\u001b[0m\n",
      "\n",
      "                         P       R       F\n",
      "ARTÍCULO             70.46   86.09   77.50\n",
      "LEY                   0.00    0.00    0.00\n",
      "NUM_CUIJ              0.00    0.00    0.00\n",
      "LOC                  67.66   81.29   73.86\n",
      "FECHA                 0.00    0.00    0.00\n",
      "DIRECCIÓN            72.93   88.99   80.17\n",
      "PER                  50.63   64.02   56.54\n",
      "CORREO_ELECTRÓNICO    0.00    0.00    0.00\n",
      "NUM_DNI               0.00    0.00    0.00\n",
      "NUM_TELÉFONO          0.00    0.00    0.00\n",
      "FECHA_NUMÉRICA        0.00    0.00    0.00\n",
      "ESTUDIOS              0.00    0.00    0.00\n",
      "BANCO                 0.00    0.00    0.00\n",
      "LINK                  0.00    0.00    0.00\n",
      "NOMBRE_ARCHIVO        0.00    0.00    0.00\n",
      "PATENTE_DOMINIO       0.00    0.00    0.00\n",
      "MARCA_AUTOMÓVIL       0.00    0.00    0.00\n",
      "\n",
      "\u001b[38;5;2m✔ Generated 15 parses as HTML\u001b[0m\n",
      "/resources/ouputs/displacy/ner_mor_ent\n",
      "\u001b[38;5;2m✔ Saved results to /resources/ouputs/metrics/ner_mor_ent.json\u001b[0m\n"
     ]
    }
   ],
   "source": [
    "! python -m spacy evaluate /src/ia2/ia2/models/ner_mor_enti/ /resources/datasets/docbin/test.spacy --output /resources/ouputs/metrics/ner_mor_ent.json --gold-preproc --code /src/ia2/ia2/pipeline/entity_ruler.py --displacy-path /resources/ouputs/displacy/ner_mor_ent --displacy-limit 15"
   ]
  },
  {
   "cell_type": "code",
   "execution_count": 10,
   "id": "7afb40bf-688a-47a0-af4b-f3a5815b5aaf",
   "metadata": {
    "execution": {
     "iopub.execute_input": "2023-02-08T20:33:37.462578Z",
     "iopub.status.busy": "2023-02-08T20:33:37.462383Z",
     "iopub.status.idle": "2023-02-08T20:33:37.467427Z",
     "shell.execute_reply": "2023-02-08T20:33:37.466962Z",
     "shell.execute_reply.started": "2023-02-08T20:33:37.462563Z"
    },
    "tags": []
   },
   "outputs": [],
   "source": [
    "path_data_testing = '/resources/datasets/unified/test.json'\n",
    "with open(path_data_testing) as f:\n",
    "    testing_data = json.load(f)"
   ]
  },
  {
   "cell_type": "code",
   "execution_count": 11,
   "id": "21eb4c51-29f9-46ff-89dc-b3791eb597f4",
   "metadata": {
    "execution": {
     "iopub.execute_input": "2023-02-08T20:33:38.036025Z",
     "iopub.status.busy": "2023-02-08T20:33:38.035629Z",
     "iopub.status.idle": "2023-02-08T20:33:38.184302Z",
     "shell.execute_reply": "2023-02-08T20:33:38.183792Z",
     "shell.execute_reply.started": "2023-02-08T20:33:38.035992Z"
    },
    "tags": []
   },
   "outputs": [],
   "source": [
    "text = testing_data[1][0]\n",
    "doc = nlp(text)"
   ]
  },
  {
   "cell_type": "code",
   "execution_count": null,
   "id": "b77133e5-b4bd-436a-bd3d-186cde3666b5",
   "metadata": {
    "tags": []
   },
   "outputs": [],
   "source": [
    "doc.ents"
   ]
  },
  {
   "cell_type": "code",
   "execution_count": null,
   "id": "8d0dec29-baab-44e3-8d59-d96a193073ca",
   "metadata": {
    "tags": []
   },
   "outputs": [],
   "source": [
    "len(doc.ents)"
   ]
  },
  {
   "cell_type": "code",
   "execution_count": null,
   "id": "4d8197c4-b6b6-4e8e-a0c3-5e6aedeea61d",
   "metadata": {
    "tags": []
   },
   "outputs": [],
   "source": [
    "spacy.displacy.render(doc, style='ent', jupyter=True)"
   ]
  },
  {
   "cell_type": "markdown",
   "id": "89a2f999-d5ec-4c7d-b536-54f371434173",
   "metadata": {},
   "source": [
    "### Deploy custom model"
   ]
  },
  {
   "cell_type": "code",
   "execution_count": null,
   "id": "0baaa6f6-6b8e-4356-8c92-5c7e8c4b1cab",
   "metadata": {
    "tags": []
   },
   "outputs": [],
   "source": [
    "! python -m spacy info "
   ]
  },
  {
   "cell_type": "code",
   "execution_count": 15,
   "id": "c2de7fad-0f88-4c61-8fd4-362fe1a45cba",
   "metadata": {
    "execution": {
     "iopub.execute_input": "2023-02-08T20:35:09.172691Z",
     "iopub.status.busy": "2023-02-08T20:35:09.172354Z",
     "iopub.status.idle": "2023-02-08T20:35:38.836591Z",
     "shell.execute_reply": "2023-02-08T20:35:38.835182Z",
     "shell.execute_reply.started": "2023-02-08T20:35:09.172664Z"
    },
    "tags": []
   },
   "outputs": [
    {
     "name": "stdout",
     "output_type": "stream",
     "text": [
      "\u001b[38;5;4mℹ Building package artifacts: sdist\u001b[0m\n",
      "\u001b[38;5;2m✔ Including 1 Python module(s) with custom code\u001b[0m\n",
      "\u001b[38;5;2m✔ Loaded meta.json from file\u001b[0m\n",
      "/src/ia2/ia2/models/ner_mor_enti/meta.json\n",
      "\u001b[38;5;2m✔ Generated README.md from meta.json\u001b[0m\n",
      "\u001b[38;5;2m✔ Successfully created package directory 'es_pipeline-1.0.0'\u001b[0m\n",
      "/src/ia2/ia2/deploy/es_pipeline-1.0.0\n",
      "running sdist\n",
      "running egg_info\n",
      "creating es_pipeline.egg-info\n",
      "writing es_pipeline.egg-info/PKG-INFO\n",
      "writing dependency_links to es_pipeline.egg-info/dependency_links.txt\n",
      "writing entry points to es_pipeline.egg-info/entry_points.txt\n",
      "writing requirements to es_pipeline.egg-info/requires.txt\n",
      "writing top-level names to es_pipeline.egg-info/top_level.txt\n",
      "writing manifest file 'es_pipeline.egg-info/SOURCES.txt'\n",
      "reading manifest file 'es_pipeline.egg-info/SOURCES.txt'\n",
      "reading manifest template 'MANIFEST.in'\n",
      "warning: no files found matching 'LICENSE'\n",
      "warning: no files found matching 'LICENSES_SOURCES'\n",
      "writing manifest file 'es_pipeline.egg-info/SOURCES.txt'\n",
      "running check\n",
      "creating es_pipeline-1.0.0\n",
      "creating es_pipeline-1.0.0/es_pipeline\n",
      "creating es_pipeline-1.0.0/es_pipeline.egg-info\n",
      "creating es_pipeline-1.0.0/es_pipeline/es_pipeline-1.0.0\n",
      "creating es_pipeline-1.0.0/es_pipeline/es_pipeline-1.0.0/entity_ruler\n",
      "creating es_pipeline-1.0.0/es_pipeline/es_pipeline-1.0.0/morphologizer\n",
      "creating es_pipeline-1.0.0/es_pipeline/es_pipeline-1.0.0/ner\n",
      "creating es_pipeline-1.0.0/es_pipeline/es_pipeline-1.0.0/tok2vec\n",
      "creating es_pipeline-1.0.0/es_pipeline/es_pipeline-1.0.0/vocab\n",
      "copying files to es_pipeline-1.0.0...\n",
      "copying MANIFEST.in -> es_pipeline-1.0.0\n",
      "copying README.md -> es_pipeline-1.0.0\n",
      "copying meta.json -> es_pipeline-1.0.0\n",
      "copying setup.py -> es_pipeline-1.0.0\n",
      "copying es_pipeline/__init__.py -> es_pipeline-1.0.0/es_pipeline\n",
      "copying es_pipeline/entity_ruler.py -> es_pipeline-1.0.0/es_pipeline\n",
      "copying es_pipeline/meta.json -> es_pipeline-1.0.0/es_pipeline\n",
      "copying es_pipeline.egg-info/PKG-INFO -> es_pipeline-1.0.0/es_pipeline.egg-info\n",
      "copying es_pipeline.egg-info/SOURCES.txt -> es_pipeline-1.0.0/es_pipeline.egg-info\n",
      "copying es_pipeline.egg-info/dependency_links.txt -> es_pipeline-1.0.0/es_pipeline.egg-info\n",
      "copying es_pipeline.egg-info/entry_points.txt -> es_pipeline-1.0.0/es_pipeline.egg-info\n",
      "copying es_pipeline.egg-info/not-zip-safe -> es_pipeline-1.0.0/es_pipeline.egg-info\n",
      "copying es_pipeline.egg-info/requires.txt -> es_pipeline-1.0.0/es_pipeline.egg-info\n",
      "copying es_pipeline.egg-info/top_level.txt -> es_pipeline-1.0.0/es_pipeline.egg-info\n",
      "copying es_pipeline/es_pipeline-1.0.0/README.md -> es_pipeline-1.0.0/es_pipeline/es_pipeline-1.0.0\n",
      "copying es_pipeline/es_pipeline-1.0.0/config.cfg -> es_pipeline-1.0.0/es_pipeline/es_pipeline-1.0.0\n",
      "copying es_pipeline/es_pipeline-1.0.0/meta.json -> es_pipeline-1.0.0/es_pipeline/es_pipeline-1.0.0\n",
      "copying es_pipeline/es_pipeline-1.0.0/tokenizer -> es_pipeline-1.0.0/es_pipeline/es_pipeline-1.0.0\n",
      "copying es_pipeline/es_pipeline-1.0.0/entity_ruler/cfg -> es_pipeline-1.0.0/es_pipeline/es_pipeline-1.0.0/entity_ruler\n",
      "copying es_pipeline/es_pipeline-1.0.0/entity_ruler/patterns.jsonl -> es_pipeline-1.0.0/es_pipeline/es_pipeline-1.0.0/entity_ruler\n",
      "copying es_pipeline/es_pipeline-1.0.0/morphologizer/cfg -> es_pipeline-1.0.0/es_pipeline/es_pipeline-1.0.0/morphologizer\n",
      "copying es_pipeline/es_pipeline-1.0.0/morphologizer/model -> es_pipeline-1.0.0/es_pipeline/es_pipeline-1.0.0/morphologizer\n",
      "copying es_pipeline/es_pipeline-1.0.0/ner/cfg -> es_pipeline-1.0.0/es_pipeline/es_pipeline-1.0.0/ner\n",
      "copying es_pipeline/es_pipeline-1.0.0/ner/model -> es_pipeline-1.0.0/es_pipeline/es_pipeline-1.0.0/ner\n",
      "copying es_pipeline/es_pipeline-1.0.0/ner/moves -> es_pipeline-1.0.0/es_pipeline/es_pipeline-1.0.0/ner\n",
      "copying es_pipeline/es_pipeline-1.0.0/tok2vec/cfg -> es_pipeline-1.0.0/es_pipeline/es_pipeline-1.0.0/tok2vec\n",
      "copying es_pipeline/es_pipeline-1.0.0/tok2vec/model -> es_pipeline-1.0.0/es_pipeline/es_pipeline-1.0.0/tok2vec\n",
      "copying es_pipeline/es_pipeline-1.0.0/vocab/key2row -> es_pipeline-1.0.0/es_pipeline/es_pipeline-1.0.0/vocab\n",
      "copying es_pipeline/es_pipeline-1.0.0/vocab/lookups.bin -> es_pipeline-1.0.0/es_pipeline/es_pipeline-1.0.0/vocab\n",
      "copying es_pipeline/es_pipeline-1.0.0/vocab/strings.json -> es_pipeline-1.0.0/es_pipeline/es_pipeline-1.0.0/vocab\n",
      "copying es_pipeline/es_pipeline-1.0.0/vocab/vectors -> es_pipeline-1.0.0/es_pipeline/es_pipeline-1.0.0/vocab\n",
      "copying es_pipeline/es_pipeline-1.0.0/vocab/vectors.cfg -> es_pipeline-1.0.0/es_pipeline/es_pipeline-1.0.0/vocab\n",
      "Writing es_pipeline-1.0.0/setup.cfg\n",
      "creating dist\n",
      "Creating tar archive\n",
      "removing 'es_pipeline-1.0.0' (and everything under it)\n",
      "\u001b[38;5;2m✔ Successfully created zipped Python package\u001b[0m\n",
      "/src/ia2/ia2/deploy/es_pipeline-1.0.0/dist/es_pipeline-1.0.0.tar.gz\n"
     ]
    }
   ],
   "source": [
    "! python -m spacy package /src/ia2/ia2/models/ner_mor_enti/ /src/ia2/ia2/deploy --code /src/ia2/ia2/pipeline/entity_ruler.py -v 1.0.0"
   ]
  },
  {
   "cell_type": "code",
   "execution_count": null,
   "id": "071d834d-bb57-4734-bf4e-3054c90ae02a",
   "metadata": {},
   "outputs": [],
   "source": []
  }
 ],
 "metadata": {
  "kernelspec": {
   "display_name": "Python 3 (ipykernel)",
   "language": "python",
   "name": "python3"
  },
  "language_info": {
   "codemirror_mode": {
    "name": "ipython",
    "version": 3
   },
   "file_extension": ".py",
   "mimetype": "text/x-python",
   "name": "python",
   "nbconvert_exporter": "python",
   "pygments_lexer": "ipython3",
   "version": "3.10.9"
  }
 },
 "nbformat": 4,
 "nbformat_minor": 5
}
