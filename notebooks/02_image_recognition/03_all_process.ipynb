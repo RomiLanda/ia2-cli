{
 "cells": [
  {
   "cell_type": "code",
   "execution_count": null,
   "id": "d161d4a8-8cea-48e5-8671-98091b931009",
   "metadata": {
    "tags": []
   },
   "outputs": [],
   "source": [
    "import pdf2image\n",
    "import os\n",
    "import glob\n",
    "import cv2\n",
    "import numpy as np\n",
    "import layoutparser as lp\n",
    "import matplotlib.pyplot as plt"
   ]
  },
  {
   "cell_type": "markdown",
   "id": "5d6693bb-e92c-4cdd-bdb0-3865f093f7ee",
   "metadata": {},
   "source": [
    "### Open pdf"
   ]
  },
  {
   "cell_type": "code",
   "execution_count": null,
   "id": "f4ee20eb-f199-4fbb-8313-e7886044a96e",
   "metadata": {
    "tags": []
   },
   "outputs": [],
   "source": [
    "path_pdf = \"/resources/datasets/image_recognition/sentencias/FALLO_TOMO CAF 023440_2022_CS001.pdf\""
   ]
  },
  {
   "cell_type": "code",
   "execution_count": null,
   "id": "4402474d-599a-43c7-b5d4-e5b9bab33587",
   "metadata": {
    "tags": []
   },
   "outputs": [],
   "source": [
    "doc = pdf2image.convert_from_path(path_pdf)\n",
    "len(doc)"
   ]
  },
  {
   "cell_type": "markdown",
   "id": "85b7c123-fb01-4813-bdcf-5752bfdd6922",
   "metadata": {},
   "source": [
    "### Create png by page"
   ]
  },
  {
   "cell_type": "code",
   "execution_count": null,
   "id": "134cda2a-4bed-4cd2-b629-dba7fd2407ca",
   "metadata": {
    "tags": []
   },
   "outputs": [],
   "source": [
    "OUTPUT_PATH = '/resources/datasets/image_recognition/sentencias/images/'"
   ]
  },
  {
   "cell_type": "code",
   "execution_count": null,
   "id": "0ca92d60-fd67-4ae3-a897-be3b8e045134",
   "metadata": {
    "tags": []
   },
   "outputs": [],
   "source": [
    "def create_image_from_pdf(pdf_path: str, OUTPUT_PATH: str):\n",
    "    image_path = pdf2image.convert_from_path(\n",
    "        pdf_path,\n",
    "        dpi=600,\n",
    "        output_folder=OUTPUT_PATH,\n",
    "        fmt='png',\n",
    "        paths_only=True\n",
    "    )[0]\n",
    "\n",
    "    target_name = f'{os.path.basename(pdf_path)}.png'\n",
    "    target_path = f'{OUTPUT_PATH}/{target_name}'\n",
    "    os.rename(image_path, target_path)"
   ]
  },
  {
   "cell_type": "code",
   "execution_count": null,
   "id": "545d0e7e-15f7-43d8-a92a-975d9702eb3f",
   "metadata": {
    "tags": []
   },
   "outputs": [],
   "source": [
    "create_image_from_pdf(path_pdf, OUTPUT_PATH)"
   ]
  },
  {
   "cell_type": "markdown",
   "id": "480fd273-e5cd-445b-ab35-31941cb55456",
   "metadata": {},
   "source": [
    "### Open images and Images detect"
   ]
  },
  {
   "cell_type": "code",
   "execution_count": null,
   "id": "092ec49a-79d9-467c-8847-594ff1398f1a",
   "metadata": {
    "tags": []
   },
   "outputs": [],
   "source": [
    "def apply_image_detect(img_array):\n",
    "    model = lp.Detectron2LayoutModel(\"lp://PubLayNet/mask_rcnn_X_101_32x8d_FPN_3x/config\",\n",
    "                                     extra_config=[\"MODEL.ROI_HEADS.SCORE_THRESH_TEST\", 0.8],\n",
    "                                     label_map={0: \"Text\", 1: \"Title\", 2: \"List\", 3:\"Table\", 4:\"Figure\"})\n",
    "    return model.detect(img_array)\n",
    "    \n",
    "def transform_images(folder_images_path: str):\n",
    "    \"\"\"Transforma imagenes de una carpeta en array\"\"\"\n",
    "    images = [cv2.imread(file) for file in glob.glob(folder_images_path)]\n",
    "    imgs_array = [np.asarray(image) for image in images]\n",
    "    return imgs_array\n",
    "\n",
    "def classifier(img_array):\n",
    "    \"\"\"Return True si hay figura\"\"\"\n",
    "    layuout = apply_image_detect(img_array)\n",
    "    for ly in layuout.get_info('type'):\n",
    "        if ly =='Figure':\n",
    "            return True\n",
    "        else:\n",
    "            return False"
   ]
  },
  {
   "cell_type": "code",
   "execution_count": null,
   "id": "22b43b40-32fe-41b7-b834-dd36822e2306",
   "metadata": {
    "tags": []
   },
   "outputs": [],
   "source": [
    "images = transform_images(\"/resources/datasets/image_recognition/sentencias/images/*.png\")"
   ]
  },
  {
   "cell_type": "code",
   "execution_count": null,
   "id": "d9300a72-7d71-4306-914a-ba928712afef",
   "metadata": {
    "tags": []
   },
   "outputs": [],
   "source": [
    "img_fig = [img for img in images if classifier(img)]"
   ]
  },
  {
   "cell_type": "code",
   "execution_count": null,
   "id": "e339642f-1bef-482f-bb0b-53a9e9feb22b",
   "metadata": {
    "tags": []
   },
   "outputs": [],
   "source": [
    "len(img_fig)"
   ]
  },
  {
   "cell_type": "code",
   "execution_count": null,
   "id": "b6436744-2c3a-4c7d-b7a4-f1ed0dc9b8f7",
   "metadata": {
    "tags": []
   },
   "outputs": [],
   "source": [
    "# plt.figure(figsize=(10,40))\n",
    "# plt.imshow(img_fig[4])"
   ]
  },
  {
   "cell_type": "markdown",
   "id": "26799745-b8ae-4baa-9b85-bac184a6ecd6",
   "metadata": {},
   "source": [
    "### Analize images"
   ]
  },
  {
   "cell_type": "code",
   "execution_count": null,
   "id": "42abf116-f277-4125-90e6-e68cc65a9738",
   "metadata": {
    "tags": []
   },
   "outputs": [],
   "source": [
    "def get_images_boxes(img_array):\n",
    "    df_lyt = apply_image_detect(img_array).to_dataframe()\n",
    "    df_lyt_fig = df_lyt[df_lyt['type']=='Figure']\n",
    "    d = df_lyt_fig.to_dict()\n",
    "    box = {\n",
    "        'x_1': int(d['x_1'][0]),\n",
    "        'y_1': int(d['y_1'][0]),\n",
    "        'x_2': int(d['x_2'][0]),\n",
    "        'y_2': int(d['y_2'][0])\n",
    "    }\n",
    "    return box"
   ]
  },
  {
   "cell_type": "code",
   "execution_count": null,
   "id": "c45c5050-bb55-4503-9e04-cfaf3d42de65",
   "metadata": {
    "tags": []
   },
   "outputs": [],
   "source": [
    "img_test = img_fig[4]\n",
    "box = get_images_boxes(img_test)\n",
    "box"
   ]
  },
  {
   "cell_type": "code",
   "execution_count": null,
   "id": "9275bc4a-8b08-4ff1-948b-ea18ffbb1df4",
   "metadata": {
    "tags": []
   },
   "outputs": [],
   "source": [
    "cv2.rectangle(img_test, (box['x_1'], box['y_1']), (box['x_2'], box['y_2']), (255, 0, 0), 0)\n",
    "plt.figure(figsize=(10,40))\n",
    "plt.imshow(img_test)"
   ]
  },
  {
   "cell_type": "markdown",
   "id": "4dc558dc-a5e5-40ca-a91e-093f53c1bb7e",
   "metadata": {
    "execution": {
     "iopub.execute_input": "2022-12-21T17:46:10.713502Z",
     "iopub.status.busy": "2022-12-21T17:46:10.712792Z",
     "iopub.status.idle": "2022-12-21T17:46:10.716419Z",
     "shell.execute_reply": "2022-12-21T17:46:10.715715Z",
     "shell.execute_reply.started": "2022-12-21T17:46:10.713476Z"
    }
   },
   "source": [
    "### Analize figure in images"
   ]
  },
  {
   "cell_type": "code",
   "execution_count": null,
   "id": "f8301daf-16ac-4963-8a72-ef187c991fe8",
   "metadata": {
    "tags": []
   },
   "outputs": [],
   "source": [
    "def face_recognition(img_array,box_fig):\n",
    "    face_cascade = cv2.CascadeClassifier(\"/resources/datasets/image_recognition/haarcascade_frontalface_default.xml\")\n",
    "    fig = img_test[box_fig['y_1']:box_fig['y_2'], box_fig['x_1']:box_fig['x_2']]\n",
    "    gray = cv2.cvtColor(fig, cv2.COLOR_BGR2GRAY)\n",
    "    faces = face_cascade.detectMultiScale(gray, 1.1, 5)\n",
    "    return fig,faces\n",
    "\n",
    "def blurear(img_array, list_area):\n",
    "    for (x,y,w,h) in list_area:\n",
    "        area_color = img_array[y:y + h, x:x + w]\n",
    "        blur = cv2.GaussianBlur(area_color, (1001, 1001), 0)\n",
    "        img_array[y:y + h, x:x + w] = blur\n",
    "    return img_array"
   ]
  },
  {
   "cell_type": "code",
   "execution_count": null,
   "id": "daba9269-993e-43f5-8c62-1e9edf26c60e",
   "metadata": {
    "tags": []
   },
   "outputs": [],
   "source": [
    "fig, faces = face_recognition(img_test, box)"
   ]
  },
  {
   "cell_type": "code",
   "execution_count": null,
   "id": "8d50b988-3f67-46fd-8c6e-b81a56810600",
   "metadata": {
    "tags": []
   },
   "outputs": [],
   "source": [
    "blurear(fig,faces)\n",
    "plt.figure(figsize=(10,40))\n",
    "plt.imshow(img_test)"
   ]
  },
  {
   "cell_type": "code",
   "execution_count": null,
   "id": "1eb51ab8-3e9f-4675-a50d-e79119989aa1",
   "metadata": {},
   "outputs": [],
   "source": []
  }
 ],
 "metadata": {
  "kernelspec": {
   "display_name": "Python 3 (ipykernel)",
   "language": "python",
   "name": "python3"
  },
  "language_info": {
   "codemirror_mode": {
    "name": "ipython",
    "version": 3
   },
   "file_extension": ".py",
   "mimetype": "text/x-python",
   "name": "python",
   "nbconvert_exporter": "python",
   "pygments_lexer": "ipython3",
   "version": "3.8.10"
  }
 },
 "nbformat": 4,
 "nbformat_minor": 5
}
