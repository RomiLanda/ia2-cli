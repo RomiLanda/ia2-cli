{
 "cells": [
  {
   "cell_type": "code",
   "execution_count": 5,
   "id": "21317fda-edc8-4683-9237-797c0a7df69d",
   "metadata": {
    "execution": {
     "iopub.execute_input": "2022-11-11T17:08:55.248854Z",
     "iopub.status.busy": "2022-11-11T17:08:55.248565Z",
     "iopub.status.idle": "2022-11-11T17:08:55.251428Z",
     "shell.execute_reply": "2022-11-11T17:08:55.250982Z",
     "shell.execute_reply.started": "2022-11-11T17:08:55.248832Z"
    },
    "tags": []
   },
   "outputs": [],
   "source": [
    "# ! pip install layoutparser torchvision"
   ]
  },
  {
   "cell_type": "code",
   "execution_count": 10,
   "id": "88ecbc6a-b549-4f75-8d9d-e325f1865c23",
   "metadata": {
    "execution": {
     "iopub.execute_input": "2022-11-11T17:18:14.591247Z",
     "iopub.status.busy": "2022-11-11T17:18:14.590891Z",
     "iopub.status.idle": "2022-11-11T17:18:14.593827Z",
     "shell.execute_reply": "2022-11-11T17:18:14.593207Z",
     "shell.execute_reply.started": "2022-11-11T17:18:14.591229Z"
    },
    "tags": []
   },
   "outputs": [],
   "source": [
    "# ! python -m pip install detectron2 -f \\\n",
    "#   https://dl.fbaipublicfiles.com/detectron2/wheels/cu113/torch1.10/index.html"
   ]
  },
  {
   "cell_type": "code",
   "execution_count": 1,
   "id": "dd1ac2b7-2d10-4360-8eed-94f8ec311414",
   "metadata": {
    "execution": {
     "iopub.execute_input": "2022-11-14T17:01:12.477677Z",
     "iopub.status.busy": "2022-11-14T17:01:12.477240Z",
     "iopub.status.idle": "2022-11-14T17:01:13.715608Z",
     "shell.execute_reply": "2022-11-14T17:01:13.714784Z",
     "shell.execute_reply.started": "2022-11-14T17:01:12.477593Z"
    },
    "tags": []
   },
   "outputs": [],
   "source": [
    "import torch"
   ]
  },
  {
   "cell_type": "code",
   "execution_count": 2,
   "id": "90a7d068-4fa8-4a18-b27e-319ba74343e6",
   "metadata": {
    "execution": {
     "iopub.execute_input": "2022-11-14T17:01:14.293296Z",
     "iopub.status.busy": "2022-11-14T17:01:14.292804Z",
     "iopub.status.idle": "2022-11-14T17:01:14.303253Z",
     "shell.execute_reply": "2022-11-14T17:01:14.302578Z",
     "shell.execute_reply.started": "2022-11-14T17:01:14.293262Z"
    },
    "tags": []
   },
   "outputs": [
    {
     "data": {
      "text/plain": [
       "'1.10.0+cu113'"
      ]
     },
     "execution_count": 2,
     "metadata": {},
     "output_type": "execute_result"
    }
   ],
   "source": [
    "torch.__version__"
   ]
  },
  {
   "cell_type": "code",
   "execution_count": 1,
   "id": "589ed35f-71d2-4199-b931-e1b117fc9983",
   "metadata": {
    "execution": {
     "iopub.execute_input": "2022-11-14T17:28:24.412489Z",
     "iopub.status.busy": "2022-11-14T17:28:24.412214Z",
     "iopub.status.idle": "2022-11-14T17:28:24.498500Z",
     "shell.execute_reply": "2022-11-14T17:28:24.497946Z",
     "shell.execute_reply.started": "2022-11-14T17:28:24.412419Z"
    },
    "tags": []
   },
   "outputs": [],
   "source": [
    "import cv2\n",
    "import numpy as np\n",
    "import layoutparser as lp"
   ]
  },
  {
   "cell_type": "code",
   "execution_count": 7,
   "id": "154f0c93-a497-417d-aa73-a49a11ba03ce",
   "metadata": {
    "execution": {
     "iopub.execute_input": "2022-11-11T17:16:30.220575Z",
     "iopub.status.busy": "2022-11-11T17:16:30.219936Z",
     "iopub.status.idle": "2022-11-11T17:16:30.237634Z",
     "shell.execute_reply": "2022-11-11T17:16:30.237197Z",
     "shell.execute_reply.started": "2022-11-11T17:16:30.220547Z"
    },
    "tags": []
   },
   "outputs": [],
   "source": [
    "image_path = \"/resources/datasets/image_recognition/Screenshot from 2022-11-09 14-44-11.png\"\n",
    "image = cv2.imread(image_path)"
   ]
  },
  {
   "cell_type": "code",
   "execution_count": 11,
   "id": "69655088-6d0e-4fa2-b49d-44a5e75d6544",
   "metadata": {
    "execution": {
     "iopub.execute_input": "2022-11-11T17:22:32.456836Z",
     "iopub.status.busy": "2022-11-11T17:22:32.456465Z",
     "iopub.status.idle": "2022-11-11T17:22:32.477701Z",
     "shell.execute_reply": "2022-11-11T17:22:32.477095Z",
     "shell.execute_reply.started": "2022-11-11T17:22:32.456816Z"
    },
    "tags": []
   },
   "outputs": [
    {
     "ename": "AttributeError",
     "evalue": "module layoutparser has no attribute Detectron2LayoutModel",
     "output_type": "error",
     "traceback": [
      "\u001b[0;31m---------------------------------------------------------------------------\u001b[0m",
      "\u001b[0;31mAttributeError\u001b[0m                            Traceback (most recent call last)",
      "Cell \u001b[0;32mIn [11], line 2\u001b[0m\n\u001b[1;32m      1\u001b[0m \u001b[38;5;66;03m## load pre-trained model\u001b[39;00m\n\u001b[0;32m----> 2\u001b[0m model \u001b[38;5;241m=\u001b[39m \u001b[43mlp\u001b[49m\u001b[38;5;241;43m.\u001b[39;49m\u001b[43mDetectron2LayoutModel\u001b[49m(\n\u001b[1;32m      3\u001b[0m    \u001b[38;5;124m\"\u001b[39m\u001b[38;5;124mlp://NewspaperNavigator/faster_rcnn_R_50_FPN_3x/config\u001b[39m\u001b[38;5;124m\"\u001b[39m,\n\u001b[1;32m      4\u001b[0m    extra_config\u001b[38;5;241m=\u001b[39m[\u001b[38;5;124m\"\u001b[39m\u001b[38;5;124mMODEL.ROI_HEADS.SCORE_THRESH_TEST\u001b[39m\u001b[38;5;124m\"\u001b[39m, \u001b[38;5;241m0.8\u001b[39m],\n\u001b[1;32m      5\u001b[0m    \u001b[38;5;66;03m# label_map={0: \"Photograph\", 1: \"Illustration\", 2: \"Map\", 3: \"Comics/Cartoon\", 4: \"Editorial Cartoon\", 5: \"Headline\", 6: \"Advertisement\"})\u001b[39;00m\n\u001b[1;32m      6\u001b[0m     label_map\u001b[38;5;241m=\u001b[39m{\u001b[38;5;241m0\u001b[39m: \u001b[38;5;124m\"\u001b[39m\u001b[38;5;124mPhotograph\u001b[39m\u001b[38;5;124m\"\u001b[39m, \u001b[38;5;241m1\u001b[39m: \u001b[38;5;124m\"\u001b[39m\u001b[38;5;124mIllustration\u001b[39m\u001b[38;5;124m\"\u001b[39m, \u001b[38;5;241m2\u001b[39m: \u001b[38;5;124m\"\u001b[39m\u001b[38;5;124mMap\u001b[39m\u001b[38;5;124m\"\u001b[39m, \u001b[38;5;241m3\u001b[39m: \u001b[38;5;124m\"\u001b[39m\u001b[38;5;124mComics/Cartoon\u001b[39m\u001b[38;5;124m\"\u001b[39m,})\n\u001b[1;32m      8\u001b[0m \u001b[38;5;66;03m## turn img into array\u001b[39;00m\n\u001b[1;32m      9\u001b[0m img \u001b[38;5;241m=\u001b[39m np\u001b[38;5;241m.\u001b[39masarray(image)\n",
      "File \u001b[0;32m/usr/local/lib/python3.8/dist-packages/layoutparser/file_utils.py:226\u001b[0m, in \u001b[0;36m_LazyModule.__getattr__\u001b[0;34m(self, name)\u001b[0m\n\u001b[1;32m    224\u001b[0m     value \u001b[38;5;241m=\u001b[39m \u001b[38;5;28mgetattr\u001b[39m(module, name)\n\u001b[1;32m    225\u001b[0m \u001b[38;5;28;01melse\u001b[39;00m:\n\u001b[0;32m--> 226\u001b[0m     \u001b[38;5;28;01mraise\u001b[39;00m \u001b[38;5;167;01mAttributeError\u001b[39;00m(\u001b[38;5;124mf\u001b[39m\u001b[38;5;124m\"\u001b[39m\u001b[38;5;124mmodule \u001b[39m\u001b[38;5;132;01m{\u001b[39;00m\u001b[38;5;28mself\u001b[39m\u001b[38;5;241m.\u001b[39m\u001b[38;5;18m__name__\u001b[39m\u001b[38;5;132;01m}\u001b[39;00m\u001b[38;5;124m has no attribute \u001b[39m\u001b[38;5;132;01m{\u001b[39;00mname\u001b[38;5;132;01m}\u001b[39;00m\u001b[38;5;124m\"\u001b[39m)\n\u001b[1;32m    228\u001b[0m \u001b[38;5;28msetattr\u001b[39m(\u001b[38;5;28mself\u001b[39m, name, value)\n\u001b[1;32m    229\u001b[0m \u001b[38;5;28;01mreturn\u001b[39;00m value\n",
      "\u001b[0;31mAttributeError\u001b[0m: module layoutparser has no attribute Detectron2LayoutModel"
     ]
    }
   ],
   "source": [
    "## load pre-trained model\n",
    "model = lp.Detectron2LayoutModel(\n",
    "   \"lp://NewspaperNavigator/faster_rcnn_R_50_FPN_3x/config\",\n",
    "   extra_config=[\"MODEL.ROI_HEADS.SCORE_THRESH_TEST\", 0.8],\n",
    "   # label_map={0: \"Photograph\", 1: \"Illustration\", 2: \"Map\", 3: \"Comics/Cartoon\", 4: \"Editorial Cartoon\", 5: \"Headline\", 6: \"Advertisement\"})\n",
    "    label_map={0: \"Photograph\", 1: \"Illustration\", 2: \"Map\", 3: \"Comics/Cartoon\",})\n",
    "\n",
    "## turn img into array\n",
    "img = np.asarray(image)\n",
    "\n",
    "## predict\n",
    "detected = model.detect(img)\n",
    "\n",
    "## plot\n",
    "lp.draw_box(img, detected, box_width=5, box_alpha=0.2, \n",
    "            show_element_type=True)"
   ]
  },
  {
   "cell_type": "code",
   "execution_count": null,
   "id": "279904a5-62eb-4b6d-a380-004653973054",
   "metadata": {
    "tags": []
   },
   "outputs": [],
   "source": [
    "detected.get_info"
   ]
  },
  {
   "cell_type": "code",
   "execution_count": null,
   "id": "a01d7faa-72b5-4646-9534-0896a32d2d45",
   "metadata": {
    "tags": []
   },
   "outputs": [],
   "source": [
    "detected.get_info('type')"
   ]
  },
  {
   "cell_type": "code",
   "execution_count": null,
   "id": "583338ee-f870-4f4e-8aae-06c17d81780e",
   "metadata": {},
   "outputs": [],
   "source": []
  }
 ],
 "metadata": {
  "kernelspec": {
   "display_name": "Python 3 (ipykernel)",
   "language": "python",
   "name": "python3"
  },
  "language_info": {
   "codemirror_mode": {
    "name": "ipython",
    "version": 3
   },
   "file_extension": ".py",
   "mimetype": "text/x-python",
   "name": "python",
   "nbconvert_exporter": "python",
   "pygments_lexer": "ipython3",
   "version": "3.8.10"
  }
 },
 "nbformat": 4,
 "nbformat_minor": 5
}
