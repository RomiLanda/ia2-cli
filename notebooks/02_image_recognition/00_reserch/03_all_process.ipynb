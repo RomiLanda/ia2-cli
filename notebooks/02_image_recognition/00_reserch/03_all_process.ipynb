{
 "cells": [
  {
   "cell_type": "code",
   "execution_count": null,
   "id": "d161d4a8-8cea-48e5-8671-98091b931009",
   "metadata": {
    "tags": []
   },
   "outputs": [],
   "source": [
    "import pdf2image\n",
    "import os\n",
    "import glob\n",
    "import cv2\n",
    "import numpy as np\n",
    "import layoutparser as lp\n",
    "import matplotlib.pyplot as plt\n",
    "from PIL import Image"
   ]
  },
  {
   "cell_type": "markdown",
   "id": "5d6693bb-e92c-4cdd-bdb0-3865f093f7ee",
   "metadata": {},
   "source": [
    "### Open pdf"
   ]
  },
  {
   "cell_type": "code",
   "execution_count": null,
   "id": "f4ee20eb-f199-4fbb-8313-e7886044a96e",
   "metadata": {
    "tags": []
   },
   "outputs": [],
   "source": [
    "path_pdf = \"/resources/datasets/image_recognition/sentencias/FALLO_TOMO CAF 023440_2022_CS001.pdf\""
   ]
  },
  {
   "cell_type": "code",
   "execution_count": null,
   "id": "4402474d-599a-43c7-b5d4-e5b9bab33587",
   "metadata": {
    "tags": []
   },
   "outputs": [],
   "source": [
    "doc = pdf2image.convert_from_path(path_pdf)\n",
    "len(doc)"
   ]
  },
  {
   "cell_type": "markdown",
   "id": "85b7c123-fb01-4813-bdcf-5752bfdd6922",
   "metadata": {},
   "source": [
    "### Create png by page"
   ]
  },
  {
   "cell_type": "code",
   "execution_count": null,
   "id": "134cda2a-4bed-4cd2-b629-dba7fd2407ca",
   "metadata": {
    "tags": []
   },
   "outputs": [],
   "source": [
    "OUTPUT_PATH = '/resources/datasets/image_recognition/sentencias/images/'"
   ]
  },
  {
   "cell_type": "code",
   "execution_count": null,
   "id": "0ca92d60-fd67-4ae3-a897-be3b8e045134",
   "metadata": {
    "tags": []
   },
   "outputs": [],
   "source": [
    "def create_image_from_pdf(pdf_path: str, OUTPUT_PATH: str):\n",
    "    image_path = pdf2image.convert_from_path(\n",
    "        pdf_path,\n",
    "        dpi=600,\n",
    "        output_folder=OUTPUT_PATH,\n",
    "        fmt='png',\n",
    "        paths_only=True,\n",
    "        output_file= \"image_\"\n",
    "    )[0]"
   ]
  },
  {
   "cell_type": "code",
   "execution_count": null,
   "id": "545d0e7e-15f7-43d8-a92a-975d9702eb3f",
   "metadata": {
    "tags": []
   },
   "outputs": [],
   "source": [
    "create_image_from_pdf(path_pdf, OUTPUT_PATH)"
   ]
  },
  {
   "cell_type": "markdown",
   "id": "480fd273-e5cd-445b-ab35-31941cb55456",
   "metadata": {},
   "source": [
    "### Open images and Images detect"
   ]
  },
  {
   "cell_type": "code",
   "execution_count": null,
   "id": "092ec49a-79d9-467c-8847-594ff1398f1a",
   "metadata": {
    "tags": []
   },
   "outputs": [],
   "source": [
    "def apply_image_detect(img_array):\n",
    "    model = lp.Detectron2LayoutModel(\"lp://PubLayNet/mask_rcnn_X_101_32x8d_FPN_3x/config\",\n",
    "                                     extra_config=[\"MODEL.ROI_HEADS.SCORE_THRESH_TEST\", 0.8],\n",
    "                                     label_map={0: \"Text\", 1: \"Title\", 2: \"List\", 3:\"Table\", 4:\"Figure\"})\n",
    "    return model.detect(img_array)\n",
    "    \n",
    "# def transform_images(folder_images_path: str):\n",
    "#     \"\"\"Transforma imagenes de una carpeta en array\"\"\"\n",
    "#     images = [[cv2.imread(file), file] for file in glob.glob(folder_images_path)]\n",
    "#     imgs_array_info = [[np.asarray(image[0]),image[1]] for image in images]\n",
    "#     return imgs_array_info\n",
    "\n",
    "def transform_images(folder_images_path: str):\n",
    "    \"\"\"Transforma imagenes de una carpeta en array\"\"\"\n",
    "    images = [[cv2.imread(file), file] for file in glob.glob(folder_images_path)]\n",
    "    imgs_array_info = [{'image': np.asarray(image[0]), 'path': image[1]} for image in images]\n",
    "    return imgs_array_info\n",
    "\n",
    "def classifier(imgs_array_info):\n",
    "    \"\"\"Return True si hay figura\"\"\"\n",
    "    layuout = apply_image_detect(imgs_array_info['image'])\n",
    "    for ly in layuout.get_info('type'):\n",
    "        if ly =='Figure':\n",
    "            return True\n",
    "        else:\n",
    "            return False"
   ]
  },
  {
   "cell_type": "code",
   "execution_count": null,
   "id": "22b43b40-32fe-41b7-b834-dd36822e2306",
   "metadata": {
    "tags": []
   },
   "outputs": [],
   "source": [
    "images = transform_images(\"/resources/datasets/image_recognition/sentencias/images/*.png\")"
   ]
  },
  {
   "cell_type": "code",
   "execution_count": null,
   "id": "b55ba74f-7256-4a09-9a3b-394c67bbb91f",
   "metadata": {
    "tags": []
   },
   "outputs": [],
   "source": [
    "images[0].keys()"
   ]
  },
  {
   "cell_type": "code",
   "execution_count": null,
   "id": "fed6097e-cd36-4b2f-9256-4ff6ef678bc7",
   "metadata": {},
   "outputs": [],
   "source": [
    "len(images)"
   ]
  },
  {
   "cell_type": "code",
   "execution_count": null,
   "id": "d9300a72-7d71-4306-914a-ba928712afef",
   "metadata": {
    "tags": []
   },
   "outputs": [],
   "source": [
    "img_fig = [img for img in images if classifier(img)]"
   ]
  },
  {
   "cell_type": "code",
   "execution_count": null,
   "id": "e339642f-1bef-482f-bb0b-53a9e9feb22b",
   "metadata": {
    "tags": []
   },
   "outputs": [],
   "source": [
    "len(img_fig)"
   ]
  },
  {
   "cell_type": "code",
   "execution_count": null,
   "id": "b6436744-2c3a-4c7d-b7a4-f1ed0dc9b8f7",
   "metadata": {
    "tags": []
   },
   "outputs": [],
   "source": [
    "img_test = img_fig[4]\n",
    "plt.figure(figsize=(10,40))\n",
    "plt.imshow(img_test['image'])"
   ]
  },
  {
   "cell_type": "code",
   "execution_count": null,
   "id": "a6d27c70-b8ca-440b-9cda-12f90fde8166",
   "metadata": {
    "tags": []
   },
   "outputs": [],
   "source": [
    "img_test.keys()"
   ]
  },
  {
   "cell_type": "markdown",
   "id": "26799745-b8ae-4baa-9b85-bac184a6ecd6",
   "metadata": {},
   "source": [
    "### Analize images"
   ]
  },
  {
   "cell_type": "code",
   "execution_count": null,
   "id": "42abf116-f277-4125-90e6-e68cc65a9738",
   "metadata": {
    "tags": []
   },
   "outputs": [],
   "source": [
    "def get_figure_boxes(img_array_info):\n",
    "    df_lyt = apply_image_detect(img_array_info['image']).to_dataframe()\n",
    "    df_lyt_fig = df_lyt[df_lyt['type']=='Figure']\n",
    "    d = df_lyt_fig.to_dict()\n",
    "    box = {\n",
    "        'x_1': int(d['x_1'][0]),\n",
    "        'y_1': int(d['y_1'][0]),\n",
    "        'x_2': int(d['x_2'][0]),\n",
    "        'y_2': int(d['y_2'][0])\n",
    "    }\n",
    "    img_array_info['box']=box\n",
    "    return img_array_info"
   ]
  },
  {
   "cell_type": "code",
   "execution_count": null,
   "id": "c45c5050-bb55-4503-9e04-cfaf3d42de65",
   "metadata": {
    "tags": []
   },
   "outputs": [],
   "source": [
    "image_test = get_figure_boxes(img_test)\n",
    "image_test.keys()"
   ]
  },
  {
   "cell_type": "code",
   "execution_count": null,
   "id": "9275bc4a-8b08-4ff1-948b-ea18ffbb1df4",
   "metadata": {
    "tags": []
   },
   "outputs": [],
   "source": [
    "cv2.rectangle(img_test['image'], (image_test['box']['x_1'], image_test['box']['y_1']), (image_test['box']['x_2'], image_test['box']['y_2']), (255, 0, 0), 10)\n",
    "plt.figure(figsize=(10,40))\n",
    "plt.imshow(img_test['image'])"
   ]
  },
  {
   "cell_type": "markdown",
   "id": "4dc558dc-a5e5-40ca-a91e-093f53c1bb7e",
   "metadata": {
    "execution": {
     "iopub.execute_input": "2022-12-21T17:46:10.713502Z",
     "iopub.status.busy": "2022-12-21T17:46:10.712792Z",
     "iopub.status.idle": "2022-12-21T17:46:10.716419Z",
     "shell.execute_reply": "2022-12-21T17:46:10.715715Z",
     "shell.execute_reply.started": "2022-12-21T17:46:10.713476Z"
    }
   },
   "source": [
    "### Analize figure in images"
   ]
  },
  {
   "cell_type": "code",
   "execution_count": null,
   "id": "f8301daf-16ac-4963-8a72-ef187c991fe8",
   "metadata": {
    "tags": []
   },
   "outputs": [],
   "source": [
    "def face_recognition(img_info):\n",
    "    face_cascade = cv2.CascadeClassifier(\"/resources/datasets/image_recognition/haarcascade_frontalface_default.xml\")\n",
    "    fig = img_info['image'][img_info['box']['y_1']:img_info['box']['y_2'], img_info['box']['x_1']:img_info['box']['x_2']]\n",
    "    gray = cv2.cvtColor(fig, cv2.COLOR_BGR2GRAY)\n",
    "    faces = face_cascade.detectMultiScale(gray, 1.1, 5)\n",
    "    img_info['box_img']= fig\n",
    "    img_info['faces_box']= faces\n",
    "    return img_info"
   ]
  },
  {
   "cell_type": "code",
   "execution_count": null,
   "id": "bef15fe5-aed1-4e97-aafc-def2a1285511",
   "metadata": {},
   "outputs": [],
   "source": [
    "image_test = face_recognition(img_test)"
   ]
  },
  {
   "cell_type": "code",
   "execution_count": null,
   "id": "1bb9f46c-2706-4e9f-985b-edba5662347e",
   "metadata": {
    "tags": []
   },
   "outputs": [],
   "source": [
    "image_test.keys()"
   ]
  },
  {
   "cell_type": "code",
   "execution_count": null,
   "id": "c3e1517b-75f9-499f-98c9-e2e0a768d412",
   "metadata": {
    "tags": []
   },
   "outputs": [],
   "source": [
    "def blurear_(img_array):\n",
    "    for (x,y,w,h) in img_array['faces_box']:\n",
    "        area_color = img_array['box_img'][y:y + h, x:x + w]\n",
    "        blur = cv2.GaussianBlur(area_color, (1001, 1001), 0)\n",
    "        img_array['box_img'][y:y + h, x:x + w] = blur\n",
    "    return img_array"
   ]
  },
  {
   "cell_type": "code",
   "execution_count": null,
   "id": "8b62d5e3-7aa4-46fd-8c60-d3662323faef",
   "metadata": {},
   "outputs": [],
   "source": [
    "image_test['path']"
   ]
  },
  {
   "cell_type": "code",
   "execution_count": null,
   "id": "3fed09fb-c611-44b3-b194-8917d9588ce0",
   "metadata": {},
   "outputs": [],
   "source": [
    "def save_page_image(img_array):\n",
    "    im = Image.fromarray(img_array['image'])\n",
    "    im.save(image_test['path'])"
   ]
  },
  {
   "cell_type": "code",
   "execution_count": null,
   "id": "a1b22e28-a9eb-4bb8-9b42-02dfc4bd90a2",
   "metadata": {
    "tags": []
   },
   "outputs": [],
   "source": [
    "plt.figure(figsize=(10,40))\n",
    "plt.imshow(image_test['image'])\n",
    "print(image_test['path'])"
   ]
  },
  {
   "cell_type": "code",
   "execution_count": null,
   "id": "5c40d5b2-cf00-475f-9e8a-7372a9b87f1a",
   "metadata": {},
   "outputs": [],
   "source": [
    "save_page_image(image_test)"
   ]
  },
  {
   "cell_type": "code",
   "execution_count": null,
   "id": "a797b7b8-1cf5-4a92-b2f8-8cccb8d8b0ee",
   "metadata": {
    "tags": []
   },
   "outputs": [],
   "source": [
    "def convert_to_pdf(img_array):\n",
    "    im = Image.fromarray(img_array['image'])\n",
    "    im.save('/resources/datasets/image_recognition/sentencias/images/test.pdf')"
   ]
  },
  {
   "cell_type": "code",
   "execution_count": null,
   "id": "69c5e4d8-e459-44d6-a38e-9fad44d94570",
   "metadata": {
    "tags": []
   },
   "outputs": [],
   "source": [
    "convert_to_pdf(image_test)"
   ]
  },
  {
   "cell_type": "code",
   "execution_count": null,
   "id": "834be026-8c00-4755-8178-c0b7194db039",
   "metadata": {},
   "outputs": [],
   "source": []
  }
 ],
 "metadata": {
  "kernelspec": {
   "display_name": "Python 3 (ipykernel)",
   "language": "python",
   "name": "python3"
  },
  "language_info": {
   "codemirror_mode": {
    "name": "ipython",
    "version": 3
   },
   "file_extension": ".py",
   "mimetype": "text/x-python",
   "name": "python",
   "nbconvert_exporter": "python",
   "pygments_lexer": "ipython3",
   "version": "3.8.10"
  }
 },
 "nbformat": 4,
 "nbformat_minor": 5
}
