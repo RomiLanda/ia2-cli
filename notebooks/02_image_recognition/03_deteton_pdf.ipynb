{
 "cells": [
  {
   "cell_type": "code",
   "execution_count": 1,
   "id": "d161d4a8-8cea-48e5-8671-98091b931009",
   "metadata": {
    "execution": {
     "iopub.execute_input": "2022-11-16T18:43:37.443533Z",
     "iopub.status.busy": "2022-11-16T18:43:37.443325Z",
     "iopub.status.idle": "2022-11-16T18:43:37.548955Z",
     "shell.execute_reply": "2022-11-16T18:43:37.548343Z",
     "shell.execute_reply.started": "2022-11-16T18:43:37.443478Z"
    },
    "tags": []
   },
   "outputs": [],
   "source": [
    "import pdf2image\n",
    "import os\n",
    "import glob\n",
    "import cv2\n",
    "import numpy as np\n",
    "import layoutparser as lp"
   ]
  },
  {
   "cell_type": "markdown",
   "id": "5d6693bb-e92c-4cdd-bdb0-3865f093f7ee",
   "metadata": {},
   "source": [
    "### Open pdf"
   ]
  },
  {
   "cell_type": "code",
   "execution_count": 2,
   "id": "f4ee20eb-f199-4fbb-8313-e7886044a96e",
   "metadata": {
    "execution": {
     "iopub.execute_input": "2022-11-16T18:43:38.941244Z",
     "iopub.status.busy": "2022-11-16T18:43:38.940961Z",
     "iopub.status.idle": "2022-11-16T18:43:39.638019Z",
     "shell.execute_reply": "2022-11-16T18:43:39.637449Z",
     "shell.execute_reply.started": "2022-11-16T18:43:38.941222Z"
    },
    "tags": []
   },
   "outputs": [],
   "source": [
    "path_pdf = \"/resources/datasets/image_recognition/sentencias/FALLO_TOMO CAF 023440_2022_CS001.pdf\"\n",
    "doc = pdf2image.convert_from_path(path_pdf)"
   ]
  },
  {
   "cell_type": "code",
   "execution_count": 3,
   "id": "4402474d-599a-43c7-b5d4-e5b9bab33587",
   "metadata": {
    "execution": {
     "iopub.execute_input": "2022-11-16T18:43:42.394185Z",
     "iopub.status.busy": "2022-11-16T18:43:42.393790Z",
     "iopub.status.idle": "2022-11-16T18:43:42.429966Z",
     "shell.execute_reply": "2022-11-16T18:43:42.429548Z",
     "shell.execute_reply.started": "2022-11-16T18:43:42.394165Z"
    },
    "tags": []
   },
   "outputs": [
    {
     "data": {
      "text/plain": [
       "22"
      ]
     },
     "execution_count": 3,
     "metadata": {},
     "output_type": "execute_result"
    }
   ],
   "source": [
    "len(doc)"
   ]
  },
  {
   "cell_type": "markdown",
   "id": "85b7c123-fb01-4813-bdcf-5752bfdd6922",
   "metadata": {},
   "source": [
    "### Create png by page"
   ]
  },
  {
   "cell_type": "code",
   "execution_count": 4,
   "id": "134cda2a-4bed-4cd2-b629-dba7fd2407ca",
   "metadata": {
    "execution": {
     "iopub.execute_input": "2022-11-16T18:44:43.599557Z",
     "iopub.status.busy": "2022-11-16T18:44:43.599049Z",
     "iopub.status.idle": "2022-11-16T18:44:43.601864Z",
     "shell.execute_reply": "2022-11-16T18:44:43.601518Z",
     "shell.execute_reply.started": "2022-11-16T18:44:43.599536Z"
    },
    "tags": []
   },
   "outputs": [],
   "source": [
    "OUTPUT_PATH = '/resources/datasets/image_recognition/sentencias/images/'"
   ]
  },
  {
   "cell_type": "code",
   "execution_count": 5,
   "id": "0ca92d60-fd67-4ae3-a897-be3b8e045134",
   "metadata": {
    "execution": {
     "iopub.execute_input": "2022-11-16T18:44:44.334917Z",
     "iopub.status.busy": "2022-11-16T18:44:44.334644Z",
     "iopub.status.idle": "2022-11-16T18:44:44.338842Z",
     "shell.execute_reply": "2022-11-16T18:44:44.338473Z",
     "shell.execute_reply.started": "2022-11-16T18:44:44.334896Z"
    },
    "tags": []
   },
   "outputs": [],
   "source": [
    "def create_image_from_image(pdf_path: str):\n",
    "    image_path = pdf2image.convert_from_path(\n",
    "        pdf_path,\n",
    "        dpi=600,\n",
    "        output_folder=OUTPUT_PATH,\n",
    "        fmt='png',\n",
    "        paths_only=True\n",
    "    )[0]\n",
    "\n",
    "    target_name = f'{os.path.basename(pdf_path)}.png'\n",
    "    target_path = f'{OUTPUT_PATH}/{target_name}'\n",
    "    os.rename(image_path, target_path)"
   ]
  },
  {
   "cell_type": "code",
   "execution_count": 6,
   "id": "545d0e7e-15f7-43d8-a92a-975d9702eb3f",
   "metadata": {
    "execution": {
     "iopub.execute_input": "2022-11-16T18:44:48.727455Z",
     "iopub.status.busy": "2022-11-16T18:44:48.726934Z",
     "iopub.status.idle": "2022-11-16T18:45:28.362762Z",
     "shell.execute_reply": "2022-11-16T18:45:28.361806Z",
     "shell.execute_reply.started": "2022-11-16T18:44:48.727428Z"
    },
    "tags": []
   },
   "outputs": [],
   "source": [
    "create_image_from_image(path_pdf)"
   ]
  },
  {
   "cell_type": "markdown",
   "id": "480fd273-e5cd-445b-ab35-31941cb55456",
   "metadata": {},
   "source": [
    "### Open images"
   ]
  },
  {
   "cell_type": "code",
   "execution_count": 7,
   "id": "43ac318b-9d03-4ce2-8913-890c8a926ee5",
   "metadata": {
    "execution": {
     "iopub.execute_input": "2022-11-16T18:45:48.737776Z",
     "iopub.status.busy": "2022-11-16T18:45:48.737382Z",
     "iopub.status.idle": "2022-11-16T18:45:55.615839Z",
     "shell.execute_reply": "2022-11-16T18:45:55.615330Z",
     "shell.execute_reply.started": "2022-11-16T18:45:48.737759Z"
    },
    "tags": []
   },
   "outputs": [],
   "source": [
    "images = [cv2.imread(file) for file in glob.glob(\"/resources/datasets/image_recognition/sentencias/images/*.png\")]"
   ]
  },
  {
   "cell_type": "markdown",
   "id": "23b74ded-7859-4cff-abc9-c44f9fc244b9",
   "metadata": {},
   "source": [
    "### Analize image by model NewspaperNavigator"
   ]
  },
  {
   "cell_type": "code",
   "execution_count": 14,
   "id": "655315ed-41e2-427e-9913-d015210bb3c2",
   "metadata": {
    "execution": {
     "iopub.execute_input": "2022-11-16T18:50:55.780254Z",
     "iopub.status.busy": "2022-11-16T18:50:55.780056Z",
     "iopub.status.idle": "2022-11-16T18:51:44.459957Z",
     "shell.execute_reply": "2022-11-16T18:51:44.459460Z",
     "shell.execute_reply.started": "2022-11-16T18:50:55.780240Z"
    },
    "tags": []
   },
   "outputs": [
    {
     "name": "stderr",
     "output_type": "stream",
     "text": [
      "config.yml?dl=1: 8.19kB [00:03, 2.26kB/s]\n",
      "model_final.pth?dl=1: 330MB [00:44, 7.42MB/s]                               \n"
     ]
    }
   ],
   "source": [
    "model = lp.Detectron2LayoutModel(\n",
    "   \"lp://NewspaperNavigator/faster_rcnn_R_50_FPN_3x/config\",\n",
    "    # \"lp://PubLayNet/mask_rcnn_X_101_32x8d_FPN_3x/config\",\n",
    "   extra_config=[\"MODEL.ROI_HEADS.SCORE_THRESH_TEST\", 0.8],\n",
    "   label_map={0: \"Photograph\", 1: \"Illustration\", 2: \"Map\", 3: \"Comics/Cartoon\", 4: \"Editorial Cartoon\", 5: \"Headline\", 6: \"Advertisement\"})\n",
    "    # label_map={0: \"Text\", 1: \"Title\", 2: \"List\", 3:\"Table\", 4:\"Figure\"})"
   ]
  },
  {
   "cell_type": "code",
   "execution_count": 15,
   "id": "3ec1d14f-5eeb-4810-ba3f-b9ec04a01197",
   "metadata": {
    "execution": {
     "iopub.execute_input": "2022-11-16T18:51:51.812218Z",
     "iopub.status.busy": "2022-11-16T18:51:51.812013Z",
     "iopub.status.idle": "2022-11-16T18:51:51.814655Z",
     "shell.execute_reply": "2022-11-16T18:51:51.814253Z",
     "shell.execute_reply.started": "2022-11-16T18:51:51.812204Z"
    },
    "tags": []
   },
   "outputs": [],
   "source": [
    "imgs_array = [np.asarray(image) for image in images]"
   ]
  },
  {
   "cell_type": "code",
   "execution_count": 16,
   "id": "f45f3f12-0b14-4e20-b774-dc770df521ea",
   "metadata": {
    "execution": {
     "iopub.execute_input": "2022-11-16T18:51:52.347029Z",
     "iopub.status.busy": "2022-11-16T18:51:52.346797Z",
     "iopub.status.idle": "2022-11-16T18:51:57.374337Z",
     "shell.execute_reply": "2022-11-16T18:51:57.373566Z",
     "shell.execute_reply.started": "2022-11-16T18:51:52.347012Z"
    },
    "tags": []
   },
   "outputs": [],
   "source": [
    "layourt = [model.detect(img) for img in imgs_array]"
   ]
  },
  {
   "cell_type": "code",
   "execution_count": 17,
   "id": "3ee2f179-6877-4dd6-acc3-0d8265f720db",
   "metadata": {
    "execution": {
     "iopub.execute_input": "2022-11-16T18:51:57.375251Z",
     "iopub.status.busy": "2022-11-16T18:51:57.375117Z",
     "iopub.status.idle": "2022-11-16T18:51:57.378435Z",
     "shell.execute_reply": "2022-11-16T18:51:57.378055Z",
     "shell.execute_reply.started": "2022-11-16T18:51:57.375239Z"
    },
    "tags": []
   },
   "outputs": [
    {
     "data": {
      "text/plain": [
       "(22, 22)"
      ]
     },
     "execution_count": 17,
     "metadata": {},
     "output_type": "execute_result"
    }
   ],
   "source": [
    "len(imgs_array), len(layourt)"
   ]
  },
  {
   "cell_type": "code",
   "execution_count": 18,
   "id": "fb350ebc-f5b6-4b87-9151-eff89af6fe97",
   "metadata": {
    "execution": {
     "iopub.execute_input": "2022-11-16T18:52:09.589988Z",
     "iopub.status.busy": "2022-11-16T18:52:09.589563Z",
     "iopub.status.idle": "2022-11-16T18:52:09.592203Z",
     "shell.execute_reply": "2022-11-16T18:52:09.591778Z",
     "shell.execute_reply.started": "2022-11-16T18:52:09.589968Z"
    },
    "tags": []
   },
   "outputs": [],
   "source": [
    "OUTPUT_PATH_ANALIZED = f'/resources/datasets/image_recognition/sentencias/images_detecter_newspapaer/'"
   ]
  },
  {
   "cell_type": "code",
   "execution_count": 19,
   "id": "63dc5cdb-2f23-4a52-964f-9072edcb887f",
   "metadata": {
    "execution": {
     "iopub.execute_input": "2022-11-16T18:52:11.633932Z",
     "iopub.status.busy": "2022-11-16T18:52:11.633706Z",
     "iopub.status.idle": "2022-11-16T18:52:30.840445Z",
     "shell.execute_reply": "2022-11-16T18:52:30.839970Z",
     "shell.execute_reply.started": "2022-11-16T18:52:11.633916Z"
    },
    "tags": []
   },
   "outputs": [],
   "source": [
    "for i in range(len(imgs_array)):\n",
    "    lp.draw_box(imgs_array[i], layourt[i], box_width=5, box_alpha=0.2, id_font_size=80,\n",
    "            show_element_type=True).save(f'{OUTPUT_PATH_ANALIZED}/{i}.png')"
   ]
  },
  {
   "cell_type": "markdown",
   "id": "a7394e42-8a2c-44dd-bf8c-56d7bf41fbb9",
   "metadata": {},
   "source": [
    "### Filter only images with ilustration"
   ]
  },
  {
   "cell_type": "code",
   "execution_count": null,
   "id": "34dd6859-aa97-46fa-9c79-e4b3f7955aff",
   "metadata": {
    "tags": []
   },
   "outputs": [],
   "source": [
    "for i in range(len(imgs_array)):\n",
    "    for ly in layourt[i].get_info('type'):\n",
    "        if ly in ['Figure']:\n",
    "            print(i,ly)"
   ]
  },
  {
   "cell_type": "code",
   "execution_count": null,
   "id": "7d258ee6-7cde-4821-adb9-98697c334f0d",
   "metadata": {
    "tags": []
   },
   "outputs": [],
   "source": [
    "i = 12\n",
    "lp.draw_box(imgs_array[i], layourt[i], box_width=5, box_alpha=0.2,id_font_size=80 ,show_element_type=True)"
   ]
  },
  {
   "cell_type": "code",
   "execution_count": null,
   "id": "c90e3973-9e7f-4ff1-ab5b-f3991c329913",
   "metadata": {
    "tags": []
   },
   "outputs": [],
   "source": [
    "i = 12\n",
    "img = imgs_array[i]\n",
    "detected = layourt[i]"
   ]
  },
  {
   "cell_type": "code",
   "execution_count": null,
   "id": "047e61bf-3190-47f7-ad14-9d362331baa0",
   "metadata": {
    "tags": []
   },
   "outputs": [],
   "source": [
    "lp.draw_box(img, detected, box_width=5, box_alpha=0.2, \n",
    "            show_element_type=True)"
   ]
  },
  {
   "cell_type": "code",
   "execution_count": null,
   "id": "0493ca88-2859-442d-92b7-9d92242f860c",
   "metadata": {
    "tags": []
   },
   "outputs": [],
   "source": [
    "dic_predicted = {}\n",
    "for block in [block for block in detected if block.type in [\"Title\",\"Text\"]]:\n",
    "    ## segmentation\n",
    "    segmented = block.pad(left=15, right=15, top=5, \n",
    "                bottom=5).crop_image(img)\n",
    "    ## extraction\n",
    "    extracted = model_ocr.detect(segmented)\n",
    "    ## save\n",
    "    dic_predicted[str(block.id)+\"-\"+block.type] = extracted.replace('\\n',' ').strip()\n",
    "# check\n",
    "parse_doc(dic_predicted)"
   ]
  },
  {
   "cell_type": "code",
   "execution_count": null,
   "id": "9104554a-3b9a-4a91-b3fb-038ff0b06cde",
   "metadata": {
    "tags": []
   },
   "outputs": [],
   "source": []
  },
  {
   "cell_type": "code",
   "execution_count": null,
   "id": "68f6e1be-7469-427c-a5c4-74b3ce51e062",
   "metadata": {},
   "outputs": [],
   "source": []
  }
 ],
 "metadata": {
  "kernelspec": {
   "display_name": "Python 3 (ipykernel)",
   "language": "python",
   "name": "python3"
  },
  "language_info": {
   "codemirror_mode": {
    "name": "ipython",
    "version": 3
   },
   "file_extension": ".py",
   "mimetype": "text/x-python",
   "name": "python",
   "nbconvert_exporter": "python",
   "pygments_lexer": "ipython3",
   "version": "3.8.10"
  }
 },
 "nbformat": 4,
 "nbformat_minor": 5
}
