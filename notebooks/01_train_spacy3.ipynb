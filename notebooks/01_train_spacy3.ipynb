{
 "cells": [
  {
   "cell_type": "code",
   "execution_count": null,
   "id": "4e73a084-98f6-4b99-9664-17fab5059fb3",
   "metadata": {
    "tags": []
   },
   "outputs": [],
   "source": [
    "import spacy\n",
    "import json\n",
    "from spacy.tokens import DocBin"
   ]
  },
  {
   "cell_type": "markdown",
   "id": "9f428d72-c693-4fdd-8e67-c307cbd3fd77",
   "metadata": {},
   "source": [
    "## Datasets"
   ]
  },
  {
   "cell_type": "code",
   "execution_count": null,
   "id": "46617bda-790f-4d9c-8c6c-7a21fc083e60",
   "metadata": {
    "tags": []
   },
   "outputs": [],
   "source": [
    "path_data_training= '/resources/datasets/unified/training_.json'\n",
    "path_data_validation = '/resources/datasets/unified/validation_.json'\n",
    "path_data_testing = '/resources/datasets/unified/test.json'"
   ]
  },
  {
   "cell_type": "code",
   "execution_count": null,
   "id": "46131520-06e7-46b1-8d7c-e0974c79ff5e",
   "metadata": {
    "tags": []
   },
   "outputs": [],
   "source": [
    "with open(path_data_training) as f:\n",
    "    training_data = json.load(f)\n",
    "\n",
    "with open(path_data_validation) as f:\n",
    "    validation_data = json.load(f)\n",
    "\n",
    "with open(path_data_testing) as f:\n",
    "    testing_data = json.load(f)"
   ]
  },
  {
   "cell_type": "code",
   "execution_count": null,
   "id": "9c8de7fd-950a-4bfc-b020-aedc3d4c6d0f",
   "metadata": {
    "tags": []
   },
   "outputs": [],
   "source": [
    "print(f'Train: {len(training_data)}\\nValidation: {len(validation_data)}\\nTest: {len(testing_data)}')"
   ]
  },
  {
   "cell_type": "markdown",
   "id": "3a225ee5-bcf4-4a2b-a293-bb916dacfedb",
   "metadata": {},
   "source": [
    "#### Crear DocBin"
   ]
  },
  {
   "cell_type": "code",
   "execution_count": null,
   "id": "2b4a2fcf-41fa-406b-9eab-01a82f24b467",
   "metadata": {
    "tags": []
   },
   "outputs": [],
   "source": [
    "def make_docbin(data, outputFile):\n",
    "    \"\"\"\n",
    "    data: .json\n",
    "    outputFile: str\n",
    "    \"\"\"\n",
    "    nlp = spacy.blank(\"es\") \n",
    "    db = DocBin()\n",
    "    for text, annot in data:\n",
    "        doc = nlp.make_doc(text) \n",
    "        ents = []\n",
    "        for element in annot[\"entities\"]:\n",
    "            for start, end, label in [element]:\n",
    "                span = doc.char_span(start,end,label=label,alignment_mode=\"contract\")\n",
    "                if span is None:\n",
    "                    print(\"Skipping entity\")\n",
    "                else:\n",
    "                    ents.append(span)\n",
    "        doc.ents = ents\n",
    "        db.add(doc)\n",
    "    db.to_disk(f\"{outputFile}.spacy\")\n",
    "    return f\"Processed {len(db)}\""
   ]
  },
  {
   "cell_type": "code",
   "execution_count": null,
   "id": "56bed586-d56d-4d22-8889-e135438fd831",
   "metadata": {
    "tags": []
   },
   "outputs": [],
   "source": [
    "output_train = '/resources/datasets/docbin/train'\n",
    "output_val = '/resources/datasets/docbin/val'\n",
    "output_test = '/resources/datasets/docbin/test'"
   ]
  },
  {
   "cell_type": "code",
   "execution_count": null,
   "id": "91b2a925-c25c-48ac-8c77-544a04782db1",
   "metadata": {
    "tags": []
   },
   "outputs": [],
   "source": [
    "# Create docBin Train\n",
    "make_docbin(training_data, output_train)"
   ]
  },
  {
   "cell_type": "code",
   "execution_count": null,
   "id": "3149a2cd-ae88-4710-8fa4-4052c9d92d86",
   "metadata": {
    "tags": []
   },
   "outputs": [],
   "source": [
    "# Create docBin Val\n",
    "make_docbin(validation_data, output_val)"
   ]
  },
  {
   "cell_type": "code",
   "execution_count": null,
   "id": "70b6b133-cb0d-4de0-b4d4-b2b231504761",
   "metadata": {},
   "outputs": [],
   "source": [
    "# Create docBin test\n",
    "make_docbin(testing_data, output_test)"
   ]
  },
  {
   "cell_type": "markdown",
   "id": "9a5a3f7a-46ad-4fe2-b72e-2d21850dcfba",
   "metadata": {},
   "source": [
    "## Train CPU"
   ]
  },
  {
   "cell_type": "markdown",
   "id": "8eb83f2a-e56d-4903-896a-c7591d8998a5",
   "metadata": {},
   "source": [
    "#### Download base model"
   ]
  },
  {
   "cell_type": "code",
   "execution_count": null,
   "id": "1886e38c-dce4-4649-89d4-8ccc74a5a025",
   "metadata": {
    "tags": []
   },
   "outputs": [],
   "source": [
    "!python -m spacy download es_core_news_lg "
   ]
  },
  {
   "cell_type": "markdown",
   "id": "6166bb56-8694-4ef1-a443-0a061a0522ff",
   "metadata": {},
   "source": [
    "#### Create config"
   ]
  },
  {
   "cell_type": "code",
   "execution_count": null,
   "id": "8469e66a-b888-49c4-a008-4927721479b4",
   "metadata": {
    "tags": []
   },
   "outputs": [],
   "source": [
    "! python -m spacy init config config.cfg --lang es --pipeline ner --optimize accuracy"
   ]
  },
  {
   "cell_type": "markdown",
   "id": "fceae13b-82d9-4120-94d7-13ae9172cbfc",
   "metadata": {},
   "source": [
    "#### Training model"
   ]
  },
  {
   "cell_type": "code",
   "execution_count": null,
   "id": "06da0101-6551-416b-a6c4-4ab346a0d7d6",
   "metadata": {
    "tags": []
   },
   "outputs": [],
   "source": [
    "! python -m spacy train config.cfg --output /src/ia2/ia2/models  --paths.train /resources/datasets/docbin/train.spacy --paths.dev /resources/datasets/docbin/val.spacy"
   ]
  },
  {
   "cell_type": "markdown",
   "id": "68abf82c-b8b3-4b75-822b-15b0a3a36606",
   "metadata": {},
   "source": [
    "## Train GPU"
   ]
  },
  {
   "cell_type": "markdown",
   "id": "d356e5ce-5328-489d-a6c8-6bd6ee1fc00f",
   "metadata": {},
   "source": [
    "#### Create config"
   ]
  },
  {
   "cell_type": "code",
   "execution_count": null,
   "id": "c2ad29c6-381f-44ac-b1aa-71e16350e365",
   "metadata": {
    "tags": []
   },
   "outputs": [],
   "source": [
    "# ! python -m spacy init config config_GPU.cfg --lang es --pipeline ner --gpu"
   ]
  },
  {
   "cell_type": "markdown",
   "id": "009a0645-d95c-4662-9c38-d4731fdaadc2",
   "metadata": {},
   "source": [
    "#### Training model"
   ]
  },
  {
   "cell_type": "code",
   "execution_count": null,
   "id": "76727389-6ea5-45b1-b9b4-6d6dc2547065",
   "metadata": {
    "tags": []
   },
   "outputs": [],
   "source": [
    "# ! python -m spacy train config_GPU.cfg --output /src/ia2/ia2/models  --paths.train /resources/datasets/docbin/train.spacy  --paths.dev /resources/datasets/docbin/val.spacy --gpu-id 0"
   ]
  },
  {
   "cell_type": "markdown",
   "id": "762ded18-2c54-4cb5-ac50-bbc1b5762457",
   "metadata": {},
   "source": [
    "## Load Best Model"
   ]
  },
  {
   "cell_type": "code",
   "execution_count": null,
   "id": "08a89d4e-5b98-49fc-b0b3-8fad69b266d1",
   "metadata": {
    "tags": []
   },
   "outputs": [],
   "source": [
    "nlp_ner = spacy.load('/src/ia2/ia2/models/model-best')"
   ]
  },
  {
   "cell_type": "code",
   "execution_count": null,
   "id": "3c7e9b61-ce0f-49e0-9301-1ab79afbb2cc",
   "metadata": {
    "tags": []
   },
   "outputs": [],
   "source": [
    "nlp_ner.get_pipe('ner').labels"
   ]
  },
  {
   "cell_type": "code",
   "execution_count": null,
   "id": "5987b9a9-33ef-4cb4-8601-a78b18b86f88",
   "metadata": {
    "tags": []
   },
   "outputs": [],
   "source": [
    "nlp_ner.pipeline"
   ]
  },
  {
   "cell_type": "markdown",
   "id": "d07844d2-f678-42dd-866b-311598361adf",
   "metadata": {},
   "source": [
    "## Evaluate"
   ]
  },
  {
   "cell_type": "markdown",
   "id": "a41a582a-eb87-440a-8423-2223f2033315",
   "metadata": {},
   "source": [
    "### Evaluate Cli"
   ]
  },
  {
   "cell_type": "code",
   "execution_count": null,
   "id": "d0833ee2-1538-45db-b856-c8d9026f9357",
   "metadata": {
    "tags": []
   },
   "outputs": [],
   "source": [
    "! python -m spacy evaluate /src/ia2/ia2/models/model-best  /resources/datasets/docbin/test.spacy --output /resources/ouputs/metrics/metics.json --gold-preproc --displacy-path /resources/ouputs/displacy --displacy-limit 10"
   ]
  },
  {
   "cell_type": "markdown",
   "id": "07e32859-edff-4ee0-90df-63f8912a1199",
   "metadata": {},
   "source": [
    "#### Evaluate old"
   ]
  },
  {
   "cell_type": "code",
   "execution_count": null,
   "id": "ac2831b2-6146-4f4b-b2d6-9a242cafd3d3",
   "metadata": {
    "scrolled": true,
    "tags": []
   },
   "outputs": [],
   "source": [
    "from spacy.scorer import Scorer\n",
    "from spacy.training import Example\n",
    "import pandas as pd\n",
    "import warnings\n",
    "warnings.filterwarnings(\"ignore\")\n",
    "\n",
    "def evaluate(model, data):\n",
    "    examples = []\n",
    "    scorer = Scorer()\n",
    "    for text, annotations in data:\n",
    "        doc = model.make_doc(text)\n",
    "        example = Example.from_dict(doc, annotations)\n",
    "        example.predicted = model(str(example.predicted))\n",
    "        examples.append(example)\n",
    "    return scorer.score(examples)\n",
    "\n",
    "def metrics_per_ents(model,data):\n",
    "    metrics = evaluate(model, data)\n",
    "    return pd.DataFrame.from_dict(metrics['ents_per_type'])\n",
    "\n",
    "def metrics(model,data):\n",
    "    metrics = evaluate(model, data)\n",
    "    return {'precision': metrics['ents_p'], 'recall': metrics['ents_r'],'f-score': metrics['ents_f']}"
   ]
  },
  {
   "cell_type": "code",
   "execution_count": null,
   "id": "4f5bac57-ea1c-413e-adde-5986de450fa3",
   "metadata": {
    "tags": []
   },
   "outputs": [],
   "source": [
    "metrics(nlp_ner,testing_data)"
   ]
  },
  {
   "cell_type": "code",
   "execution_count": null,
   "id": "797643fc-1874-4f6a-8c77-23da2c4fb098",
   "metadata": {
    "tags": []
   },
   "outputs": [],
   "source": [
    "metrics_per_ents(nlp_ner,testing_data)"
   ]
  },
  {
   "cell_type": "markdown",
   "id": "93c408e2-c235-4091-bacc-0c99f453cf05",
   "metadata": {},
   "source": [
    "#### Display Text"
   ]
  },
  {
   "cell_type": "code",
   "execution_count": null,
   "id": "9b4b899b-b716-457d-b3be-78f6bcdc8961",
   "metadata": {
    "tags": []
   },
   "outputs": [],
   "source": [
    "text = testing_data[10][0]\n",
    "doc = nlp_ner(text)"
   ]
  },
  {
   "cell_type": "code",
   "execution_count": null,
   "id": "e5b1eebe-82b5-48fb-bdf8-7742cae3417a",
   "metadata": {},
   "outputs": [],
   "source": [
    "doc.ents"
   ]
  },
  {
   "cell_type": "code",
   "execution_count": null,
   "id": "a1281303-3b01-47aa-b123-c4445af8eefe",
   "metadata": {
    "tags": []
   },
   "outputs": [],
   "source": [
    "spacy.displacy.render(doc, style='ent', jupyter=True)"
   ]
  },
  {
   "cell_type": "code",
   "execution_count": null,
   "id": "8f47c300-bda0-45d6-9e4e-7b2b3fec3160",
   "metadata": {},
   "outputs": [],
   "source": []
  }
 ],
 "metadata": {
  "kernelspec": {
   "display_name": "Python 3 (ipykernel)",
   "language": "python",
   "name": "python3"
  },
  "language_info": {
   "codemirror_mode": {
    "name": "ipython",
    "version": 3
   },
   "file_extension": ".py",
   "mimetype": "text/x-python",
   "name": "python",
   "nbconvert_exporter": "python",
   "pygments_lexer": "ipython3",
   "version": "3.10.7"
  }
 },
 "nbformat": 4,
 "nbformat_minor": 5
}
