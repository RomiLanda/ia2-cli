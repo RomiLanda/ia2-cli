{
 "cells": [
  {
   "cell_type": "code",
   "execution_count": 1,
   "id": "b0430336-bd64-48fe-9eff-fe667eb3410c",
   "metadata": {
    "execution": {
     "iopub.execute_input": "2023-01-05T16:23:46.057100Z",
     "iopub.status.busy": "2023-01-05T16:23:46.056845Z",
     "iopub.status.idle": "2023-01-05T16:23:47.915430Z",
     "shell.execute_reply": "2023-01-05T16:23:47.914994Z",
     "shell.execute_reply.started": "2023-01-05T16:23:46.057081Z"
    },
    "tags": []
   },
   "outputs": [],
   "source": [
    "import spacy\n",
    "import json"
   ]
  },
  {
   "cell_type": "markdown",
   "id": "57689ef7-745e-475c-9586-2ed363f2e5f3",
   "metadata": {},
   "source": [
    "### Load models"
   ]
  },
  {
   "cell_type": "code",
   "execution_count": 2,
   "id": "f82ef736-9d6e-468b-9635-5522d84dee30",
   "metadata": {
    "execution": {
     "iopub.execute_input": "2023-01-05T16:23:47.917776Z",
     "iopub.status.busy": "2023-01-05T16:23:47.917610Z",
     "iopub.status.idle": "2023-01-05T16:23:48.823097Z",
     "shell.execute_reply": "2023-01-05T16:23:48.822592Z",
     "shell.execute_reply.started": "2023-01-05T16:23:47.917761Z"
    },
    "tags": []
   },
   "outputs": [],
   "source": [
    "nlp_ner = spacy.load('/src/ia2/ia2/models/ner/model-best')"
   ]
  },
  {
   "cell_type": "code",
   "execution_count": 3,
   "id": "df3b6dd2-6905-453c-a583-dc13fa551ca8",
   "metadata": {
    "execution": {
     "iopub.execute_input": "2023-01-05T16:23:48.824096Z",
     "iopub.status.busy": "2023-01-05T16:23:48.823958Z",
     "iopub.status.idle": "2023-01-05T16:23:48.828378Z",
     "shell.execute_reply": "2023-01-05T16:23:48.827989Z",
     "shell.execute_reply.started": "2023-01-05T16:23:48.824079Z"
    },
    "tags": []
   },
   "outputs": [
    {
     "data": {
      "text/plain": [
       "['tok2vec', 'ner']"
      ]
     },
     "execution_count": 3,
     "metadata": {},
     "output_type": "execute_result"
    }
   ],
   "source": [
    "nlp_ner.pipe_names"
   ]
  },
  {
   "cell_type": "code",
   "execution_count": 4,
   "id": "38c0756b-11cb-4e7c-9a86-08a36d9eb894",
   "metadata": {
    "execution": {
     "iopub.execute_input": "2023-01-05T16:23:49.779183Z",
     "iopub.status.busy": "2023-01-05T16:23:49.778994Z",
     "iopub.status.idle": "2023-01-05T16:23:50.539367Z",
     "shell.execute_reply": "2023-01-05T16:23:50.538919Z",
     "shell.execute_reply.started": "2023-01-05T16:23:49.779170Z"
    },
    "tags": []
   },
   "outputs": [],
   "source": [
    "nlp_pipe= spacy.load('/src/ia2/ia2/models/all_pipe_t2v_ner/model-best')"
   ]
  },
  {
   "cell_type": "code",
   "execution_count": 5,
   "id": "8fbdfb0b-72a2-42f0-a995-0120da13b04e",
   "metadata": {
    "execution": {
     "iopub.execute_input": "2023-01-05T16:23:51.106530Z",
     "iopub.status.busy": "2023-01-05T16:23:51.106337Z",
     "iopub.status.idle": "2023-01-05T16:23:51.109596Z",
     "shell.execute_reply": "2023-01-05T16:23:51.109272Z",
     "shell.execute_reply.started": "2023-01-05T16:23:51.106518Z"
    },
    "tags": []
   },
   "outputs": [
    {
     "data": {
      "text/plain": [
       "['tok2vec', 'morphologizer', 'parser', 'ner', 'attribute_ruler', 'lemmatizer']"
      ]
     },
     "execution_count": 5,
     "metadata": {},
     "output_type": "execute_result"
    }
   ],
   "source": [
    "nlp_pipe.pipe_names"
   ]
  },
  {
   "cell_type": "markdown",
   "id": "56bc01b4-5a78-4709-aafc-6910c3535b7d",
   "metadata": {},
   "source": [
    "### Add morphologizer and parser in NER pipeline"
   ]
  },
  {
   "cell_type": "code",
   "execution_count": 6,
   "id": "16b0678a-fa13-4417-8bda-27c62b783e40",
   "metadata": {
    "execution": {
     "iopub.execute_input": "2023-01-05T16:23:58.938193Z",
     "iopub.status.busy": "2023-01-05T16:23:58.937881Z",
     "iopub.status.idle": "2023-01-05T16:24:00.847487Z",
     "shell.execute_reply": "2023-01-05T16:24:00.847091Z",
     "shell.execute_reply.started": "2023-01-05T16:23:58.938170Z"
    },
    "tags": []
   },
   "outputs": [
    {
     "data": {
      "text/plain": [
       "<spacy.pipeline.morphologizer.Morphologizer at 0x7f2a61a1b1c0>"
      ]
     },
     "execution_count": 6,
     "metadata": {},
     "output_type": "execute_result"
    }
   ],
   "source": [
    "nlp_ner.add_pipe('morphologizer', after='tok2vec', source=nlp_pipe)"
   ]
  },
  {
   "cell_type": "code",
   "execution_count": 7,
   "id": "16214c9b-77f9-447f-bf4c-b051e1d994ae",
   "metadata": {
    "execution": {
     "iopub.execute_input": "2023-01-05T16:24:01.130177Z",
     "iopub.status.busy": "2023-01-05T16:24:01.129965Z",
     "iopub.status.idle": "2023-01-05T16:24:01.133271Z",
     "shell.execute_reply": "2023-01-05T16:24:01.132914Z",
     "shell.execute_reply.started": "2023-01-05T16:24:01.130163Z"
    },
    "tags": []
   },
   "outputs": [
    {
     "data": {
      "text/plain": [
       "['tok2vec', 'morphologizer', 'ner']"
      ]
     },
     "execution_count": 7,
     "metadata": {},
     "output_type": "execute_result"
    }
   ],
   "source": [
    "nlp_ner.pipe_names"
   ]
  },
  {
   "cell_type": "code",
   "execution_count": 8,
   "id": "bc364d92-249e-4cf9-9407-c77f4b5ef9c2",
   "metadata": {
    "execution": {
     "iopub.execute_input": "2023-01-05T16:24:17.395632Z",
     "iopub.status.busy": "2023-01-05T16:24:17.395331Z",
     "iopub.status.idle": "2023-01-05T16:24:19.304660Z",
     "shell.execute_reply": "2023-01-05T16:24:19.304193Z",
     "shell.execute_reply.started": "2023-01-05T16:24:17.395610Z"
    },
    "tags": []
   },
   "outputs": [
    {
     "data": {
      "text/plain": [
       "<spacy.pipeline.dep_parser.DependencyParser at 0x7f2a5e509e70>"
      ]
     },
     "execution_count": 8,
     "metadata": {},
     "output_type": "execute_result"
    }
   ],
   "source": [
    "nlp_ner.add_pipe('parser', after='morphologizer', source=nlp_pipe)"
   ]
  },
  {
   "cell_type": "markdown",
   "id": "c8c3a28f-f53a-431f-b8ea-ae74655f8f6a",
   "metadata": {},
   "source": [
    "### Add EntityRuler in NER pipeline"
   ]
  },
  {
   "cell_type": "code",
   "execution_count": 9,
   "id": "1e362cda-c0f2-43aa-8c90-10457ea076c8",
   "metadata": {
    "execution": {
     "iopub.execute_input": "2023-01-05T16:24:26.901385Z",
     "iopub.status.busy": "2023-01-05T16:24:26.901155Z",
     "iopub.status.idle": "2023-01-05T16:24:26.923599Z",
     "shell.execute_reply": "2023-01-05T16:24:26.922981Z",
     "shell.execute_reply.started": "2023-01-05T16:24:26.901371Z"
    },
    "tags": []
   },
   "outputs": [],
   "source": [
    "from spacy.pipeline import EntityRuler\n",
    "from ia2.pipeline.entity_ruler import fetch_ruler_patterns_by_tag\n",
    "\n",
    "pipelines_tag = \"todas\"\n",
    "\n",
    "ruler = nlp_ner.add_pipe(\"entity_ruler\", before='ner')\n",
    "ruler.add_patterns(fetch_ruler_patterns_by_tag(pipelines_tag))"
   ]
  },
  {
   "cell_type": "code",
   "execution_count": 10,
   "id": "0c6d60f8-8c1c-4bd2-82d5-6d32fdc62f8c",
   "metadata": {
    "execution": {
     "iopub.execute_input": "2023-01-05T16:24:28.420123Z",
     "iopub.status.busy": "2023-01-05T16:24:28.419812Z",
     "iopub.status.idle": "2023-01-05T16:24:28.424764Z",
     "shell.execute_reply": "2023-01-05T16:24:28.424294Z",
     "shell.execute_reply.started": "2023-01-05T16:24:28.420100Z"
    },
    "tags": []
   },
   "outputs": [
    {
     "data": {
      "text/plain": [
       "['tok2vec', 'morphologizer', 'parser', 'entity_ruler', 'ner']"
      ]
     },
     "execution_count": 10,
     "metadata": {},
     "output_type": "execute_result"
    }
   ],
   "source": [
    "nlp_ner.pipe_names"
   ]
  },
  {
   "cell_type": "code",
   "execution_count": 11,
   "id": "5b802760-a264-4af5-9a53-b2af18b64993",
   "metadata": {
    "execution": {
     "iopub.execute_input": "2023-01-05T16:24:29.315673Z",
     "iopub.status.busy": "2023-01-05T16:24:29.315409Z",
     "iopub.status.idle": "2023-01-05T16:24:29.319829Z",
     "shell.execute_reply": "2023-01-05T16:24:29.319354Z",
     "shell.execute_reply.started": "2023-01-05T16:24:29.315653Z"
    },
    "tags": []
   },
   "outputs": [
    {
     "data": {
      "text/plain": [
       "('ARTÍCULO', 'DIRECCIÓN', 'LOC', 'PER')"
      ]
     },
     "execution_count": 11,
     "metadata": {},
     "output_type": "execute_result"
    }
   ],
   "source": [
    "nlp_ner.get_pipe('ner').labels"
   ]
  },
  {
   "cell_type": "code",
   "execution_count": 12,
   "id": "e019faed-2245-4513-a67a-c0db63c984cb",
   "metadata": {
    "execution": {
     "iopub.execute_input": "2023-01-05T16:24:33.283480Z",
     "iopub.status.busy": "2023-01-05T16:24:33.283204Z",
     "iopub.status.idle": "2023-01-05T16:24:33.287910Z",
     "shell.execute_reply": "2023-01-05T16:24:33.287432Z",
     "shell.execute_reply.started": "2023-01-05T16:24:33.283459Z"
    },
    "tags": []
   },
   "outputs": [
    {
     "data": {
      "text/plain": [
       "('BANCO',\n",
       " 'CBU',\n",
       " 'CORREO_ELECTRÓNICO',\n",
       " 'ESTUDIOS',\n",
       " 'FECHA',\n",
       " 'FECHA_NUMÉRICA',\n",
       " 'LEY',\n",
       " 'LINK',\n",
       " 'MARCA_AUTOMÓVIL',\n",
       " 'NACIONALIDAD',\n",
       " 'NOMBRE_ARCHIVO',\n",
       " 'NUM_CUIJ',\n",
       " 'NUM_CUIT_CUIL',\n",
       " 'NUM_DNI',\n",
       " 'NUM_IP',\n",
       " 'NUM_TELÉFONO',\n",
       " 'PASAPORTE',\n",
       " 'PATENTE_DOMINIO',\n",
       " 'USUARIX')"
      ]
     },
     "execution_count": 12,
     "metadata": {},
     "output_type": "execute_result"
    }
   ],
   "source": [
    "nlp_ner.get_pipe('entity_ruler').labels"
   ]
  },
  {
   "cell_type": "markdown",
   "id": "170a3386-546d-4caf-889c-22c5e9f7719a",
   "metadata": {},
   "source": [
    "### Add entity_matcher in NER pipeline"
   ]
  },
  {
   "cell_type": "code",
   "execution_count": 13,
   "id": "1213c7fc-ae58-4cb0-9bc4-22e5e2f08b43",
   "metadata": {
    "execution": {
     "iopub.execute_input": "2023-01-05T16:24:38.048631Z",
     "iopub.status.busy": "2023-01-05T16:24:38.048302Z",
     "iopub.status.idle": "2023-01-05T16:24:38.057730Z",
     "shell.execute_reply": "2023-01-05T16:24:38.057338Z",
     "shell.execute_reply.started": "2023-01-05T16:24:38.048599Z"
    },
    "tags": []
   },
   "outputs": [],
   "source": [
    "from ia2.pipeline.entity_matcher import (EntityMatcher, matcher_patterns, fetch_cb_by_tag)\n",
    "\n",
    "entity_matcher = nlp_ner.add_pipe(\"matcher\")"
   ]
  },
  {
   "cell_type": "code",
   "execution_count": 14,
   "id": "ff2dc980-eef2-4bfc-8b3f-a83d2dae91ce",
   "metadata": {
    "execution": {
     "iopub.execute_input": "2023-01-05T16:24:38.883463Z",
     "iopub.status.busy": "2023-01-05T16:24:38.883187Z",
     "iopub.status.idle": "2023-01-05T16:24:38.886341Z",
     "shell.execute_reply": "2023-01-05T16:24:38.885844Z",
     "shell.execute_reply.started": "2023-01-05T16:24:38.883443Z"
    },
    "tags": []
   },
   "outputs": [],
   "source": [
    "# from ia2.pipeline.entity_matcher import (EntityMatcher, matcher_patterns, fetch_cb_by_tag)\n",
    "\n",
    "# entity_matcher = EntityMatcher(\n",
    "#             nlp_ner,\n",
    "#             matcher_patterns,\n",
    "#             after_callbacks=[cb(nlp_ner) for cb in fetch_cb_by_tag(pipelines_tag)],\n",
    "#         )"
   ]
  },
  {
   "cell_type": "code",
   "execution_count": 15,
   "id": "13acbfc8-6d5b-4066-84db-6440cea57b8d",
   "metadata": {
    "execution": {
     "iopub.execute_input": "2023-01-05T16:24:39.450883Z",
     "iopub.status.busy": "2023-01-05T16:24:39.450603Z",
     "iopub.status.idle": "2023-01-05T16:24:39.455256Z",
     "shell.execute_reply": "2023-01-05T16:24:39.454594Z",
     "shell.execute_reply.started": "2023-01-05T16:24:39.450863Z"
    },
    "tags": []
   },
   "outputs": [
    {
     "data": {
      "text/plain": [
       "['tok2vec', 'morphologizer', 'parser', 'entity_ruler', 'ner', 'matcher']"
      ]
     },
     "execution_count": 15,
     "metadata": {},
     "output_type": "execute_result"
    }
   ],
   "source": [
    "nlp_ner.pipe_names"
   ]
  },
  {
   "cell_type": "markdown",
   "id": "64d8344b-786a-46af-81e3-14e470b20a90",
   "metadata": {},
   "source": [
    "### Add entity_custom in NER pipeline"
   ]
  },
  {
   "cell_type": "code",
   "execution_count": 16,
   "id": "0a2a5d52-3651-4d5f-964d-aaa9cc0266d0",
   "metadata": {
    "execution": {
     "iopub.execute_input": "2023-01-05T16:24:44.256138Z",
     "iopub.status.busy": "2023-01-05T16:24:44.255864Z",
     "iopub.status.idle": "2023-01-05T16:24:44.258372Z",
     "shell.execute_reply": "2023-01-05T16:24:44.257991Z",
     "shell.execute_reply.started": "2023-01-05T16:24:44.256122Z"
    },
    "tags": []
   },
   "outputs": [],
   "source": [
    "from ia2.pipeline.entity_custom import EntityCustom\n",
    "\n",
    "# entity_custom = EntityCustom(nlp_ner, pipelines_tag)"
   ]
  },
  {
   "cell_type": "code",
   "execution_count": 17,
   "id": "38d66390-0922-42d3-b1ba-f48a8099cda1",
   "metadata": {
    "execution": {
     "iopub.execute_input": "2023-01-05T16:24:44.922837Z",
     "iopub.status.busy": "2023-01-05T16:24:44.922570Z",
     "iopub.status.idle": "2023-01-05T16:24:44.927658Z",
     "shell.execute_reply": "2023-01-05T16:24:44.927308Z",
     "shell.execute_reply.started": "2023-01-05T16:24:44.922822Z"
    }
   },
   "outputs": [
    {
     "data": {
      "text/plain": [
       "<ia2.pipeline.entity_custom.EntityCustom at 0x7f2bf4735d20>"
      ]
     },
     "execution_count": 17,
     "metadata": {},
     "output_type": "execute_result"
    }
   ],
   "source": [
    "nlp_ner.add_pipe(\"matcher_custom\")"
   ]
  },
  {
   "cell_type": "code",
   "execution_count": 18,
   "id": "ffa5e1e7-160a-4517-b561-10244d3dc54d",
   "metadata": {
    "execution": {
     "iopub.execute_input": "2023-01-05T16:24:45.883236Z",
     "iopub.status.busy": "2023-01-05T16:24:45.882936Z",
     "iopub.status.idle": "2023-01-05T16:24:45.887691Z",
     "shell.execute_reply": "2023-01-05T16:24:45.887160Z",
     "shell.execute_reply.started": "2023-01-05T16:24:45.883214Z"
    },
    "tags": []
   },
   "outputs": [
    {
     "data": {
      "text/plain": [
       "['tok2vec',\n",
       " 'morphologizer',\n",
       " 'parser',\n",
       " 'entity_ruler',\n",
       " 'ner',\n",
       " 'matcher',\n",
       " 'matcher_custom']"
      ]
     },
     "execution_count": 18,
     "metadata": {},
     "output_type": "execute_result"
    }
   ],
   "source": [
    "nlp_ner.pipe_names"
   ]
  },
  {
   "cell_type": "markdown",
   "id": "81383dc2-0cd1-49b0-bf63-5a0efc8a7a9f",
   "metadata": {},
   "source": [
    "### Save custom model"
   ]
  },
  {
   "cell_type": "code",
   "execution_count": 19,
   "id": "e9728d9e-a8b5-441e-b5cf-f5461cdb2965",
   "metadata": {
    "execution": {
     "iopub.execute_input": "2023-01-05T16:24:57.549309Z",
     "iopub.status.busy": "2023-01-05T16:24:57.548879Z",
     "iopub.status.idle": "2023-01-05T16:24:58.133590Z",
     "shell.execute_reply": "2023-01-05T16:24:58.133198Z",
     "shell.execute_reply.started": "2023-01-05T16:24:57.549290Z"
    },
    "tags": []
   },
   "outputs": [],
   "source": [
    "nlp_ner.to_disk('/src/ia2/ia2/models/custom_model')"
   ]
  },
  {
   "cell_type": "markdown",
   "id": "c7c5b78a-bad0-4bcd-9f16-68b1f36c61d6",
   "metadata": {},
   "source": [
    "### Evaluate custom model"
   ]
  },
  {
   "cell_type": "code",
   "execution_count": 20,
   "id": "e23c9aae-6e00-49c0-8813-0afb66ad4122",
   "metadata": {
    "execution": {
     "iopub.execute_input": "2023-01-05T16:25:18.022859Z",
     "iopub.status.busy": "2023-01-05T16:25:18.022605Z",
     "iopub.status.idle": "2023-01-05T16:25:43.335790Z",
     "shell.execute_reply": "2023-01-05T16:25:43.335290Z",
     "shell.execute_reply.started": "2023-01-05T16:25:18.022844Z"
    },
    "tags": []
   },
   "outputs": [
    {
     "name": "stdout",
     "output_type": "stream",
     "text": [
      "\u001b[38;5;4mℹ Using CPU\u001b[0m\n",
      "\u001b[38;5;4mℹ To switch to GPU 0, use the option: --gpu-id 0\u001b[0m\n",
      "\u001b[1m\n",
      "================================== Results ==================================\u001b[0m\n",
      "\n",
      "TOK      100.00\n",
      "POS      -     \n",
      "MORPH    -     \n",
      "UAS      -     \n",
      "LAS      -     \n",
      "NER P    11.53 \n",
      "NER R    40.69 \n",
      "NER F    17.96 \n",
      "SENT P   -     \n",
      "SENT R   -     \n",
      "SENT F   -     \n",
      "SPEED    4906  \n",
      "\n",
      "\u001b[1m\n",
      "=============================== NER (per type) ===============================\u001b[0m\n",
      "\n",
      "                         P       R       F\n",
      "NUM                   0.00    0.00    0.00\n",
      "ARTÍCULO              9.38   11.52   10.34\n",
      "LEY                   0.00    0.00    0.00\n",
      "NUM_CUIJ              0.00    0.00    0.00\n",
      "NUM_ACTUACIÓN         0.00    0.00    0.00\n",
      "NUM_TELÉFONO          0.00    0.00    0.00\n",
      "LOC                  64.86   69.06   66.90\n",
      "FECHA                 0.00    0.00    0.00\n",
      "DIRECCIÓN            66.67   80.73   73.03\n",
      "PER                  48.12   67.72   56.26\n",
      "PERIODO               0.00    0.00    0.00\n",
      "CORREO_ELECTRÓNICO    0.00    0.00    0.00\n",
      "NUM_DNI               0.00    0.00    0.00\n",
      "FECHA_NUMÉRICA        0.00    0.00    0.00\n",
      "FECHA_RESOLUCION      0.00    0.00    0.00\n",
      "ESTUDIOS              0.00    0.00    0.00\n",
      "NUM_CAUSA             0.00    0.00    0.00\n",
      "BANCO                 0.00    0.00    0.00\n",
      "NUM_EXPEDIENTE        0.00    0.00    0.00\n",
      "LINK                  0.00    0.00    0.00\n",
      "NOMBRE_ARCHIVO        0.00    0.00    0.00\n",
      "PATENTE_DOMINIO       0.00    0.00    0.00\n",
      "MARCA_AUTOMÓVIL       0.00    0.00    0.00\n",
      "\n",
      "\u001b[38;5;2m✔ Generated 15 parses as HTML\u001b[0m\n",
      "/resources/ouputs/displacy/custom_model\n",
      "\u001b[38;5;2m✔ Saved results to\n",
      "/resources/ouputs/metrics/custom_model/metics_v2.json\u001b[0m\n"
     ]
    }
   ],
   "source": [
    "! python -m spacy evaluate /src/ia2/ia2/models/custom_model  /resources/datasets/docbin/test.spacy --output /resources/ouputs/metrics/custom_model/metics_v2.json --gold-preproc --code /src/ia2/ia2/pipeline/__init__.py --displacy-path /resources/ouputs/displacy/custom_model --displacy-limit 15"
   ]
  },
  {
   "cell_type": "code",
   "execution_count": null,
   "id": "e3630992-bdfc-43fc-b1e5-8a8678b555e3",
   "metadata": {
    "tags": []
   },
   "outputs": [],
   "source": [
    "! python -m spacy evaluate /src/ia2/ia2/models/custom_model  /resources/datasets/docbin/test.spacy --output /resources/ouputs/metrics/custom_model/metics_custom.json --gold-preproc --displacy-path /resources/ouputs/displacy/custom_model --displacy-limit 15"
   ]
  },
  {
   "cell_type": "code",
   "execution_count": null,
   "id": "7afb40bf-688a-47a0-af4b-f3a5815b5aaf",
   "metadata": {
    "tags": []
   },
   "outputs": [],
   "source": [
    "path_data_testing = '/resources/datasets/unified/test.json'\n",
    "with open(path_data_testing) as f:\n",
    "    testing_data = json.load(f)"
   ]
  },
  {
   "cell_type": "code",
   "execution_count": null,
   "id": "21eb4c51-29f9-46ff-89dc-b3791eb597f4",
   "metadata": {
    "tags": []
   },
   "outputs": [],
   "source": [
    "text = testing_data[3][0]\n",
    "doc = nlp_ner(text)"
   ]
  },
  {
   "cell_type": "code",
   "execution_count": null,
   "id": "b77133e5-b4bd-436a-bd3d-186cde3666b5",
   "metadata": {
    "tags": []
   },
   "outputs": [],
   "source": [
    "doc.ents"
   ]
  },
  {
   "cell_type": "code",
   "execution_count": null,
   "id": "8d0dec29-baab-44e3-8d59-d96a193073ca",
   "metadata": {
    "tags": []
   },
   "outputs": [],
   "source": [
    "len(doc.ents)"
   ]
  },
  {
   "cell_type": "code",
   "execution_count": null,
   "id": "4d8197c4-b6b6-4e8e-a0c3-5e6aedeea61d",
   "metadata": {
    "tags": []
   },
   "outputs": [],
   "source": [
    "spacy.displacy.render(doc, style='ent', jupyter=True)"
   ]
  },
  {
   "cell_type": "markdown",
   "id": "89a2f999-d5ec-4c7d-b536-54f371434173",
   "metadata": {},
   "source": [
    "### Deploy custom model"
   ]
  },
  {
   "cell_type": "code",
   "execution_count": 21,
   "id": "0baaa6f6-6b8e-4356-8c92-5c7e8c4b1cab",
   "metadata": {
    "execution": {
     "iopub.execute_input": "2023-01-05T16:27:18.678384Z",
     "iopub.status.busy": "2023-01-05T16:27:18.677702Z",
     "iopub.status.idle": "2023-01-05T16:27:20.870514Z",
     "shell.execute_reply": "2023-01-05T16:27:20.870033Z",
     "shell.execute_reply.started": "2023-01-05T16:27:18.678347Z"
    },
    "tags": []
   },
   "outputs": [
    {
     "name": "stdout",
     "output_type": "stream",
     "text": [
      "\u001b[1m\n",
      "=========== Info about pipeline '/src/ia2/ia2/models/custom_model' ===========\u001b[0m\n",
      "\n",
      "lang                es                            \n",
      "name                pipeline                      \n",
      "version             0.0.0                         \n",
      "spacy_version       >=3.4.4,<3.5.0                \n",
      "description                                       \n",
      "author                                            \n",
      "email                                             \n",
      "url                                               \n",
      "license                                           \n",
      "spacy_git_version   Unknown                       \n",
      "vectors             {'width': 300, 'vectors': 500000, 'keys': 500000, 'name': 'es_vectors', 'mode': 'default'}\n",
      "pipeline            ['tok2vec', 'morphologizer', 'parser', 'entity_ruler', 'ner', 'matcher', 'matcher_custom']\n",
      "components          ['tok2vec', 'morphologizer', 'parser', 'entity_ruler', 'ner', 'matcher', 'matcher_custom']\n",
      "disabled            []                            \n",
      "source              /src/ia2/ia2/models/custom_model\n",
      "\n"
     ]
    }
   ],
   "source": [
    "! python -m spacy info /src/ia2/ia2/models/custom_model "
   ]
  },
  {
   "cell_type": "code",
   "execution_count": 22,
   "id": "c2de7fad-0f88-4c61-8fd4-362fe1a45cba",
   "metadata": {
    "execution": {
     "iopub.execute_input": "2023-01-05T16:27:38.749289Z",
     "iopub.status.busy": "2023-01-05T16:27:38.748952Z",
     "iopub.status.idle": "2023-01-05T16:28:08.106275Z",
     "shell.execute_reply": "2023-01-05T16:28:08.105600Z",
     "shell.execute_reply.started": "2023-01-05T16:27:38.749270Z"
    },
    "tags": []
   },
   "outputs": [
    {
     "name": "stdout",
     "output_type": "stream",
     "text": [
      "\u001b[38;5;4mℹ Building package artifacts: sdist\u001b[0m\n",
      "\u001b[38;5;2m✔ Including 1 Python module(s) with custom code\u001b[0m\n",
      "\u001b[38;5;2m✔ Including 1 package requirement(s) from meta and config\u001b[0m\n",
      "ia2>=1.1.0,<1.2.0\n",
      "\u001b[38;5;2m✔ Loaded meta.json from file\u001b[0m\n",
      "/src/ia2/ia2/models/custom_model/meta.json\n",
      "\u001b[38;5;4mℹ Using existing README.md from pipeline directory\u001b[0m\n",
      "\u001b[38;5;2m✔ Successfully created package directory 'es_pipeline-1.1.0'\u001b[0m\n",
      "/src/ia2/ia2/deploy/es_pipeline-1.1.0\n",
      "running sdist\n",
      "running egg_info\n",
      "writing es_pipeline.egg-info/PKG-INFO\n",
      "writing dependency_links to es_pipeline.egg-info/dependency_links.txt\n",
      "writing entry points to es_pipeline.egg-info/entry_points.txt\n",
      "writing requirements to es_pipeline.egg-info/requires.txt\n",
      "writing top-level names to es_pipeline.egg-info/top_level.txt\n",
      "reading manifest file 'es_pipeline.egg-info/SOURCES.txt'\n",
      "reading manifest template 'MANIFEST.in'\n",
      "warning: no files found matching 'LICENSE'\n",
      "warning: no files found matching 'LICENSES_SOURCES'\n",
      "writing manifest file 'es_pipeline.egg-info/SOURCES.txt'\n",
      "running check\n",
      "creating es_pipeline-1.1.0\n",
      "creating es_pipeline-1.1.0/es_pipeline\n",
      "creating es_pipeline-1.1.0/es_pipeline.egg-info\n",
      "creating es_pipeline-1.1.0/es_pipeline/es_pipeline-1.1.0\n",
      "creating es_pipeline-1.1.0/es_pipeline/es_pipeline-1.1.0/entity_ruler\n",
      "creating es_pipeline-1.1.0/es_pipeline/es_pipeline-1.1.0/morphologizer\n",
      "creating es_pipeline-1.1.0/es_pipeline/es_pipeline-1.1.0/ner\n",
      "creating es_pipeline-1.1.0/es_pipeline/es_pipeline-1.1.0/parser\n",
      "creating es_pipeline-1.1.0/es_pipeline/es_pipeline-1.1.0/tok2vec\n",
      "creating es_pipeline-1.1.0/es_pipeline/es_pipeline-1.1.0/vocab\n",
      "copying files to es_pipeline-1.1.0...\n",
      "copying MANIFEST.in -> es_pipeline-1.1.0\n",
      "copying README.md -> es_pipeline-1.1.0\n",
      "copying meta.json -> es_pipeline-1.1.0\n",
      "copying setup.py -> es_pipeline-1.1.0\n",
      "copying es_pipeline/__init__.py -> es_pipeline-1.1.0/es_pipeline\n",
      "copying es_pipeline/meta.json -> es_pipeline-1.1.0/es_pipeline\n",
      "copying es_pipeline.egg-info/PKG-INFO -> es_pipeline-1.1.0/es_pipeline.egg-info\n",
      "copying es_pipeline.egg-info/SOURCES.txt -> es_pipeline-1.1.0/es_pipeline.egg-info\n",
      "copying es_pipeline.egg-info/dependency_links.txt -> es_pipeline-1.1.0/es_pipeline.egg-info\n",
      "copying es_pipeline.egg-info/entry_points.txt -> es_pipeline-1.1.0/es_pipeline.egg-info\n",
      "copying es_pipeline.egg-info/not-zip-safe -> es_pipeline-1.1.0/es_pipeline.egg-info\n",
      "copying es_pipeline.egg-info/requires.txt -> es_pipeline-1.1.0/es_pipeline.egg-info\n",
      "copying es_pipeline.egg-info/top_level.txt -> es_pipeline-1.1.0/es_pipeline.egg-info\n",
      "copying es_pipeline/es_pipeline-1.1.0/config.cfg -> es_pipeline-1.1.0/es_pipeline/es_pipeline-1.1.0\n",
      "copying es_pipeline/es_pipeline-1.1.0/meta.json -> es_pipeline-1.1.0/es_pipeline/es_pipeline-1.1.0\n",
      "copying es_pipeline/es_pipeline-1.1.0/tokenizer -> es_pipeline-1.1.0/es_pipeline/es_pipeline-1.1.0\n",
      "copying es_pipeline/es_pipeline-1.1.0/entity_ruler/cfg -> es_pipeline-1.1.0/es_pipeline/es_pipeline-1.1.0/entity_ruler\n",
      "copying es_pipeline/es_pipeline-1.1.0/entity_ruler/patterns.jsonl -> es_pipeline-1.1.0/es_pipeline/es_pipeline-1.1.0/entity_ruler\n",
      "copying es_pipeline/es_pipeline-1.1.0/morphologizer/cfg -> es_pipeline-1.1.0/es_pipeline/es_pipeline-1.1.0/morphologizer\n",
      "copying es_pipeline/es_pipeline-1.1.0/morphologizer/model -> es_pipeline-1.1.0/es_pipeline/es_pipeline-1.1.0/morphologizer\n",
      "copying es_pipeline/es_pipeline-1.1.0/ner/cfg -> es_pipeline-1.1.0/es_pipeline/es_pipeline-1.1.0/ner\n",
      "copying es_pipeline/es_pipeline-1.1.0/ner/model -> es_pipeline-1.1.0/es_pipeline/es_pipeline-1.1.0/ner\n",
      "copying es_pipeline/es_pipeline-1.1.0/ner/moves -> es_pipeline-1.1.0/es_pipeline/es_pipeline-1.1.0/ner\n",
      "copying es_pipeline/es_pipeline-1.1.0/parser/cfg -> es_pipeline-1.1.0/es_pipeline/es_pipeline-1.1.0/parser\n",
      "copying es_pipeline/es_pipeline-1.1.0/parser/model -> es_pipeline-1.1.0/es_pipeline/es_pipeline-1.1.0/parser\n",
      "copying es_pipeline/es_pipeline-1.1.0/parser/moves -> es_pipeline-1.1.0/es_pipeline/es_pipeline-1.1.0/parser\n",
      "copying es_pipeline/es_pipeline-1.1.0/tok2vec/cfg -> es_pipeline-1.1.0/es_pipeline/es_pipeline-1.1.0/tok2vec\n",
      "copying es_pipeline/es_pipeline-1.1.0/tok2vec/model -> es_pipeline-1.1.0/es_pipeline/es_pipeline-1.1.0/tok2vec\n",
      "copying es_pipeline/es_pipeline-1.1.0/vocab/key2row -> es_pipeline-1.1.0/es_pipeline/es_pipeline-1.1.0/vocab\n",
      "copying es_pipeline/es_pipeline-1.1.0/vocab/lookups.bin -> es_pipeline-1.1.0/es_pipeline/es_pipeline-1.1.0/vocab\n",
      "copying es_pipeline/es_pipeline-1.1.0/vocab/strings.json -> es_pipeline-1.1.0/es_pipeline/es_pipeline-1.1.0/vocab\n",
      "copying es_pipeline/es_pipeline-1.1.0/vocab/vectors -> es_pipeline-1.1.0/es_pipeline/es_pipeline-1.1.0/vocab\n",
      "copying es_pipeline/es_pipeline-1.1.0/vocab/vectors.cfg -> es_pipeline-1.1.0/es_pipeline/es_pipeline-1.1.0/vocab\n",
      "Writing es_pipeline-1.1.0/setup.cfg\n",
      "Creating tar archive\n",
      "removing 'es_pipeline-1.1.0' (and everything under it)\n",
      "\u001b[38;5;2m✔ Successfully created zipped Python package\u001b[0m\n",
      "/src/ia2/ia2/deploy/es_pipeline-1.1.0/dist/es_pipeline-1.1.0.tar.gz\n"
     ]
    }
   ],
   "source": [
    "! python -m spacy package /src/ia2/ia2/models/custom_model /src/ia2/ia2/deploy --code /src/ia2/ia2/pipeline/__init__.py -v 1.1.0 -f"
   ]
  },
  {
   "cell_type": "code",
   "execution_count": null,
   "id": "071d834d-bb57-4734-bf4e-3054c90ae02a",
   "metadata": {},
   "outputs": [],
   "source": []
  }
 ],
 "metadata": {
  "kernelspec": {
   "display_name": "Python 3 (ipykernel)",
   "language": "python",
   "name": "python3"
  },
  "language_info": {
   "codemirror_mode": {
    "name": "ipython",
    "version": 3
   },
   "file_extension": ".py",
   "mimetype": "text/x-python",
   "name": "python",
   "nbconvert_exporter": "python",
   "pygments_lexer": "ipython3",
   "version": "3.10.9"
  }
 },
 "nbformat": 4,
 "nbformat_minor": 5
}
