{
 "cells": [
  {
   "cell_type": "code",
   "execution_count": 1,
   "id": "cfb2d8e2-972b-4411-9c4b-e04ad394475c",
   "metadata": {
    "execution": {
     "iopub.execute_input": "2022-10-19T19:05:51.765912Z",
     "iopub.status.busy": "2022-10-19T19:05:51.765720Z",
     "iopub.status.idle": "2022-10-19T19:05:53.657307Z",
     "shell.execute_reply": "2022-10-19T19:05:53.656830Z",
     "shell.execute_reply.started": "2022-10-19T19:05:51.765868Z"
    },
    "tags": []
   },
   "outputs": [],
   "source": [
    "import spacy\n",
    "import json\n",
    "from spacy.tokens import DocBin"
   ]
  },
  {
   "cell_type": "code",
   "execution_count": 2,
   "id": "d5ec2ef7-d5c3-4c17-b35f-fa0fa31705f2",
   "metadata": {
    "execution": {
     "iopub.execute_input": "2022-10-19T19:05:53.659691Z",
     "iopub.status.busy": "2022-10-19T19:05:53.659565Z",
     "iopub.status.idle": "2022-10-19T19:05:53.661858Z",
     "shell.execute_reply": "2022-10-19T19:05:53.661467Z",
     "shell.execute_reply.started": "2022-10-19T19:05:53.659679Z"
    }
   },
   "outputs": [],
   "source": [
    "path_data_training= '/resources/datasets/unified/training_.json'\n",
    "path_data_validation = '/resources/datasets/unified/validation_.json'\n",
    "path_data_testing = '/resources/datasets/unified/test.json'"
   ]
  },
  {
   "cell_type": "code",
   "execution_count": 3,
   "id": "fb5b1372-e7e3-450d-b6d3-2cccc9bdc19a",
   "metadata": {
    "execution": {
     "iopub.execute_input": "2022-10-19T19:05:53.662639Z",
     "iopub.status.busy": "2022-10-19T19:05:53.662464Z",
     "iopub.status.idle": "2022-10-19T19:05:53.690654Z",
     "shell.execute_reply": "2022-10-19T19:05:53.690229Z",
     "shell.execute_reply.started": "2022-10-19T19:05:53.662624Z"
    }
   },
   "outputs": [],
   "source": [
    "with open(path_data_training) as f:\n",
    "    training_data = json.load(f)\n",
    "\n",
    "with open(path_data_validation) as f:\n",
    "    validation_data = json.load(f)\n",
    "\n",
    "with open(path_data_testing) as f:\n",
    "    testing_data = json.load(f)"
   ]
  },
  {
   "cell_type": "code",
   "execution_count": 4,
   "id": "fc4177aa-2a43-408a-93c1-92dae826721b",
   "metadata": {
    "execution": {
     "iopub.execute_input": "2022-10-19T19:05:53.691422Z",
     "iopub.status.busy": "2022-10-19T19:05:53.691266Z",
     "iopub.status.idle": "2022-10-19T19:05:53.694377Z",
     "shell.execute_reply": "2022-10-19T19:05:53.694020Z",
     "shell.execute_reply.started": "2022-10-19T19:05:53.691409Z"
    }
   },
   "outputs": [
    {
     "name": "stdout",
     "output_type": "stream",
     "text": [
      "Train: 357\n",
      "Validation: 59\n",
      "Test: 49\n"
     ]
    }
   ],
   "source": [
    "print(f'Train: {len(training_data)}\\nValidation: {len(validation_data)}\\nTest: {len(testing_data)}')"
   ]
  },
  {
   "cell_type": "code",
   "execution_count": 5,
   "id": "1b63926f-176b-417b-95f1-1df16791312b",
   "metadata": {
    "execution": {
     "iopub.execute_input": "2022-10-19T19:05:53.695385Z",
     "iopub.status.busy": "2022-10-19T19:05:53.695254Z",
     "iopub.status.idle": "2022-10-19T19:05:53.698006Z",
     "shell.execute_reply": "2022-10-19T19:05:53.697552Z",
     "shell.execute_reply.started": "2022-10-19T19:05:53.695374Z"
    },
    "tags": []
   },
   "outputs": [],
   "source": [
    "train_clear = [doc for doc in training_data if len(doc[1]['entities'])!=0] \n",
    "val_clear = [doc for doc in validation_data if len(doc[1]['entities'])!=0] \n",
    "test_clear = [doc for doc in testing_data if len(doc[1]['entities'])!=0] "
   ]
  },
  {
   "cell_type": "code",
   "execution_count": 6,
   "id": "0aeee87a-6e72-4ac2-bb81-6f58a5d9be32",
   "metadata": {
    "execution": {
     "iopub.execute_input": "2022-10-19T19:05:53.698669Z",
     "iopub.status.busy": "2022-10-19T19:05:53.698537Z",
     "iopub.status.idle": "2022-10-19T19:05:53.700944Z",
     "shell.execute_reply": "2022-10-19T19:05:53.700611Z",
     "shell.execute_reply.started": "2022-10-19T19:05:53.698657Z"
    },
    "tags": []
   },
   "outputs": [
    {
     "name": "stdout",
     "output_type": "stream",
     "text": [
      "Train: 331\n",
      "Validation: 59\n",
      "Test: 46\n"
     ]
    }
   ],
   "source": [
    "print(f'Train: {len(train_clear)}\\nValidation: {len(val_clear)}\\nTest: {len(test_clear)}')"
   ]
  },
  {
   "cell_type": "code",
   "execution_count": 7,
   "id": "0d3f61e0-4f09-4d21-9bfd-a618981d465b",
   "metadata": {
    "execution": {
     "iopub.execute_input": "2022-10-19T19:05:53.765197Z",
     "iopub.status.busy": "2022-10-19T19:05:53.764987Z",
     "iopub.status.idle": "2022-10-19T19:05:53.768294Z",
     "shell.execute_reply": "2022-10-19T19:05:53.767943Z",
     "shell.execute_reply.started": "2022-10-19T19:05:53.765182Z"
    },
    "tags": []
   },
   "outputs": [],
   "source": [
    "anot = []\n",
    "for doc in train_clear:\n",
    "    for ent in doc[1]['entities']:\n",
    "        anot.append(ent[2])"
   ]
  },
  {
   "cell_type": "code",
   "execution_count": 8,
   "id": "956202fb-bf86-4650-bc2d-bdc4c09ed47a",
   "metadata": {
    "execution": {
     "iopub.execute_input": "2022-10-19T19:05:54.961922Z",
     "iopub.status.busy": "2022-10-19T19:05:54.961709Z",
     "iopub.status.idle": "2022-10-19T19:05:54.968412Z",
     "shell.execute_reply": "2022-10-19T19:05:54.968070Z",
     "shell.execute_reply.started": "2022-10-19T19:05:54.961909Z"
    },
    "tags": []
   },
   "outputs": [
    {
     "data": {
      "text/plain": [
       "{'LOC': 1252, 'DIRECCIÓN': 1493, 'PER': 3729, 'ARTÍCULO': 4174}"
      ]
     },
     "execution_count": 8,
     "metadata": {},
     "output_type": "execute_result"
    }
   ],
   "source": [
    "dict((x,anot.count(x)) for x in set(anot))"
   ]
  },
  {
   "cell_type": "code",
   "execution_count": null,
   "id": "0bae8740-8b8b-485b-98ae-9326a3bfaf1f",
   "metadata": {},
   "outputs": [],
   "source": []
  }
 ],
 "metadata": {
  "kernelspec": {
   "display_name": "Python 3 (ipykernel)",
   "language": "python",
   "name": "python3"
  },
  "language_info": {
   "codemirror_mode": {
    "name": "ipython",
    "version": 3
   },
   "file_extension": ".py",
   "mimetype": "text/x-python",
   "name": "python",
   "nbconvert_exporter": "python",
   "pygments_lexer": "ipython3",
   "version": "3.10.7"
  }
 },
 "nbformat": 4,
 "nbformat_minor": 5
}
