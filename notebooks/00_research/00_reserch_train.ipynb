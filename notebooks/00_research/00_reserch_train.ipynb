{
 "cells": [
  {
   "cell_type": "code",
   "execution_count": 2,
   "id": "4e73a084-98f6-4b99-9664-17fab5059fb3",
   "metadata": {
    "execution": {
     "iopub.execute_input": "2022-10-19T19:14:15.111022Z",
     "iopub.status.busy": "2022-10-19T19:14:15.110778Z",
     "iopub.status.idle": "2022-10-19T19:14:16.965740Z",
     "shell.execute_reply": "2022-10-19T19:14:16.965265Z",
     "shell.execute_reply.started": "2022-10-19T19:14:15.111005Z"
    },
    "tags": []
   },
   "outputs": [],
   "source": [
    "import spacy\n",
    "import json\n",
    "from spacy.tokens import DocBin"
   ]
  },
  {
   "cell_type": "markdown",
   "id": "9f428d72-c693-4fdd-8e67-c307cbd3fd77",
   "metadata": {},
   "source": [
    "## Datasets"
   ]
  },
  {
   "cell_type": "code",
   "execution_count": 7,
   "id": "46617bda-790f-4d9c-8c6c-7a21fc083e60",
   "metadata": {
    "execution": {
     "iopub.execute_input": "2022-10-19T19:14:37.367334Z",
     "iopub.status.busy": "2022-10-19T19:14:37.366919Z",
     "iopub.status.idle": "2022-10-19T19:14:37.369466Z",
     "shell.execute_reply": "2022-10-19T19:14:37.369102Z",
     "shell.execute_reply.started": "2022-10-19T19:14:37.367317Z"
    },
    "tags": []
   },
   "outputs": [],
   "source": [
    "path_data_training= '/resources/datasets/unified/training_.json'\n",
    "path_data_validation = '/resources/datasets/unified/validation_.json'\n",
    "path_data_testing = '/resources/datasets/unified/test.json'"
   ]
  },
  {
   "cell_type": "code",
   "execution_count": 8,
   "id": "46131520-06e7-46b1-8d7c-e0974c79ff5e",
   "metadata": {
    "execution": {
     "iopub.execute_input": "2022-10-19T19:14:37.847711Z",
     "iopub.status.busy": "2022-10-19T19:14:37.847432Z",
     "iopub.status.idle": "2022-10-19T19:14:37.874680Z",
     "shell.execute_reply": "2022-10-19T19:14:37.874092Z",
     "shell.execute_reply.started": "2022-10-19T19:14:37.847695Z"
    },
    "tags": []
   },
   "outputs": [],
   "source": [
    "with open(path_data_training) as f:\n",
    "    training_data = json.load(f)\n",
    "\n",
    "with open(path_data_validation) as f:\n",
    "    validation_data = json.load(f)\n",
    "\n",
    "with open(path_data_testing) as f:\n",
    "    testing_data = json.load(f)"
   ]
  },
  {
   "cell_type": "code",
   "execution_count": 4,
   "id": "9c8de7fd-950a-4bfc-b020-aedc3d4c6d0f",
   "metadata": {
    "execution": {
     "iopub.execute_input": "2022-10-18T20:53:46.676270Z",
     "iopub.status.busy": "2022-10-18T20:53:46.676119Z",
     "iopub.status.idle": "2022-10-18T20:53:46.680078Z",
     "shell.execute_reply": "2022-10-18T20:53:46.679426Z",
     "shell.execute_reply.started": "2022-10-18T20:53:46.676257Z"
    },
    "tags": []
   },
   "outputs": [
    {
     "name": "stdout",
     "output_type": "stream",
     "text": [
      "Train: 357\n",
      "Validation: 59\n",
      "Test: 49\n"
     ]
    }
   ],
   "source": [
    "print(f'Train: {len(training_data)}\\nValidation: {len(validation_data)}\\nTest: {len(testing_data)}')"
   ]
  },
  {
   "cell_type": "markdown",
   "id": "3a225ee5-bcf4-4a2b-a293-bb916dacfedb",
   "metadata": {},
   "source": [
    "#### Crear DocBin"
   ]
  },
  {
   "cell_type": "code",
   "execution_count": null,
   "id": "2b4a2fcf-41fa-406b-9eab-01a82f24b467",
   "metadata": {
    "tags": []
   },
   "outputs": [],
   "source": [
    "def make_docbin(data, outputFile):\n",
    "    \"\"\"\n",
    "    data: .json\n",
    "    outputFile: str\n",
    "    \"\"\"\n",
    "    nlp = spacy.blank(\"es\") \n",
    "    db = DocBin()\n",
    "    for text, annot in data:\n",
    "        doc = nlp.make_doc(text) \n",
    "        ents = []\n",
    "        for element in annot[\"entities\"]:\n",
    "            for start, end, label in [element]:\n",
    "                span = doc.char_span(start,end,label=label,alignment_mode=\"contract\")\n",
    "                if span is None:\n",
    "                    print(\"Skipping entity\")\n",
    "                else:\n",
    "                    ents.append(span)\n",
    "        doc.ents = ents\n",
    "        db.add(doc)\n",
    "    db.to_disk(f\"{outputFile}.spacy\")\n",
    "    return f\"Processed {len(db)}\""
   ]
  },
  {
   "cell_type": "code",
   "execution_count": null,
   "id": "56bed586-d56d-4d22-8889-e135438fd831",
   "metadata": {
    "tags": []
   },
   "outputs": [],
   "source": [
    "output_train = '/resources/datasets/docbin/train'\n",
    "output_val = '/resources/datasets/docbin/val'\n",
    "output_test = '/resources/datasets/docbin/test'"
   ]
  },
  {
   "cell_type": "code",
   "execution_count": null,
   "id": "91b2a925-c25c-48ac-8c77-544a04782db1",
   "metadata": {
    "tags": []
   },
   "outputs": [],
   "source": [
    "# Create docBin Train\n",
    "make_docbin(training_data, output_train)"
   ]
  },
  {
   "cell_type": "code",
   "execution_count": null,
   "id": "3149a2cd-ae88-4710-8fa4-4052c9d92d86",
   "metadata": {
    "tags": []
   },
   "outputs": [],
   "source": [
    "# Create docBin Val\n",
    "make_docbin(validation_data, output_val)"
   ]
  },
  {
   "cell_type": "code",
   "execution_count": null,
   "id": "70b6b133-cb0d-4de0-b4d4-b2b231504761",
   "metadata": {},
   "outputs": [],
   "source": [
    "# Create docBin test\n",
    "make_docbin(testing_data, output_test)"
   ]
  },
  {
   "cell_type": "markdown",
   "id": "9a5a3f7a-46ad-4fe2-b72e-2d21850dcfba",
   "metadata": {},
   "source": [
    "## Train CPU"
   ]
  },
  {
   "cell_type": "markdown",
   "id": "8eb83f2a-e56d-4903-896a-c7591d8998a5",
   "metadata": {},
   "source": [
    "#### Download base model"
   ]
  },
  {
   "cell_type": "code",
   "execution_count": null,
   "id": "1886e38c-dce4-4649-89d4-8ccc74a5a025",
   "metadata": {
    "tags": []
   },
   "outputs": [],
   "source": [
    "!python -m spacy download es_core_news_lg "
   ]
  },
  {
   "cell_type": "markdown",
   "id": "6166bb56-8694-4ef1-a443-0a061a0522ff",
   "metadata": {},
   "source": [
    "#### Create config"
   ]
  },
  {
   "cell_type": "code",
   "execution_count": null,
   "id": "8469e66a-b888-49c4-a008-4927721479b4",
   "metadata": {
    "tags": []
   },
   "outputs": [],
   "source": [
    "! python -m spacy init config config.cfg --lang es --pipeline ner --optimize accuracy"
   ]
  },
  {
   "cell_type": "markdown",
   "id": "fceae13b-82d9-4120-94d7-13ae9172cbfc",
   "metadata": {},
   "source": [
    "#### Training model"
   ]
  },
  {
   "cell_type": "code",
   "execution_count": null,
   "id": "06da0101-6551-416b-a6c4-4ab346a0d7d6",
   "metadata": {
    "tags": []
   },
   "outputs": [],
   "source": [
    "! python -m spacy train config.cfg --output /src/ia2/ia2/models  --paths.train /resources/datasets/docbin/train.spacy --paths.dev /resources/datasets/docbin/val.spacy"
   ]
  },
  {
   "cell_type": "markdown",
   "id": "68abf82c-b8b3-4b75-822b-15b0a3a36606",
   "metadata": {},
   "source": [
    "## Train GPU"
   ]
  },
  {
   "cell_type": "markdown",
   "id": "d356e5ce-5328-489d-a6c8-6bd6ee1fc00f",
   "metadata": {},
   "source": [
    "#### Create config"
   ]
  },
  {
   "cell_type": "code",
   "execution_count": null,
   "id": "c2ad29c6-381f-44ac-b1aa-71e16350e365",
   "metadata": {
    "tags": []
   },
   "outputs": [],
   "source": [
    "# ! python -m spacy init config config_GPU.cfg --lang es --pipeline ner --gpu"
   ]
  },
  {
   "cell_type": "markdown",
   "id": "009a0645-d95c-4662-9c38-d4731fdaadc2",
   "metadata": {},
   "source": [
    "#### Training model"
   ]
  },
  {
   "cell_type": "code",
   "execution_count": null,
   "id": "76727389-6ea5-45b1-b9b4-6d6dc2547065",
   "metadata": {
    "tags": []
   },
   "outputs": [],
   "source": [
    "# ! python -m spacy train config_GPU.cfg --output /src/ia2/ia2/models  --paths.train /resources/datasets/docbin/train.spacy  --paths.dev /resources/datasets/docbin/val.spacy --gpu-id 0"
   ]
  },
  {
   "cell_type": "markdown",
   "id": "762ded18-2c54-4cb5-ac50-bbc1b5762457",
   "metadata": {},
   "source": [
    "## Load Best Model"
   ]
  },
  {
   "cell_type": "code",
   "execution_count": 3,
   "id": "08a89d4e-5b98-49fc-b0b3-8fad69b266d1",
   "metadata": {
    "execution": {
     "iopub.execute_input": "2022-10-19T19:14:21.749878Z",
     "iopub.status.busy": "2022-10-19T19:14:21.749413Z",
     "iopub.status.idle": "2022-10-19T19:14:22.621851Z",
     "shell.execute_reply": "2022-10-19T19:14:22.621341Z",
     "shell.execute_reply.started": "2022-10-19T19:14:21.749859Z"
    },
    "tags": []
   },
   "outputs": [],
   "source": [
    "nlp_ner = spacy.load('/src/ia2/ia2/models/ner/model-best')"
   ]
  },
  {
   "cell_type": "code",
   "execution_count": 4,
   "id": "3c7e9b61-ce0f-49e0-9301-1ab79afbb2cc",
   "metadata": {
    "execution": {
     "iopub.execute_input": "2022-10-19T19:14:23.006909Z",
     "iopub.status.busy": "2022-10-19T19:14:23.006373Z",
     "iopub.status.idle": "2022-10-19T19:14:23.013692Z",
     "shell.execute_reply": "2022-10-19T19:14:23.013152Z",
     "shell.execute_reply.started": "2022-10-19T19:14:23.006891Z"
    },
    "tags": []
   },
   "outputs": [
    {
     "data": {
      "text/plain": [
       "('ARTÍCULO', 'DIRECCIÓN', 'LOC', 'PER')"
      ]
     },
     "execution_count": 4,
     "metadata": {},
     "output_type": "execute_result"
    }
   ],
   "source": [
    "nlp_ner.get_pipe('ner').labels"
   ]
  },
  {
   "cell_type": "code",
   "execution_count": 5,
   "id": "5987b9a9-33ef-4cb4-8601-a78b18b86f88",
   "metadata": {
    "execution": {
     "iopub.execute_input": "2022-10-19T19:14:23.400376Z",
     "iopub.status.busy": "2022-10-19T19:14:23.399688Z",
     "iopub.status.idle": "2022-10-19T19:14:23.404757Z",
     "shell.execute_reply": "2022-10-19T19:14:23.404302Z",
     "shell.execute_reply.started": "2022-10-19T19:14:23.400341Z"
    },
    "tags": []
   },
   "outputs": [
    {
     "data": {
      "text/plain": [
       "[('tok2vec', <spacy.pipeline.tok2vec.Tok2Vec at 0x7f4a059ab940>),\n",
       " ('ner', <spacy.pipeline.ner.EntityRecognizer at 0x7f4a0593f760>)]"
      ]
     },
     "execution_count": 5,
     "metadata": {},
     "output_type": "execute_result"
    }
   ],
   "source": [
    "nlp_ner.pipeline"
   ]
  },
  {
   "cell_type": "markdown",
   "id": "d07844d2-f678-42dd-866b-311598361adf",
   "metadata": {},
   "source": [
    "## Evaluate"
   ]
  },
  {
   "cell_type": "markdown",
   "id": "a41a582a-eb87-440a-8423-2223f2033315",
   "metadata": {},
   "source": [
    "### Evaluate Cli"
   ]
  },
  {
   "cell_type": "code",
   "execution_count": null,
   "id": "d0833ee2-1538-45db-b856-c8d9026f9357",
   "metadata": {
    "execution": {
     "iopub.execute_input": "2022-10-17T21:05:00.749957Z",
     "iopub.status.busy": "2022-10-17T21:05:00.749671Z",
     "iopub.status.idle": "2022-10-17T21:05:20.283492Z",
     "shell.execute_reply": "2022-10-17T21:05:20.282638Z",
     "shell.execute_reply.started": "2022-10-17T21:05:00.749941Z"
    },
    "tags": []
   },
   "outputs": [],
   "source": [
    "! python -m spacy evaluate /src/ia2/ia2/models/ner/model-best  /resources/datasets/docbin/test.spacy --output /resources/ouputs/metrics/metics.json --gold-preproc --displacy-path /resources/ouputs/displacy --displacy-limit 10"
   ]
  },
  {
   "cell_type": "markdown",
   "id": "07e32859-edff-4ee0-90df-63f8912a1199",
   "metadata": {},
   "source": [
    "#### Evaluate old"
   ]
  },
  {
   "cell_type": "code",
   "execution_count": null,
   "id": "ac2831b2-6146-4f4b-b2d6-9a242cafd3d3",
   "metadata": {
    "scrolled": true,
    "tags": []
   },
   "outputs": [],
   "source": [
    "from spacy.scorer import Scorer\n",
    "from spacy.training import Example\n",
    "import pandas as pd\n",
    "import warnings\n",
    "warnings.filterwarnings(\"ignore\")\n",
    "\n",
    "def evaluate(model, data):\n",
    "    examples = []\n",
    "    scorer = Scorer()\n",
    "    for text, annotations in data:\n",
    "        doc = model.make_doc(text)\n",
    "        example = Example.from_dict(doc, annotations)\n",
    "        example.predicted = model(str(example.predicted))\n",
    "        examples.append(example)\n",
    "    return scorer.score(examples)\n",
    "\n",
    "def metrics_per_ents(model,data):\n",
    "    metrics = evaluate(model, data)\n",
    "    return pd.DataFrame.from_dict(metrics['ents_per_type'])\n",
    "\n",
    "def metrics(model,data):\n",
    "    metrics = evaluate(model, data)\n",
    "    return {'precision': metrics['ents_p'], 'recall': metrics['ents_r'],'f-score': metrics['ents_f']}"
   ]
  },
  {
   "cell_type": "code",
   "execution_count": null,
   "id": "4f5bac57-ea1c-413e-adde-5986de450fa3",
   "metadata": {
    "tags": []
   },
   "outputs": [],
   "source": [
    "metrics(nlp_ner,testing_data)"
   ]
  },
  {
   "cell_type": "code",
   "execution_count": null,
   "id": "797643fc-1874-4f6a-8c77-23da2c4fb098",
   "metadata": {
    "tags": []
   },
   "outputs": [],
   "source": [
    "metrics_per_ents(nlp_ner,testing_data)"
   ]
  },
  {
   "cell_type": "markdown",
   "id": "93c408e2-c235-4091-bacc-0c99f453cf05",
   "metadata": {},
   "source": [
    "#### Display Text"
   ]
  },
  {
   "cell_type": "code",
   "execution_count": 9,
   "id": "9b4b899b-b716-457d-b3be-78f6bcdc8961",
   "metadata": {
    "execution": {
     "iopub.execute_input": "2022-10-19T19:14:46.422925Z",
     "iopub.status.busy": "2022-10-19T19:14:46.422588Z",
     "iopub.status.idle": "2022-10-19T19:14:46.593382Z",
     "shell.execute_reply": "2022-10-19T19:14:46.592919Z",
     "shell.execute_reply.started": "2022-10-19T19:14:46.422908Z"
    },
    "tags": []
   },
   "outputs": [],
   "source": [
    "text = testing_data[3][0]\n",
    "doc = nlp_ner(text)"
   ]
  },
  {
   "cell_type": "code",
   "execution_count": 10,
   "id": "e5b1eebe-82b5-48fb-bdf8-7742cae3417a",
   "metadata": {
    "execution": {
     "iopub.execute_input": "2022-10-19T19:14:47.159386Z",
     "iopub.status.busy": "2022-10-19T19:14:47.159166Z",
     "iopub.status.idle": "2022-10-19T19:14:47.162797Z",
     "shell.execute_reply": "2022-10-19T19:14:47.162443Z",
     "shell.execute_reply.started": "2022-10-19T19:14:47.159371Z"
    },
    "tags": []
   },
   "outputs": [
    {
     "data": {
      "text/plain": [
       "(Art. 52,\n",
       " art. 52- Hostigar, Maltratar, Intimar - CC,\n",
       " Estela Andrea Liotta,\n",
       " artículo 311 del Código Procesal Penal de la Ciudad Autónoma de Buenos Aires,\n",
       " Julio,\n",
       " Silvia Bermúdez,\n",
       " Rivadavia 11248,\n",
       " Marisa Nasimof,\n",
       " Tacuarí 138,\n",
       " Tacuarí 138)"
      ]
     },
     "execution_count": 10,
     "metadata": {},
     "output_type": "execute_result"
    }
   ],
   "source": [
    "doc.ents"
   ]
  },
  {
   "cell_type": "code",
   "execution_count": null,
   "id": "8e97a2d4-79dc-46b1-936c-36a4c7c87aba",
   "metadata": {},
   "outputs": [],
   "source": [
    "{'LOC': 1252, 'DIRECCIÓN': 1493, 'PER': 3729, 'ARTÍCULO': 4174}"
   ]
  },
  {
   "cell_type": "code",
   "execution_count": 22,
   "id": "a1281303-3b01-47aa-b123-c4445af8eefe",
   "metadata": {
    "execution": {
     "iopub.execute_input": "2022-10-19T19:25:37.452017Z",
     "iopub.status.busy": "2022-10-19T19:25:37.451610Z",
     "iopub.status.idle": "2022-10-19T19:25:37.456123Z",
     "shell.execute_reply": "2022-10-19T19:25:37.455720Z",
     "shell.execute_reply.started": "2022-10-19T19:25:37.452002Z"
    },
    "tags": []
   },
   "outputs": [
    {
     "data": {
      "text/html": [
       "<span class=\"tex2jax_ignore\"><div class=\"entities\" style=\"line-height: 2.5; direction: ltr\">JUZGADO DE 1RA INSTANCIA EN LO PENAL CONTRAVENCIONAL Y DE FALTAS N°10   SECRETARÍA UNICA</br>STEISKAL, MATIAS GERARDO EZEQUIEL SOBRE 52 - HOSTIGAR, MALTRATAR, INTIMIDAR (\n",
       "<mark class=\"entity\" style=\"background: red; padding: 0.45em 0.6em; margin: 0 0.25em; line-height: 1; border-radius: 0.35em;\">\n",
       "    Art. 52\n",
       "    <span style=\"font-size: 0.8em; font-weight: bold; line-height: 1; border-radius: 0.35em; vertical-align: middle; margin-left: 0.5rem\">ARTÍCULO</span>\n",
       "</mark>\n",
       " según TC Ley 5666 y modif.)</br>Número: IPP 12601/2018-0</br>CUIJ: IPP J-01-00006941-4/2018-0</br>Actuación Nro: 12772202/2019</br></br>ACTA DE AUDIENCIA</br>“Steiskal Matías Gerardo Ezequiel s/ \n",
       "<mark class=\"entity\" style=\"background: red; padding: 0.45em 0.6em; margin: 0 0.25em; line-height: 1; border-radius: 0.35em;\">\n",
       "    art. 52- Hostigar, Maltratar, Intimar - CC\n",
       "    <span style=\"font-size: 0.8em; font-weight: bold; line-height: 1; border-radius: 0.35em; vertical-align: middle; margin-left: 0.5rem\">ARTÍCULO</span>\n",
       "</mark>\n",
       "”</br>Causa N° 12601/18</br>Fecha: 28 de marzo de 2019</br>Horario de inicio: 13:39 horas.</br></br>Tipo de audiencia: audiencia de control de cumplimiento</br>Juez: Pablo C. Casas, a cargo del Juzgado Penal, Contravencional y de Faltas Nro. 10.</br>Prosecretaria Coadyuvante: \n",
       "<mark class=\"entity\" style=\"background: blue; padding: 0.45em 0.6em; margin: 0 0.25em; line-height: 1; border-radius: 0.35em;\">\n",
       "    Estela Andrea Liotta\n",
       "    <span style=\"font-size: 0.8em; font-weight: bold; line-height: 1; border-radius: 0.35em; vertical-align: middle; margin-left: 0.5rem\">PER</span>\n",
       "</mark>\n",
       ".</br>PARTES PRESENTES</br>Fiscal: Mariela de Minicis, interinamente a cargo de la Fiscalía N° 28, quien participa mediante videoconferencia. </br>Imputado: Steiskal Matías Gerardo Ezequiel, titular del DNI: 29.157.607 </br>Se deja constancia que la presente acta soporte papel tendrá un contenido mínimo y que el registro audiovisual será la constancia de lo que suceda en la presente audiencia.</br>DESARROLLO DE LA AUDIENCIA</br>Juez: Da apertura a la audiencia convocada en los términos del \n",
       "<mark class=\"entity\" style=\"background: red; padding: 0.45em 0.6em; margin: 0 0.25em; line-height: 1; border-radius: 0.35em;\">\n",
       "    artículo 311 del Código Procesal Penal de la Ciudad Autónoma de Buenos Aires\n",
       "    <span style=\"font-size: 0.8em; font-weight: bold; line-height: 1; border-radius: 0.35em; vertical-align: middle; margin-left: 0.5rem\">ARTÍCULO</span>\n",
       "</mark>\n",
       " (en adelante CPPCABA), explicando que la presente tiene por objeto garantizar el derecho del imputado de ser oído respecto de los motivos del incumplimiento de la pauta de conducta impuesta en la presente suspensión del proceso a prueba consistente en realizar el “Taller de Conversaciones de Genero y Cultura” o el “Taller Diálogos sobre Genero y Cultura”.</br>Imputado: STEISKAL MATÍAS GERARDO EZEQUIEL, TITULAR DEL DNI: 29.157.607, argentino, nacido el día 1 de diciembre de 1981 en esta ciudad, de estado civil soltero, con estudios secundarios completos, hijo de \n",
       "<mark class=\"entity\" style=\"background: blue; padding: 0.45em 0.6em; margin: 0 0.25em; line-height: 1; border-radius: 0.35em;\">\n",
       "    Julio\n",
       "    <span style=\"font-size: 0.8em; font-weight: bold; line-height: 1; border-radius: 0.35em; vertical-align: middle; margin-left: 0.5rem\">PER</span>\n",
       "</mark>\n",
       " y \n",
       "<mark class=\"entity\" style=\"background: blue; padding: 0.45em 0.6em; margin: 0 0.25em; line-height: 1; border-radius: 0.35em;\">\n",
       "    Silvia Bermúdez\n",
       "    <span style=\"font-size: 0.8em; font-weight: bold; line-height: 1; border-radius: 0.35em; vertical-align: middle; margin-left: 0.5rem\">PER</span>\n",
       "</mark>\n",
       ", agente federal del ANSES, domiciliado en \n",
       "<mark class=\"entity\" style=\"background: yellow; padding: 0.45em 0.6em; margin: 0 0.25em; line-height: 1; border-radius: 0.35em;\">\n",
       "    Rivadavia 11248\n",
       "    <span style=\"font-size: 0.8em; font-weight: bold; line-height: 1; border-radius: 0.35em; vertical-align: middle; margin-left: 0.5rem\">DIRECCIÓN</span>\n",
       "</mark>\n",
       ", depto. 2º “D” de esta ciudad, donde vive con su madre. Manifiesta que tiene una hija menor a su cargo la cual vive con su ex mujer. Asimismo, dice que sus ingresos mensuales no le alcanzan para cubrir sus necesidades básicas. Tel.: 1523128505. Si bien tiene correo electrónico no se acuerda el mismo. </br>Respecto de los motivos por los cuales no pudo cumplir con la pauta en cuestión, manifiesta que es su deseo que se encuentre el señor defensor. </br>Juez: Le pidió a su defensor que esté presente.</br>Imputado: Refiere que le dijo pero que le respondieron que como no era una obligación asistir a este tipo de audiencias, no concurría a las mismas. </br>Respecto de la pauta en cuestión, refiere que recién en febrero puedo ir a gestionar el turno pero que se presentó y le dieron que el horario del taller es a las 12.00 horas y que por su horario laboral no podía hacerlo. Que le dijeron que esperen para ver si le podían dar un taller más afin a su horario laboral el cual concluye alrededor de las 16.30 horas. Que por un accidente estuvo tres meses con un yeso por una fractura y que no obstante ello, concurrió a ver si podía realizar el taller.</br>Fiscal: Refiere que la cuestión ya fue debatida donde se resolvió, según las constancias de la causa, el mantenimiento del taller en cuestión y también que existe una constancia que da cuenta que existe un horario de 18 a 20 horas, es decir, por fuera de su horario laboral para poder realizar el taller, amén que se dio la posibilidad de hacer otro taller. </br>Imputado: que recién cuando va y se presenta para acordar un día para realizar el taller, le dicen que este taller tiene un horario que es a las 12.00 horas. Que ni siquiera le recibieron el oficio, acompaña la constancia del mismo. Que ni siquiera se lo recibieron porque \n",
       "<mark class=\"entity\" style=\"background: blue; padding: 0.45em 0.6em; margin: 0 0.25em; line-height: 1; border-radius: 0.35em;\">\n",
       "    Marisa Nasimof\n",
       "    <span style=\"font-size: 0.8em; font-weight: bold; line-height: 1; border-radius: 0.35em; vertical-align: middle; margin-left: 0.5rem\">PER</span>\n",
       "</mark>\n",
       " le dijo que para este curso el único horario disponible es a las 12.00 horas. También la nombrada le dijo que se contacte con su defensor para que cambie el curso el cual deberá ser más acorde con su horario de trabajo.</br>Juez: Le explica a la señora Fiscal que la constancia acompañada es el oficio.</br>Fiscal: Entiende que en este caso primero va a corroborar que el taller se realiza en el horario que dijo el imputado. Asimismo, solicita que se remita la causa por el término que puede ser de cinco días para que, de corroborarse lo mencionado por el imputado, pueda coordinar con la Fiscalía y la Oficina de Control otro taller que sea afín al horario laboral del imputado.  </br>Juez: Entiende que en este caso, de conformidad con lo peticionado por la señora Fiscal, le devolverá la presente causa a la Fiscalía, para que en el término de cinco días, pueda corroborar los extremos mencionados por el imputado y de ser así arreglar un nuevo taller para cumplir con la regla en cuestión. Lo que así RESUELVE. </br>Se deja constancia que la señora Fiscal no suscribe la presente audiencia por haber participado mediante videoconferencia.</br>Hora de cierre: 13.50 horas</br></br></br></br></br></br></br></br>Juzgado PCyF Nº 10 - \n",
       "<mark class=\"entity\" style=\"background: yellow; padding: 0.45em 0.6em; margin: 0 0.25em; line-height: 1; border-radius: 0.35em;\">\n",
       "    Tacuarí 138\n",
       "    <span style=\"font-size: 0.8em; font-weight: bold; line-height: 1; border-radius: 0.35em; vertical-align: middle; margin-left: 0.5rem\">DIRECCIÓN</span>\n",
       "</mark>\n",
       ", 7º Piso - juzcyf10@jusbaires.gob.ar - 4014-6821/20 - @jpcyf10</br>Juzgado PCyF Nº 10 - \n",
       "<mark class=\"entity\" style=\"background: yellow; padding: 0.45em 0.6em; margin: 0 0.25em; line-height: 1; border-radius: 0.35em;\">\n",
       "    Tacuarí 138\n",
       "    <span style=\"font-size: 0.8em; font-weight: bold; line-height: 1; border-radius: 0.35em; vertical-align: middle; margin-left: 0.5rem\">DIRECCIÓN</span>\n",
       "</mark>\n",
       ", 7º Piso - juzcyf10@jusbaires.gob.ar - 4014-6821/20 - @jpcyf10</div></span>"
      ],
      "text/plain": [
       "<IPython.core.display.HTML object>"
      ]
     },
     "metadata": {},
     "output_type": "display_data"
    }
   ],
   "source": [
    "colors = {\"ARTÍCULO\": \"red\",\"PER\": \"blue\", \"DIRECCIÓN\":\"yellow\", \"LOC\": \"orange\"  }\n",
    "options = {\"ents\": [\"ARTÍCULO\", \"PER\", \"DIRECCIÓN\", \"LOC\" ], \"colors\": colors}\n",
    "spacy.displacy.render(doc, style='ent', jupyter=True, options=options)"
   ]
  },
  {
   "cell_type": "code",
   "execution_count": null,
   "id": "8f47c300-bda0-45d6-9e4e-7b2b3fec3160",
   "metadata": {},
   "outputs": [],
   "source": []
  }
 ],
 "metadata": {
  "kernelspec": {
   "display_name": "Python 3 (ipykernel)",
   "language": "python",
   "name": "python3"
  },
  "language_info": {
   "codemirror_mode": {
    "name": "ipython",
    "version": 3
   },
   "file_extension": ".py",
   "mimetype": "text/x-python",
   "name": "python",
   "nbconvert_exporter": "python",
   "pygments_lexer": "ipython3",
   "version": "3.10.7"
  }
 },
 "nbformat": 4,
 "nbformat_minor": 5
}
