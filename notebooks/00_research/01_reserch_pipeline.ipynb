{
 "cells": [
  {
   "cell_type": "code",
   "execution_count": null,
   "id": "f25c8d93-bff0-4c6d-8c5a-6bf122537ced",
   "metadata": {
    "tags": []
   },
   "outputs": [],
   "source": [
    "import spacy\n",
    "import json"
   ]
  },
  {
   "cell_type": "code",
   "execution_count": null,
   "id": "65c678c2-6f1f-40bf-aa04-d9d23a881f3f",
   "metadata": {
    "tags": []
   },
   "outputs": [],
   "source": [
    "nlp_ner = spacy.load('/src/ia2/ia2/models/ner/model-best')"
   ]
  },
  {
   "cell_type": "code",
   "execution_count": null,
   "id": "67da7b9e-2f57-41b4-b580-551de7e86e6a",
   "metadata": {
    "tags": []
   },
   "outputs": [],
   "source": [
    "nlp_pipe= spacy.load('/src/ia2/ia2/models/all_pipe_t2v_ner/model-best')"
   ]
  },
  {
   "cell_type": "code",
   "execution_count": null,
   "id": "08e2eef8-6fa0-4284-b90b-bc13a1b862a6",
   "metadata": {
    "tags": []
   },
   "outputs": [],
   "source": [
    "nlp_pipe.pipe_names"
   ]
  },
  {
   "cell_type": "code",
   "execution_count": null,
   "id": "8bb86c16-944b-4610-8c8f-270fe5a8bc7e",
   "metadata": {
    "tags": []
   },
   "outputs": [],
   "source": [
    "nlp_ner.add_pipe('morphologizer', after='tok2vec', source=nlp_pipe)"
   ]
  },
  {
   "cell_type": "code",
   "execution_count": null,
   "id": "920fe2ea-ff01-45cd-8327-cbef0d5443ba",
   "metadata": {
    "tags": []
   },
   "outputs": [],
   "source": [
    "nlp_ner.pipe_names"
   ]
  },
  {
   "cell_type": "code",
   "execution_count": null,
   "id": "5607f570-55d2-4966-b08f-cb1082469b7e",
   "metadata": {
    "tags": []
   },
   "outputs": [],
   "source": [
    "from spacy.pipeline import EntityRuler\n",
    "from ia2.pipeline.entity_ruler import fetch_ruler_patterns_by_tag\n",
    "\n",
    "pipelines_tag = \"todas\"\n",
    "\n",
    "ruler = nlp_ner.add_pipe(\"entity_ruler\", before='ner')\n",
    "ruler.add_patterns(fetch_ruler_patterns_by_tag(pipelines_tag))"
   ]
  },
  {
   "cell_type": "code",
   "execution_count": null,
   "id": "e407d940-77f2-4f4f-9fb0-19bd6b3227e0",
   "metadata": {
    "tags": []
   },
   "outputs": [],
   "source": [
    "nlp_ner.pipe_names"
   ]
  },
  {
   "cell_type": "code",
   "execution_count": null,
   "id": "92fbd3e7-4278-484f-b219-43130baf887f",
   "metadata": {
    "tags": []
   },
   "outputs": [],
   "source": [
    "nlp_ner.get_pipe('ner').labels"
   ]
  },
  {
   "cell_type": "code",
   "execution_count": null,
   "id": "0c3f6380-a7a8-436f-9977-0ad82363243b",
   "metadata": {
    "tags": []
   },
   "outputs": [],
   "source": [
    "nlp_ner.get_pipe('entity_ruler').labels"
   ]
  },
  {
   "cell_type": "code",
   "execution_count": null,
   "id": "2b685a61-fdc6-406c-8ef8-df474c43e81e",
   "metadata": {},
   "outputs": [],
   "source": [
    "nlp_ner.to_disk('/src/ia2/ia2/models/custom_model')"
   ]
  },
  {
   "cell_type": "code",
   "execution_count": null,
   "id": "6c7535f0-0b6f-4ba2-b0d0-6423475e0006",
   "metadata": {
    "tags": []
   },
   "outputs": [],
   "source": [
    "! python -m spacy evaluate /src/ia2/ia2/models/all_pipe_t2v_ner/model-best  /resources/datasets/docbin/test.spacy --output /resources/ouputs/metrics/metics.json --gold-preproc"
   ]
  },
  {
   "cell_type": "code",
   "execution_count": null,
   "id": "d4d95b9a-c131-49b2-ba6e-3f44ccce1a15",
   "metadata": {},
   "outputs": [],
   "source": [
    "! python -m spacy evaluate /src/ia2/ia2/models/custom_model  /resources/datasets/docbin/test.spacy --output /resources/ouputs/metrics/metics.json --gold-preproc"
   ]
  },
  {
   "cell_type": "code",
   "execution_count": null,
   "id": "5b2345e6-eaf8-4549-a63f-32914e4b290b",
   "metadata": {
    "tags": []
   },
   "outputs": [],
   "source": [
    "path_data_testing = '/resources/datasets/unified/test.json'\n",
    "with open(path_data_testing) as f:\n",
    "    testing_data = json.load(f)"
   ]
  },
  {
   "cell_type": "code",
   "execution_count": null,
   "id": "a34004c7-b3f1-4e38-8a75-b97184ffac05",
   "metadata": {
    "tags": []
   },
   "outputs": [],
   "source": [
    "text = testing_data[3][0]\n",
    "doc = nlp_ner(text)"
   ]
  },
  {
   "cell_type": "code",
   "execution_count": null,
   "id": "9ebec6e1-90e0-4ca1-a209-08ae1966f851",
   "metadata": {
    "tags": []
   },
   "outputs": [],
   "source": [
    "doc.ents"
   ]
  },
  {
   "cell_type": "code",
   "execution_count": null,
   "id": "fa2e2c22-61fd-4c29-86ae-574043bb010b",
   "metadata": {
    "tags": []
   },
   "outputs": [],
   "source": [
    "spacy.displacy.render(doc, style='ent', jupyter=True)"
   ]
  },
  {
   "cell_type": "code",
   "execution_count": null,
   "id": "05342c79-a240-4886-9861-206893c3839c",
   "metadata": {},
   "outputs": [],
   "source": []
  }
 ],
 "metadata": {
  "kernelspec": {
   "display_name": "Python 3 (ipykernel)",
   "language": "python",
   "name": "python3"
  },
  "language_info": {
   "codemirror_mode": {
    "name": "ipython",
    "version": 3
   },
   "file_extension": ".py",
   "mimetype": "text/x-python",
   "name": "python",
   "nbconvert_exporter": "python",
   "pygments_lexer": "ipython3",
   "version": "3.10.7"
  }
 },
 "nbformat": 4,
 "nbformat_minor": 5
}
