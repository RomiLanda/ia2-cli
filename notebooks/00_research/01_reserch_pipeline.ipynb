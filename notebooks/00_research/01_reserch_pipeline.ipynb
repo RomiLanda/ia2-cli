{
 "cells": [
  {
   "cell_type": "code",
   "execution_count": 1,
   "id": "f25c8d93-bff0-4c6d-8c5a-6bf122537ced",
   "metadata": {
    "execution": {
     "iopub.execute_input": "2022-10-27T18:13:57.492852Z",
     "iopub.status.busy": "2022-10-27T18:13:57.492473Z",
     "iopub.status.idle": "2022-10-27T18:13:59.919803Z",
     "shell.execute_reply": "2022-10-27T18:13:59.919331Z",
     "shell.execute_reply.started": "2022-10-27T18:13:57.492802Z"
    },
    "tags": []
   },
   "outputs": [],
   "source": [
    "import spacy\n",
    "import json"
   ]
  },
  {
   "cell_type": "code",
   "execution_count": 2,
   "id": "65c678c2-6f1f-40bf-aa04-d9d23a881f3f",
   "metadata": {
    "execution": {
     "iopub.execute_input": "2022-10-27T18:14:00.262920Z",
     "iopub.status.busy": "2022-10-27T18:14:00.262154Z",
     "iopub.status.idle": "2022-10-27T18:14:01.155540Z",
     "shell.execute_reply": "2022-10-27T18:14:01.155042Z",
     "shell.execute_reply.started": "2022-10-27T18:14:00.262861Z"
    },
    "tags": []
   },
   "outputs": [],
   "source": [
    "nlp_ner = spacy.load('/src/ia2/ia2/models/ner/model-best')"
   ]
  },
  {
   "cell_type": "code",
   "execution_count": 3,
   "id": "67da7b9e-2f57-41b4-b580-551de7e86e6a",
   "metadata": {
    "execution": {
     "iopub.execute_input": "2022-10-27T18:14:04.662080Z",
     "iopub.status.busy": "2022-10-27T18:14:04.661881Z",
     "iopub.status.idle": "2022-10-27T18:14:05.447135Z",
     "shell.execute_reply": "2022-10-27T18:14:05.446687Z",
     "shell.execute_reply.started": "2022-10-27T18:14:04.662065Z"
    },
    "tags": []
   },
   "outputs": [],
   "source": [
    "nlp_pipe= spacy.load('/src/ia2/ia2/models/all_pipe_t2v_ner/model-best')"
   ]
  },
  {
   "cell_type": "code",
   "execution_count": 4,
   "id": "08e2eef8-6fa0-4284-b90b-bc13a1b862a6",
   "metadata": {
    "execution": {
     "iopub.execute_input": "2022-10-27T18:14:06.045902Z",
     "iopub.status.busy": "2022-10-27T18:14:06.045652Z",
     "iopub.status.idle": "2022-10-27T18:14:06.053075Z",
     "shell.execute_reply": "2022-10-27T18:14:06.052054Z",
     "shell.execute_reply.started": "2022-10-27T18:14:06.045885Z"
    },
    "tags": []
   },
   "outputs": [
    {
     "data": {
      "text/plain": [
       "['tok2vec', 'morphologizer', 'parser', 'ner', 'attribute_ruler', 'lemmatizer']"
      ]
     },
     "execution_count": 4,
     "metadata": {},
     "output_type": "execute_result"
    }
   ],
   "source": [
    "nlp_pipe.pipe_names"
   ]
  },
  {
   "cell_type": "code",
   "execution_count": 5,
   "id": "8bb86c16-944b-4610-8c8f-270fe5a8bc7e",
   "metadata": {
    "execution": {
     "iopub.execute_input": "2022-10-27T18:14:07.605828Z",
     "iopub.status.busy": "2022-10-27T18:14:07.605599Z",
     "iopub.status.idle": "2022-10-27T18:14:09.440631Z",
     "shell.execute_reply": "2022-10-27T18:14:09.440145Z",
     "shell.execute_reply.started": "2022-10-27T18:14:07.605811Z"
    },
    "tags": []
   },
   "outputs": [
    {
     "data": {
      "text/plain": [
       "<spacy.pipeline.morphologizer.Morphologizer at 0x7f044519fc40>"
      ]
     },
     "execution_count": 5,
     "metadata": {},
     "output_type": "execute_result"
    }
   ],
   "source": [
    "nlp_ner.add_pipe('morphologizer', after='tok2vec', source=nlp_pipe)"
   ]
  },
  {
   "cell_type": "code",
   "execution_count": 6,
   "id": "920fe2ea-ff01-45cd-8327-cbef0d5443ba",
   "metadata": {
    "execution": {
     "iopub.execute_input": "2022-10-27T18:14:10.501648Z",
     "iopub.status.busy": "2022-10-27T18:14:10.501425Z",
     "iopub.status.idle": "2022-10-27T18:14:10.505453Z",
     "shell.execute_reply": "2022-10-27T18:14:10.504846Z",
     "shell.execute_reply.started": "2022-10-27T18:14:10.501630Z"
    },
    "tags": []
   },
   "outputs": [
    {
     "data": {
      "text/plain": [
       "['tok2vec', 'morphologizer', 'ner']"
      ]
     },
     "execution_count": 6,
     "metadata": {},
     "output_type": "execute_result"
    }
   ],
   "source": [
    "nlp_ner.pipe_names"
   ]
  },
  {
   "cell_type": "code",
   "execution_count": 7,
   "id": "5607f570-55d2-4966-b08f-cb1082469b7e",
   "metadata": {
    "execution": {
     "iopub.execute_input": "2022-10-27T18:14:15.445003Z",
     "iopub.status.busy": "2022-10-27T18:14:15.444766Z",
     "iopub.status.idle": "2022-10-27T18:14:15.462820Z",
     "shell.execute_reply": "2022-10-27T18:14:15.462290Z",
     "shell.execute_reply.started": "2022-10-27T18:14:15.444984Z"
    },
    "tags": []
   },
   "outputs": [],
   "source": [
    "from spacy.pipeline import EntityRuler\n",
    "from ia2.pipeline.entity_ruler import fetch_ruler_patterns_by_tag\n",
    "\n",
    "pipelines_tag = \"todas\"\n",
    "\n",
    "ruler = nlp_ner.add_pipe(\"entity_ruler\", after='ner')\n",
    "ruler.add_patterns(fetch_ruler_patterns_by_tag(pipelines_tag))"
   ]
  },
  {
   "cell_type": "code",
   "execution_count": 8,
   "id": "e407d940-77f2-4f4f-9fb0-19bd6b3227e0",
   "metadata": {
    "execution": {
     "iopub.execute_input": "2022-10-27T18:14:19.230772Z",
     "iopub.status.busy": "2022-10-27T18:14:19.230238Z",
     "iopub.status.idle": "2022-10-27T18:14:19.233834Z",
     "shell.execute_reply": "2022-10-27T18:14:19.233398Z",
     "shell.execute_reply.started": "2022-10-27T18:14:19.230752Z"
    },
    "tags": []
   },
   "outputs": [
    {
     "data": {
      "text/plain": [
       "['tok2vec', 'morphologizer', 'ner', 'entity_ruler']"
      ]
     },
     "execution_count": 8,
     "metadata": {},
     "output_type": "execute_result"
    }
   ],
   "source": [
    "nlp_ner.pipe_names"
   ]
  },
  {
   "cell_type": "code",
   "execution_count": 9,
   "id": "92fbd3e7-4278-484f-b219-43130baf887f",
   "metadata": {
    "execution": {
     "iopub.execute_input": "2022-10-27T18:14:20.100268Z",
     "iopub.status.busy": "2022-10-27T18:14:20.099967Z",
     "iopub.status.idle": "2022-10-27T18:14:20.103467Z",
     "shell.execute_reply": "2022-10-27T18:14:20.103128Z",
     "shell.execute_reply.started": "2022-10-27T18:14:20.100249Z"
    },
    "tags": []
   },
   "outputs": [
    {
     "data": {
      "text/plain": [
       "('ARTÍCULO', 'DIRECCIÓN', 'LOC', 'PER')"
      ]
     },
     "execution_count": 9,
     "metadata": {},
     "output_type": "execute_result"
    }
   ],
   "source": [
    "nlp_ner.get_pipe('ner').labels"
   ]
  },
  {
   "cell_type": "code",
   "execution_count": 10,
   "id": "0c3f6380-a7a8-436f-9977-0ad82363243b",
   "metadata": {
    "execution": {
     "iopub.execute_input": "2022-10-27T18:14:24.079136Z",
     "iopub.status.busy": "2022-10-27T18:14:24.078709Z",
     "iopub.status.idle": "2022-10-27T18:14:24.083444Z",
     "shell.execute_reply": "2022-10-27T18:14:24.083030Z",
     "shell.execute_reply.started": "2022-10-27T18:14:24.079116Z"
    },
    "tags": []
   },
   "outputs": [
    {
     "data": {
      "text/plain": [
       "('BANCO',\n",
       " 'CBU',\n",
       " 'CORREO_ELECTRÓNICO',\n",
       " 'ESTUDIOS',\n",
       " 'FECHA',\n",
       " 'FECHA_NUMÉRICA',\n",
       " 'LEY',\n",
       " 'LINK',\n",
       " 'MARCA_AUTOMÓVIL',\n",
       " 'NACIONALIDAD',\n",
       " 'NOMBRE_ARCHIVO',\n",
       " 'NUM_CUIJ',\n",
       " 'NUM_CUIT_CUIL',\n",
       " 'NUM_DNI',\n",
       " 'NUM_IP',\n",
       " 'NUM_TELÉFONO',\n",
       " 'PASAPORTE',\n",
       " 'PATENTE_DOMINIO',\n",
       " 'USUARIX')"
      ]
     },
     "execution_count": 10,
     "metadata": {},
     "output_type": "execute_result"
    }
   ],
   "source": [
    "nlp_ner.get_pipe('entity_ruler').labels"
   ]
  },
  {
   "cell_type": "code",
   "execution_count": null,
   "id": "693acf15-43bc-488b-9375-d14c23c24245",
   "metadata": {},
   "outputs": [],
   "source": [
    "nlp_ner"
   ]
  },
  {
   "cell_type": "code",
   "execution_count": null,
   "id": "5f089bcc-5eaa-4382-b572-bc8602f4c744",
   "metadata": {},
   "outputs": [],
   "source": []
  },
  {
   "cell_type": "code",
   "execution_count": null,
   "id": "2b685a61-fdc6-406c-8ef8-df474c43e81e",
   "metadata": {
    "tags": []
   },
   "outputs": [],
   "source": [
    "nlp_ner.to_disk('/src/ia2/ia2/models/custom_model_v2')"
   ]
  },
  {
   "cell_type": "code",
   "execution_count": null,
   "id": "6c7535f0-0b6f-4ba2-b0d0-6423475e0006",
   "metadata": {
    "tags": []
   },
   "outputs": [],
   "source": [
    "! python -m spacy evaluate /src/ia2/ia2/models/all_pipe_t2v_ner/model-best  /resources/datasets/docbin/test.spacy --output /resources/ouputs/metrics/metics.json --gold-preproc"
   ]
  },
  {
   "cell_type": "code",
   "execution_count": null,
   "id": "d4d95b9a-c131-49b2-ba6e-3f44ccce1a15",
   "metadata": {},
   "outputs": [],
   "source": [
    "! python -m spacy evaluate /src/ia2/ia2/models/custom_model_v2  /resources/datasets/docbin/test.spacy --output /resources/ouputs/metrics/metics_v2.json --gold-preproc"
   ]
  },
  {
   "cell_type": "code",
   "execution_count": null,
   "id": "5b2345e6-eaf8-4549-a63f-32914e4b290b",
   "metadata": {
    "tags": []
   },
   "outputs": [],
   "source": [
    "path_data_testing = '/resources/datasets/unified/test.json'\n",
    "with open(path_data_testing) as f:\n",
    "    testing_data = json.load(f)"
   ]
  },
  {
   "cell_type": "code",
   "execution_count": null,
   "id": "a34004c7-b3f1-4e38-8a75-b97184ffac05",
   "metadata": {
    "tags": []
   },
   "outputs": [],
   "source": [
    "text = testing_data[3][0]\n",
    "doc = nlp_ner(text)"
   ]
  },
  {
   "cell_type": "code",
   "execution_count": null,
   "id": "9ebec6e1-90e0-4ca1-a209-08ae1966f851",
   "metadata": {
    "tags": []
   },
   "outputs": [],
   "source": [
    "doc.ents"
   ]
  },
  {
   "cell_type": "code",
   "execution_count": null,
   "id": "fa2e2c22-61fd-4c29-86ae-574043bb010b",
   "metadata": {
    "tags": []
   },
   "outputs": [],
   "source": [
    "spacy.displacy.render(doc, style='ent', jupyter=True)"
   ]
  },
  {
   "cell_type": "code",
   "execution_count": null,
   "id": "05342c79-a240-4886-9861-206893c3839c",
   "metadata": {},
   "outputs": [],
   "source": []
  }
 ],
 "metadata": {
  "kernelspec": {
   "display_name": "Python 3 (ipykernel)",
   "language": "python",
   "name": "python3"
  },
  "language_info": {
   "codemirror_mode": {
    "name": "ipython",
    "version": 3
   },
   "file_extension": ".py",
   "mimetype": "text/x-python",
   "name": "python",
   "nbconvert_exporter": "python",
   "pygments_lexer": "ipython3",
   "version": "3.10.7"
  }
 },
 "nbformat": 4,
 "nbformat_minor": 5
}
